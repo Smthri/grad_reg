{
 "cells": [
  {
   "cell_type": "code",
   "execution_count": 1,
   "metadata": {},
   "outputs": [],
   "source": [
    "import torch\n",
    "import torchvision\n",
    "import torchvision.transforms as transforms\n",
    "import numpy as np\n",
    "from matplotlib import pyplot as plt\n",
    "%matplotlib inline\n",
    "\n",
    "from model import Net\n",
    "from custom_transforms import QuantizeBatch\n",
    "\n",
    "from torch.utils.tensorboard import SummaryWriter"
   ]
  },
  {
   "cell_type": "code",
   "execution_count": 2,
   "metadata": {},
   "outputs": [],
   "source": [
    "transform = transforms.Compose([\n",
    "    transforms.ToTensor(),\n",
    "    transforms.Normalize((.5,), (.5,))\n",
    "])\n",
    "\n",
    "BATCH_SIZE=64\n",
    "\n",
    "testset = torchvision.datasets.KMNIST(root='./data', train=False,\n",
    "                                       download=True, transform=transform)\n",
    "testloader = torch.utils.data.DataLoader(testset, batch_size=BATCH_SIZE,\n",
    "                                         shuffle=False, num_workers=2)\n",
    "\n",
    "classes = ('plane', 'car', 'bird', 'cat',\n",
    "           'deer', 'dog', 'frog', 'horse', 'ship', 'truck')"
   ]
  },
  {
   "cell_type": "code",
   "execution_count": 3,
   "metadata": {},
   "outputs": [
    {
     "name": "stdout",
     "output_type": "stream",
     "text": [
      "re_param: 100.0\n",
      "re_param: 0.0\n",
      "Net(\n",
      "  (conv1): Conv2d(1, 6, kernel_size=(5, 5), stride=(1, 1))\n",
      "  (bn1): BatchNorm2d(6, eps=1e-05, momentum=0.1, affine=True, track_running_stats=True)\n",
      "  (pool): MaxPool2d(kernel_size=2, stride=2, padding=0, dilation=1, ceil_mode=False)\n",
      "  (conv2): Conv2d(6, 16, kernel_size=(5, 5), stride=(1, 1))\n",
      "  (bn2): BatchNorm2d(16, eps=1e-05, momentum=0.1, affine=True, track_running_stats=True)\n",
      "  (fc1): Linear(in_features=256, out_features=120, bias=True)\n",
      "  (fc2): Linear(in_features=120, out_features=10, bias=True)\n",
      "  (act): Softmax(dim=-1)\n",
      ")\n"
     ]
    }
   ],
   "source": [
    "lmbda = 100.\n",
    "net_protected = Net(reg_param=lmbda)\n",
    "net_protected.load(name=f'q_kmnist_lambda{lmbda}')\n",
    "net_protected.eval()\n",
    "\n",
    "net = Net(reg_param=0.)\n",
    "net.load(name=f'kmnist_lambda100.0')\n",
    "net.eval()\n",
    "print(net)"
   ]
  },
  {
   "cell_type": "code",
   "execution_count": 4,
   "metadata": {},
   "outputs": [],
   "source": [
    "def fgsm_attack(image, epsilon, data_grad):\n",
    "    # Collect the element-wise sign of the data gradient\n",
    "    sign_data_grad = data_grad.sign()\n",
    "    # Create the perturbed image by adjusting each pixel of the input image\n",
    "    perturbed_image = image + epsilon*sign_data_grad\n",
    "    # Adding clipping to maintain [0,1] range\n",
    "    #perturbed_image = torch.clamp(perturbed_image, 0, 1)\n",
    "    # Return the perturbed image\n",
    "    return perturbed_image\n",
    "\n",
    "def test_attack( model, model_protected, test_loader, epsilon, defense=False, epoch=0):\n",
    "\n",
    "    # Accuracy counter\n",
    "    correct = 0\n",
    "    total = 0\n",
    "    adv_examples = []\n",
    "\n",
    "    # Loop over all examples in test set\n",
    "    for data, target in test_loader:\n",
    "\n",
    "        # Send the data and label to the device\n",
    "        data, target = data.to(model.device), target.to(model.device)\n",
    "\n",
    "        # Set requires_grad attribute of tensor. Important for Attack\n",
    "        data.requires_grad = True\n",
    "\n",
    "        # Forward pass the data through the model\n",
    "        output = model_protected(data)\n",
    "        init_pred = torch.argmax(output, axis=1)\n",
    "        #init_pred = output.max(1, keepdim=True)[1] # get the index of the max log-probability\n",
    "        # If the initial prediction is wrong, dont bother attacking, just move on\n",
    "        #if init_pred.item() != target.item():\n",
    "            #continue\n",
    "\n",
    "        output = model(data)\n",
    "            \n",
    "        # Calculate the loss\n",
    "        loss = model.loss_fn(output, target, data, regularize_grads=False)\n",
    "\n",
    "        # Zero all existing gradients\n",
    "        model.zero_grad()\n",
    "\n",
    "        # Calculate gradients of model in backward pass\n",
    "        loss.backward()\n",
    "\n",
    "        # Collect datagrad\n",
    "        data_grad = data.grad.data\n",
    "\n",
    "        # Call FGSM Attack\n",
    "        #perturbed_data = data\n",
    "        perturbed_data = fgsm_attack(data, epsilon, data_grad)\n",
    "        \n",
    "        if defense:\n",
    "            perturbed_data = QuantizeBatch(perturbed_data)\n",
    "\n",
    "        # Re-classify the perturbed image\n",
    "        output = model_protected(perturbed_data)\n",
    "\n",
    "        # Check for success\n",
    "        final_pred = torch.argmax(output, axis=1)\n",
    "        #final_pred = output.max(1, keepdim=True)[1] # get the index of the max log-probability\n",
    "        \n",
    "        correct += (final_pred[init_pred == target] == init_pred[init_pred == target]).float().sum()\n",
    "        total += final_pred.shape[0]\n",
    "        '''if final_pred.item() == target.item():\n",
    "            correct += 1\n",
    "            # Special case for saving 0 epsilon examples\n",
    "            if (epsilon == 0) and (len(adv_examples) < 5):\n",
    "                adv_ex = perturbed_data.squeeze().detach().cpu().numpy()\n",
    "                data_ex = data.squeeze().detach().cpu().numpy()\n",
    "                adv_examples.append( (init_pred.item(), final_pred.item(), adv_ex, data_ex) )\n",
    "        else:\n",
    "            # Save some adv examples for visualization later\n",
    "            if len(adv_examples) < 5:\n",
    "                adv_ex = perturbed_data.squeeze().detach().cpu().numpy()\n",
    "                data_ex = data.squeeze().detach().cpu().numpy()\n",
    "                adv_examples.append( (init_pred.item(), final_pred.item(), adv_ex, data_ex) )'''\n",
    "\n",
    "    # Calculate final accuracy for this epsilon\n",
    "    final_acc = correct/total\n",
    "    #final_acc = correct/float(len(test_loader))\n",
    "    print(\"Epsilon: {}\\tTest Accuracy = {} / {} = {:.4f}\".format(epsilon, correct, total, final_acc))\n",
    "\n",
    "    # Return the accuracy and an adversarial example\n",
    "    return final_acc, adv_examples\n",
    "\n",
    "def test(net, dataloader):\n",
    "    correct = 0.\n",
    "    total = 0.\n",
    "    loss = 0.\n",
    "    with torch.no_grad():\n",
    "        for data in dataloader:\n",
    "            images, labels = data[0].to(net.device), data[1].to(net.device)\n",
    "            outputs = net(images)\n",
    "            run_loss = net.loss_fn(outputs, labels, images, regularize_grads=False).item()\n",
    "            loss += run_loss\n",
    "            _, predicted = torch.max(outputs.data, 1)\n",
    "            total += labels.size(0)\n",
    "            run_acc = (predicted == labels).sum().item()\n",
    "            correct += run_acc\n",
    "\n",
    "    return correct / total * 100, loss / len(dataloader)"
   ]
  },
  {
   "cell_type": "code",
   "execution_count": 5,
   "metadata": {},
   "outputs": [
    {
     "name": "stdout",
     "output_type": "stream",
     "text": [
      "Epsilon: 0.1\tTest Accuracy = 8633.0 / 10000 = 0.8633\n",
      "Epsilon: 0.2\tTest Accuracy = 6877.0 / 10000 = 0.6877\n",
      "Epsilon: 0.3\tTest Accuracy = 4503.0 / 10000 = 0.4503\n",
      "Epsilon: 0.4\tTest Accuracy = 2396.0 / 10000 = 0.2396\n",
      "Epsilon: 0.5\tTest Accuracy = 1234.0 / 10000 = 0.1234\n",
      "Epsilon: 0.6\tTest Accuracy = 652.0 / 10000 = 0.0652\n",
      "Epsilon: 0.7\tTest Accuracy = 396.0 / 10000 = 0.0396\n",
      "Epsilon: 0.8\tTest Accuracy = 296.0 / 10000 = 0.0296\n",
      "Epsilon: 0.9\tTest Accuracy = 261.0 / 10000 = 0.0261\n"
     ]
    },
    {
     "data": {
      "text/plain": [
       "'Epsilon: 0.1\\tTest Accuracy = 8217.0 / 10000 = 0.8217\\nEpsilon: 0.2\\tTest Accuracy = 5249.0 / 10000 = 0.5249\\nEpsilon: 0.5\\tTest Accuracy = 339.0 / 10000 = 0.0339\\nEpsilon: 0.9\\tTest Accuracy = 172.0 / 10000 = 0.0172'"
      ]
     },
     "execution_count": 5,
     "metadata": {},
     "output_type": "execute_result"
    }
   ],
   "source": [
    "reg_vs_regtrained_accuracies = []\n",
    "reg_vs_regtrained_examples = []\n",
    "\n",
    "epsilons = [0.1, 0.2, 0.3, 0.4, 0.5, 0.6, 0.7, 0.8, 0.9]\n",
    "\n",
    "# Run test for each epsilon\n",
    "for eps in epsilons:\n",
    "    acc, ex = test_attack(net, net_protected, testloader, eps)\n",
    "    reg_vs_regtrained_accuracies.append(acc)\n",
    "    reg_vs_regtrained_examples.append(ex)\n",
    "\n",
    "'''Epsilon: 0.1\tTest Accuracy = 8217.0 / 10000 = 0.8217\n",
    "Epsilon: 0.2\tTest Accuracy = 5249.0 / 10000 = 0.5249\n",
    "Epsilon: 0.5\tTest Accuracy = 339.0 / 10000 = 0.0339\n",
    "Epsilon: 0.9\tTest Accuracy = 172.0 / 10000 = 0.0172'''"
   ]
  },
  {
   "cell_type": "code",
   "execution_count": 6,
   "metadata": {},
   "outputs": [
    {
     "name": "stdout",
     "output_type": "stream",
     "text": [
      "With defense:\n",
      "Epsilon: 0.1\tTest Accuracy = 8986.0 / 10000 = 0.8986\n",
      "Epsilon: 0.2\tTest Accuracy = 8297.0 / 10000 = 0.8297\n",
      "Epsilon: 0.3\tTest Accuracy = 7404.0 / 10000 = 0.7404\n",
      "Epsilon: 0.4\tTest Accuracy = 6325.0 / 10000 = 0.6325\n",
      "Epsilon: 0.5\tTest Accuracy = 5269.0 / 10000 = 0.5269\n",
      "Epsilon: 0.6\tTest Accuracy = 4238.0 / 10000 = 0.4238\n",
      "Epsilon: 0.7\tTest Accuracy = 3343.0 / 10000 = 0.3343\n",
      "Epsilon: 0.8\tTest Accuracy = 2516.0 / 10000 = 0.2516\n",
      "Epsilon: 0.9\tTest Accuracy = 1752.0 / 10000 = 0.1752\n"
     ]
    },
    {
     "data": {
      "text/plain": [
       "'Epsilon: 0.1\\tTest Accuracy = 8992.0 / 10000 = 0.8992\\nEpsilon: 0.2\\tTest Accuracy = 8016.0 / 10000 = 0.8016\\nEpsilon: 0.5\\tTest Accuracy = 3950.0 / 10000 = 0.3950\\nEpsilon: 0.9\\tTest Accuracy = 885.0 / 10000 = 0.0885'"
      ]
     },
     "execution_count": 6,
     "metadata": {},
     "output_type": "execute_result"
    }
   ],
   "source": [
    "reg_vs_qregtrained_accuracies = []\n",
    "reg_vs_qregtrained_examples = []\n",
    "print('With defense:')\n",
    "for eps in epsilons:\n",
    "    acc, ex = test_attack(net, net_protected, testloader, eps, defense=True)\n",
    "    reg_vs_qregtrained_accuracies.append(acc)\n",
    "    reg_vs_qregtrained_examples.append(ex)\n",
    "    \n",
    "'''Epsilon: 0.1\tTest Accuracy = 8992.0 / 10000 = 0.8992\n",
    "Epsilon: 0.2\tTest Accuracy = 8016.0 / 10000 = 0.8016\n",
    "Epsilon: 0.5\tTest Accuracy = 3950.0 / 10000 = 0.3950\n",
    "Epsilon: 0.9\tTest Accuracy = 885.0 / 10000 = 0.0885'''"
   ]
  },
  {
   "cell_type": "code",
   "execution_count": 7,
   "metadata": {},
   "outputs": [],
   "source": [
    "from skimage.io import imsave, imread\n",
    "SAVE_IMAGES=False\n",
    "\n",
    "if SAVE_IMAGES:\n",
    "    for i, eps in enumerate(epsilons):\n",
    "        for j in range(5):\n",
    "            orig, adv, ex, clean = examples[i][j]\n",
    "            img = ex\n",
    "            img -= np.min(img)\n",
    "            img /= np.max(img)\n",
    "            imsave(f'kmnist_filtered_examples/{eps}/{j+1}/adversarial.png', (img * 255).astype(np.uint8))\n",
    "            img = clean\n",
    "            img -= np.min(img)\n",
    "            img /= np.max(img)\n",
    "            imsave(f'kmnist_filtered_examples/{eps}/{j+1}/clean.png', (img * 255).astype(np.uint8))\n",
    "            img = (ex - clean)\n",
    "            img -= np.min(img)\n",
    "            img /= np.max(img)\n",
    "            imsave(f'kmnist_filtered_examples/{eps}/{j+1}/diff.png', (img * 255).astype(np.uint8))"
   ]
  },
  {
   "cell_type": "code",
   "execution_count": 8,
   "metadata": {},
   "outputs": [
    {
     "data": {
      "text/plain": [
       "\"fig = plt.figure(figsize=(15, 7))\\n\\neps_ind, ex_ind = 0, 1\\ndataset = 'kmnist_filtered_examples'\\nex = imread(f'{dataset}/{epsilons[eps_ind]}/{ex_ind}/adversarial.png')\\nex = ex / 255.\\nclean = imread(f'{dataset}/{epsilons[eps_ind]}/{ex_ind}/clean.png')\\nclean = clean / 255.\\ndiff = imread(f'{dataset}/{epsilons[eps_ind]}/{ex_ind}/diff.png')\\ndiff = diff / 255.\\n\\nax = fig.add_subplot(1, 3, 1)\\nplt.imshow(ex)\\nax.set_title('adversarial')\\n\\nax = fig.add_subplot(1, 3, 2)\\nplt.imshow(clean)\\nax.set_title('clean')\\n\\nax = fig.add_subplot(1, 3, 3)\\nplt.imshow(diff)\\nax.set_title('diff')\""
      ]
     },
     "execution_count": 8,
     "metadata": {},
     "output_type": "execute_result"
    }
   ],
   "source": [
    "#acc, ex = test(net, testloader)\n",
    "'''fig = plt.figure(figsize=(15, 7))\n",
    "\n",
    "eps_ind, ex_ind = 0, 1\n",
    "dataset = 'kmnist_filtered_examples'\n",
    "ex = imread(f'{dataset}/{epsilons[eps_ind]}/{ex_ind}/adversarial.png')\n",
    "ex = ex / 255.\n",
    "clean = imread(f'{dataset}/{epsilons[eps_ind]}/{ex_ind}/clean.png')\n",
    "clean = clean / 255.\n",
    "diff = imread(f'{dataset}/{epsilons[eps_ind]}/{ex_ind}/diff.png')\n",
    "diff = diff / 255.\n",
    "\n",
    "ax = fig.add_subplot(1, 3, 1)\n",
    "plt.imshow(ex)\n",
    "ax.set_title('adversarial')\n",
    "\n",
    "ax = fig.add_subplot(1, 3, 2)\n",
    "plt.imshow(clean)\n",
    "ax.set_title('clean')\n",
    "\n",
    "ax = fig.add_subplot(1, 3, 3)\n",
    "plt.imshow(diff)\n",
    "ax.set_title('diff')'''"
   ]
  },
  {
   "cell_type": "code",
   "execution_count": 9,
   "metadata": {},
   "outputs": [
    {
     "data": {
      "image/png": "[encoded data removed]",
      "text/plain": [
       "<Figure size 720x360 with 1 Axes>"
      ]
     },
     "metadata": {
      "needs_background": "light"
     },
     "output_type": "display_data"
    }
   ],
   "source": [
    "fig = plt.figure(figsize=(10, 5))\n",
    "\n",
    "#ax = fig.add_subplot(1, 2, 1)\n",
    "plt.xlabel('epsilons')\n",
    "plt.ylabel('Accuracy')\n",
    "plt.plot(epsilons, reg_vs_regtrained_accuracies if reg_vs_regtrained_accuracies else np.loadtxt('reg_vs_regtrained.txt'), label='Regularized model')\n",
    "plt.plot(epsilons, reg_vs_qregtrained_accuracies if reg_vs_qregtrained_accuracies else np.loadtxt('reg_vs_qregtrained.txt'), label='Filtered samples and Regularized model')\n",
    "plt.legend()\n",
    "\n",
    "plt.savefig('reg_vs_regtrained_and_qregtrained.png')"
   ]
  },
  {
   "cell_type": "code",
   "execution_count": 10,
   "metadata": {},
   "outputs": [],
   "source": [
    "SAVE = True\n",
    "\n",
    "if SAVE:\n",
    "    np.savetxt('epsilons.txt', np.array(epsilons))\n",
    "    np.savetxt('reg_vs_regtrained.txt', np.array(reg_vs_regtrained_accuracies))\n",
    "    np.savetxt('reg_vs_qregtrained.txt', np.array(reg_vs_qregtrained_accuracies))"
   ]
  },
  {
   "cell_type": "code",
   "execution_count": null,
   "metadata": {},
   "outputs": [],
   "source": []
  },
  {
   "cell_type": "code",
   "execution_count": null,
   "metadata": {},
   "outputs": [],
   "source": []
  }
 ],
 "metadata": {
  "kernelspec": {
   "display_name": "Python 3",
   "language": "python",
   "name": "python3"
  },
  "language_info": {
   "codemirror_mode": {
    "name": "ipython",
    "version": 3
   },
   "file_extension": ".py",
   "mimetype": "text/x-python",
   "name": "python",
   "nbconvert_exporter": "python",
   "pygments_lexer": "ipython3",
   "version": "3.7.7"
  }
 },
 "nbformat": 4,
 "nbformat_minor": 4
}
