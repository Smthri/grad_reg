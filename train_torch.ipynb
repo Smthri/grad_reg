{
 "cells": [
  {
   "cell_type": "code",
   "execution_count": 1,
   "metadata": {},
   "outputs": [
    {
     "data": {
      "text/plain": [
       "'1.7.1'"
      ]
     },
     "execution_count": 1,
     "metadata": {},
     "output_type": "execute_result"
    }
   ],
   "source": [
    "import torch\n",
    "import torchvision\n",
    "import torchvision.transforms as transforms\n",
    "import numpy as np\n",
    "from matplotlib import pyplot as plt\n",
    "import torch.nn as nn\n",
    "import torch.nn.functional as F\n",
    "import torch.optim as optim\n",
    "from tqdm import tqdm\n",
    "import os\n",
    "import torchvision.models as tmodels\n",
    "from termcolor import colored\n",
    "from torch.utils.tensorboard import SummaryWriter\n",
    "%matplotlib inline\n",
    "torch.__version__"
   ]
  },
  {
   "cell_type": "code",
   "execution_count": 2,
   "metadata": {},
   "outputs": [
    {
     "name": "stdout",
     "output_type": "stream",
     "text": [
      "Files already downloaded and verified\n",
      "Files already downloaded and verified\n"
     ]
    }
   ],
   "source": [
    "#data\n",
    "transform = transforms.Compose([\n",
    "    transforms.ToTensor(),\n",
    "    transforms.Normalize((.5, .5, .5), (.5, .5, .5))\n",
    "])\n",
    "\n",
    "BATCH_SIZE=32\n",
    "\n",
    "trainset = torchvision.datasets.CIFAR10(root='./data', train=True,\n",
    "                                        download=True, transform=transform)\n",
    "train_subset, val_subset = torch.utils.data.random_split(trainset, [40000, 10000])\n",
    "\n",
    "trainloader = torch.utils.data.DataLoader(train_subset, batch_size=BATCH_SIZE,\n",
    "                                          shuffle=True, num_workers=2)\n",
    "valloader = torch.utils.data.DataLoader(val_subset, batch_size=BATCH_SIZE,\n",
    "                                          shuffle=True, num_workers=2)\n",
    "\n",
    "testset = torchvision.datasets.CIFAR10(root='./data', train=False,\n",
    "                                       download=True, transform=transform)\n",
    "testloader = torch.utils.data.DataLoader(testset, batch_size=BATCH_SIZE,\n",
    "                                         shuffle=False, num_workers=2)\n",
    "\n",
    "classes = ('plane', 'car', 'bird', 'cat',\n",
    "           'deer', 'dog', 'frog', 'horse', 'ship', 'truck')"
   ]
  },
  {
   "cell_type": "code",
   "execution_count": 3,
   "metadata": {},
   "outputs": [
    {
     "name": "stdout",
     "output_type": "stream",
     "text": [
      "re_param: 1.0\n",
      "Net(\n",
      "  (conv1): Conv2d(3, 6, kernel_size=(5, 5), stride=(1, 1))\n",
      "  (bn1): BatchNorm2d(6, eps=1e-05, momentum=0.1, affine=True, track_running_stats=True)\n",
      "  (pool): MaxPool2d(kernel_size=2, stride=2, padding=0, dilation=1, ceil_mode=False)\n",
      "  (conv2): Conv2d(6, 16, kernel_size=(5, 5), stride=(1, 1))\n",
      "  (bn2): BatchNorm2d(16, eps=1e-05, momentum=0.1, affine=True, track_running_stats=True)\n",
      "  (fc1): Linear(in_features=400, out_features=120, bias=True)\n",
      "  (fc2): Linear(in_features=120, out_features=10, bias=True)\n",
      "  (act): Softmax(dim=-1)\n",
      ")\n"
     ]
    }
   ],
   "source": [
    "from model import Net\n",
    "net = Net(reg_param=1.)\n",
    "\n",
    "print(net)\n",
    "\n",
    "def train(epochs):\n",
    "    min_acc = -np.inf\n",
    "    epoch_losses = []\n",
    "    epoch_accs = []\n",
    "    writer = SummaryWriter()\n",
    "    for epoch in range(epochs):  # loop over the dataset multiple times\n",
    "\n",
    "        epoch_loss = 0.0\n",
    "        epoch_acc = 0.\n",
    "        val_acc = -np.inf\n",
    "        val_loss = np.inf\n",
    "        total = 0\n",
    "        pbar = tqdm(enumerate(trainloader, 0))\n",
    "        for i, data in pbar:\n",
    "            # get the inputs; data is a list of [inputs, labels]\n",
    "            inputs, labels = data[0].to(net.device), data[1].to(net.device)\n",
    "            inputs.requires_grad_(requires_grad=True)\n",
    "\n",
    "            # zero the parameter gradients\n",
    "            net.optimizer.zero_grad()\n",
    "\n",
    "            # forward + backward + optimize\n",
    "            outputs = net(inputs)\n",
    "            loss = net.loss_fn(outputs, labels, inputs)\n",
    "            loss.backward()\n",
    "            net.optimizer.step()\n",
    "\n",
    "            pred = torch.argmax(outputs, axis=1)\n",
    "            running_acc = (pred == labels).float().sum()\n",
    "            running_loss = loss.item()\n",
    "\n",
    "            epoch_acc += running_acc\n",
    "            epoch_loss += running_loss\n",
    "            \n",
    "            total += labels.size(0)\n",
    "\n",
    "            # print statistics\n",
    "            pbar.set_description(f'Epoch: {epoch}, Done {(i + 1)/len(trainloader) * 100}%, Loss: {running_loss}, Accuracy: {running_acc  / BATCH_SIZE * 100}%')\n",
    "            pbar.update(BATCH_SIZE)\n",
    "        pbar.close()\n",
    "\n",
    "        val_acc, val_loss = test(valloader)\n",
    "\n",
    "        net.scheduler.step(val_loss)\n",
    "        \n",
    "        epoch_loss /= len(trainloader)\n",
    "        epoch_acc /= total\n",
    "        epoch_acc *= 100\n",
    "        \n",
    "        epoch_losses.append(epoch_loss)\n",
    "        epoch_accs.append(epoch_acc)\n",
    "        \n",
    "        writer.add_scalar('Loss/train', epoch_loss, epoch)\n",
    "        writer.add_scalar('Accuracy/train', epoch_acc, epoch)\n",
    "        writer.add_scalar('Loss/test', val_loss, epoch)\n",
    "        writer.add_scalar('Accuracy/test', val_acc, epoch)\n",
    "\n",
    "        print(f\"Avg loss: {colored(str(epoch_loss), 'green')}, Avg accuracy: {colored(str(epoch_acc.item()), 'red')}, Val loss: {val_loss}, Val accuracy: {val_acc}\")\n",
    "\n",
    "        if val_acc > min_acc:\n",
    "            print(f'Improved val acc from {min_acc} to {val_acc}, saving model')\n",
    "            min_acc = val_acc\n",
    "            net.save()\n",
    "        else:\n",
    "            print(f'Val acc did not improve from {min_acc}')\n",
    "\n",
    "    print('Finished Training')\n",
    "    writer.flush()\n",
    "    return epoch_accs, epoch_losses\n",
    "\n",
    "def test(dataloader):\n",
    "    correct = 0.\n",
    "    total = 0.\n",
    "    loss = 0.\n",
    "    with torch.no_grad():\n",
    "        for data in dataloader:\n",
    "            images, labels = data[0].to(net.device), data[1].to(net.device)\n",
    "            outputs = net(images)\n",
    "            run_loss = net.loss_fn(outputs, labels, images, train=False).item()\n",
    "            loss += run_loss\n",
    "            _, predicted = torch.max(outputs.data, 1)\n",
    "            total += labels.size(0)\n",
    "            run_acc = (predicted == labels).sum().item()\n",
    "            correct += run_acc\n",
    "\n",
    "    return correct / total * 100, loss / len(dataloader)\n",
    "    "
   ]
  },
  {
   "cell_type": "code",
   "execution_count": 4,
   "metadata": {},
   "outputs": [
    {
     "name": "stderr",
     "output_type": "stream",
     "text": [
      "Epoch: 0, Done 100.0%, Loss: 1.1902645826339722, Accuracy: 59.375%: : 1250it [00:22, 55.82it/s]               \n"
     ]
    },
    {
     "name": "stdout",
     "output_type": "stream",
     "text": [
      "Avg loss: \u001b[32m1.5317410106658935\u001b[0m, Avg accuracy: \u001b[31m45.29999923706055\u001b[0m, Val loss: 1.3459017084429439, Val accuracy: 52.059999999999995\n",
      "Improved val acc from -inf to 52.059999999999995, saving model\n"
     ]
    },
    {
     "name": "stderr",
     "output_type": "stream",
     "text": [
      "Epoch: 1, Done 100.0%, Loss: 1.4890470504760742, Accuracy: 56.25%: : 1250it [00:21, 58.35it/s]                \n"
     ]
    },
    {
     "name": "stdout",
     "output_type": "stream",
     "text": [
      "Avg loss: \u001b[32m1.3043311717033386\u001b[0m, Avg accuracy: \u001b[31m54.562496185302734\u001b[0m, Val loss: 1.2329156543500126, Val accuracy: 56.169999999999995\n",
      "Improved val acc from 52.059999999999995 to 56.169999999999995, saving model\n"
     ]
    },
    {
     "name": "stderr",
     "output_type": "stream",
     "text": [
      "Epoch: 2, Done 100.0%, Loss: 1.4103193283081055, Accuracy: 59.375%: : 1250it [00:20, 59.73it/s]               \n"
     ]
    },
    {
     "name": "stdout",
     "output_type": "stream",
     "text": [
      "Avg loss: \u001b[32m1.21953739361763\u001b[0m, Avg accuracy: \u001b[31m58.29249572753906\u001b[0m, Val loss: 1.172347733578362, Val accuracy: 58.43000000000001\n",
      "Improved val acc from 56.169999999999995 to 58.43000000000001, saving model\n"
     ]
    },
    {
     "name": "stderr",
     "output_type": "stream",
     "text": [
      "Epoch: 3, Done 100.0%, Loss: 1.0208359956741333, Accuracy: 59.375%: : 1250it [00:21, 58.73it/s]               \n"
     ]
    },
    {
     "name": "stdout",
     "output_type": "stream",
     "text": [
      "Avg loss: \u001b[32m1.1652430733680725\u001b[0m, Avg accuracy: \u001b[31m60.23249816894531\u001b[0m, Val loss: 1.1663405822869688, Val accuracy: 58.18\n",
      "Val acc did not improve from 58.43000000000001\n"
     ]
    },
    {
     "name": "stderr",
     "output_type": "stream",
     "text": [
      "Epoch: 4, Done 100.0%, Loss: 1.2382742166519165, Accuracy: 46.875%: : 1250it [00:20, 59.64it/s]               \n"
     ]
    },
    {
     "name": "stdout",
     "output_type": "stream",
     "text": [
      "Avg loss: \u001b[32m1.130458318376541\u001b[0m, Avg accuracy: \u001b[31m61.814998626708984\u001b[0m, Val loss: 1.1671331065912216, Val accuracy: 59.41\n",
      "Improved val acc from 58.43000000000001 to 59.41, saving model\n"
     ]
    },
    {
     "name": "stderr",
     "output_type": "stream",
     "text": [
      "Epoch: 5, Done 100.0%, Loss: 0.8940193057060242, Accuracy: 68.75%: : 1250it [00:21, 58.04it/s]                \n"
     ]
    },
    {
     "name": "stdout",
     "output_type": "stream",
     "text": [
      "Avg loss: \u001b[32m1.0949552298545837\u001b[0m, Avg accuracy: \u001b[31m63.314998626708984\u001b[0m, Val loss: 1.1315237131362526, Val accuracy: 60.06\n",
      "Improved val acc from 59.41 to 60.06, saving model\n"
     ]
    },
    {
     "name": "stderr",
     "output_type": "stream",
     "text": [
      "Epoch: 6, Done 100.0%, Loss: 1.1970006227493286, Accuracy: 59.375%: : 1250it [00:21, 58.74it/s]               \n"
     ]
    },
    {
     "name": "stdout",
     "output_type": "stream",
     "text": [
      "Avg loss: \u001b[32m1.071004952287674\u001b[0m, Avg accuracy: \u001b[31m64.61499786376953\u001b[0m, Val loss: 1.1156383259608722, Val accuracy: 60.72\n",
      "Improved val acc from 60.06 to 60.72, saving model\n"
     ]
    },
    {
     "name": "stderr",
     "output_type": "stream",
     "text": [
      "Epoch: 7, Done 100.0%, Loss: 0.968248724937439, Accuracy: 62.5%: : 1250it [00:21, 59.05it/s]                  \n"
     ]
    },
    {
     "name": "stdout",
     "output_type": "stream",
     "text": [
      "Avg loss: \u001b[32m1.043433841562271\u001b[0m, Avg accuracy: \u001b[31m65.60749816894531\u001b[0m, Val loss: 1.0797600300548176, Val accuracy: 62.07\n",
      "Improved val acc from 60.72 to 62.07, saving model\n"
     ]
    },
    {
     "name": "stderr",
     "output_type": "stream",
     "text": [
      "Epoch: 8, Done 100.0%, Loss: 1.0881927013397217, Accuracy: 59.375%: : 1250it [00:21, 58.08it/s]               \n"
     ]
    },
    {
     "name": "stdout",
     "output_type": "stream",
     "text": [
      "Avg loss: \u001b[32m1.028616478061676\u001b[0m, Avg accuracy: \u001b[31m66.09749603271484\u001b[0m, Val loss: 1.0776760012577897, Val accuracy: 61.88\n",
      "Val acc did not improve from 62.07\n"
     ]
    },
    {
     "name": "stderr",
     "output_type": "stream",
     "text": [
      "Epoch: 9, Done 100.0%, Loss: 1.0487443208694458, Accuracy: 68.75%: : 1250it [00:21, 58.54it/s]                \n"
     ]
    },
    {
     "name": "stdout",
     "output_type": "stream",
     "text": [
      "Avg loss: \u001b[32m1.011381870007515\u001b[0m, Avg accuracy: \u001b[31m66.90999603271484\u001b[0m, Val loss: 1.0646449896855095, Val accuracy: 62.51\n",
      "Improved val acc from 62.07 to 62.51, saving model\n"
     ]
    },
    {
     "name": "stderr",
     "output_type": "stream",
     "text": [
      "Epoch: 10, Done 100.0%, Loss: 1.159631609916687, Accuracy: 68.75%: : 1250it [00:21, 58.03it/s]                 \n"
     ]
    },
    {
     "name": "stdout",
     "output_type": "stream",
     "text": [
      "Avg loss: \u001b[32m0.9918304877758026\u001b[0m, Avg accuracy: \u001b[31m67.48249816894531\u001b[0m, Val loss: 1.036270229199443, Val accuracy: 63.29\n",
      "Improved val acc from 62.51 to 63.29, saving model\n"
     ]
    },
    {
     "name": "stderr",
     "output_type": "stream",
     "text": [
      "Epoch: 11, Done 100.0%, Loss: 0.8586041927337646, Accuracy: 71.875%: : 1250it [00:21, 58.42it/s]               \n"
     ]
    },
    {
     "name": "stdout",
     "output_type": "stream",
     "text": [
      "Avg loss: \u001b[32m0.9822407240390778\u001b[0m, Avg accuracy: \u001b[31m67.86750030517578\u001b[0m, Val loss: 1.026877590261709, Val accuracy: 64.68\n",
      "Improved val acc from 63.29 to 64.68, saving model\n"
     ]
    },
    {
     "name": "stderr",
     "output_type": "stream",
     "text": [
      "Epoch: 12, Done 100.0%, Loss: 0.9052668809890747, Accuracy: 75.0%: : 1250it [00:21, 57.69it/s]                 \n"
     ]
    },
    {
     "name": "stdout",
     "output_type": "stream",
     "text": [
      "Avg loss: \u001b[32m0.9635190987586975\u001b[0m, Avg accuracy: \u001b[31m68.72999572753906\u001b[0m, Val loss: 1.0493197667712983, Val accuracy: 63.370000000000005\n",
      "Val acc did not improve from 64.68\n"
     ]
    },
    {
     "name": "stderr",
     "output_type": "stream",
     "text": [
      "Epoch: 13, Done 100.0%, Loss: 0.7826939821243286, Accuracy: 78.125%: : 1250it [00:21, 58.09it/s]               \n"
     ]
    },
    {
     "name": "stdout",
     "output_type": "stream",
     "text": [
      "Avg loss: \u001b[32m0.9554824168920517\u001b[0m, Avg accuracy: \u001b[31m69.07499694824219\u001b[0m, Val loss: 1.0152346107144705, Val accuracy: 64.78\n",
      "Improved val acc from 64.68 to 64.78, saving model\n"
     ]
    },
    {
     "name": "stderr",
     "output_type": "stream",
     "text": [
      "Epoch: 14, Done 100.0%, Loss: 1.2037038803100586, Accuracy: 53.125%: : 1250it [00:22, 55.78it/s]               \n"
     ]
    },
    {
     "name": "stdout",
     "output_type": "stream",
     "text": [
      "Avg loss: \u001b[32m0.9434305732488633\u001b[0m, Avg accuracy: \u001b[31m69.6624984741211\u001b[0m, Val loss: 1.0308898266511983, Val accuracy: 64.52\n",
      "Val acc did not improve from 64.78\n"
     ]
    },
    {
     "name": "stderr",
     "output_type": "stream",
     "text": [
      "Epoch: 15, Done 100.0%, Loss: 1.031010627746582, Accuracy: 65.625%: : 1250it [00:21, 57.47it/s]                 \n"
     ]
    },
    {
     "name": "stdout",
     "output_type": "stream",
     "text": [
      "Avg loss: \u001b[32m0.9303250535726547\u001b[0m, Avg accuracy: \u001b[31m70.19999694824219\u001b[0m, Val loss: 1.0111031890296327, Val accuracy: 64.33\n",
      "Val acc did not improve from 64.78\n"
     ]
    },
    {
     "name": "stderr",
     "output_type": "stream",
     "text": [
      "Epoch: 16, Done 100.0%, Loss: 0.7959522604942322, Accuracy: 84.375%: : 1250it [00:23, 52.66it/s]               \n"
     ]
    },
    {
     "name": "stdout",
     "output_type": "stream",
     "text": [
      "Avg loss: \u001b[32m0.9186886055469513\u001b[0m, Avg accuracy: \u001b[31m70.7874984741211\u001b[0m, Val loss: 1.0029273452088474, Val accuracy: 65.42\n",
      "Improved val acc from 64.78 to 65.42, saving model\n"
     ]
    },
    {
     "name": "stderr",
     "output_type": "stream",
     "text": [
      "Epoch: 17, Done 100.0%, Loss: 0.7655606865882874, Accuracy: 78.125%: : 1250it [00:22, 56.67it/s]               \n"
     ]
    },
    {
     "name": "stdout",
     "output_type": "stream",
     "text": [
      "Avg loss: \u001b[32m0.91419510140419\u001b[0m, Avg accuracy: \u001b[31m71.06749725341797\u001b[0m, Val loss: 1.0094556511400608, Val accuracy: 64.97\n",
      "Val acc did not improve from 65.42\n"
     ]
    },
    {
     "name": "stderr",
     "output_type": "stream",
     "text": [
      "Epoch: 18, Done 100.0%, Loss: 1.1490219831466675, Accuracy: 65.625%: : 1250it [00:20, 62.26it/s]               \n"
     ]
    },
    {
     "name": "stdout",
     "output_type": "stream",
     "text": [
      "Avg loss: \u001b[32m0.9045915509223938\u001b[0m, Avg accuracy: \u001b[31m71.3449935913086\u001b[0m, Val loss: 1.0144551133576292, Val accuracy: 65.03\n",
      "Val acc did not improve from 65.42\n"
     ]
    },
    {
     "name": "stderr",
     "output_type": "stream",
     "text": [
      "Epoch: 19, Done 100.0%, Loss: 0.6655712127685547, Accuracy: 75.0%: : 1250it [00:18, 69.41it/s]                 \n"
     ]
    },
    {
     "name": "stdout",
     "output_type": "stream",
     "text": [
      "Avg loss: \u001b[32m0.8998358747243881\u001b[0m, Avg accuracy: \u001b[31m71.52249908447266\u001b[0m, Val loss: 0.9849335920696441, Val accuracy: 65.81\n",
      "Improved val acc from 65.42 to 65.81, saving model\n"
     ]
    },
    {
     "name": "stderr",
     "output_type": "stream",
     "text": [
      "Epoch: 20, Done 100.0%, Loss: 0.7766399383544922, Accuracy: 78.125%: : 1250it [00:20, 61.55it/s]               \n"
     ]
    },
    {
     "name": "stdout",
     "output_type": "stream",
     "text": [
      "Avg loss: \u001b[32m0.8935832655429841\u001b[0m, Avg accuracy: \u001b[31m71.94000244140625\u001b[0m, Val loss: 1.0010576520484096, Val accuracy: 65.73\n",
      "Val acc did not improve from 65.81\n"
     ]
    },
    {
     "name": "stderr",
     "output_type": "stream",
     "text": [
      "Epoch: 21, Done 100.0%, Loss: 0.6350730657577515, Accuracy: 81.25%: : 1250it [00:18, 68.78it/s]                \n"
     ]
    },
    {
     "name": "stdout",
     "output_type": "stream",
     "text": [
      "Avg loss: \u001b[32m0.8874905910491944\u001b[0m, Avg accuracy: \u001b[31m71.76000213623047\u001b[0m, Val loss: 1.0103564018639513, Val accuracy: 64.88000000000001\n",
      "Val acc did not improve from 65.81\n"
     ]
    },
    {
     "name": "stderr",
     "output_type": "stream",
     "text": [
      "Epoch: 22, Done 100.0%, Loss: 1.0537724494934082, Accuracy: 68.75%: : 1250it [00:18, 65.96it/s]                \n"
     ]
    },
    {
     "name": "stdout",
     "output_type": "stream",
     "text": [
      "Avg loss: \u001b[32m0.8784753026723862\u001b[0m, Avg accuracy: \u001b[31m72.2249984741211\u001b[0m, Val loss: 0.9985648565018139, Val accuracy: 65.03999999999999\n",
      "Val acc did not improve from 65.81\n"
     ]
    },
    {
     "name": "stderr",
     "output_type": "stream",
     "text": [
      "Epoch: 23, Done 100.0%, Loss: 0.88800448179245, Accuracy: 68.75%: : 1250it [00:18, 67.90it/s]                  \n"
     ]
    },
    {
     "name": "stdout",
     "output_type": "stream",
     "text": [
      "Avg loss: \u001b[32m0.8770926935195923\u001b[0m, Avg accuracy: \u001b[31m72.46749877929688\u001b[0m, Val loss: 1.0064889367776937, Val accuracy: 64.71000000000001\n",
      "Val acc did not improve from 65.81\n"
     ]
    },
    {
     "name": "stderr",
     "output_type": "stream",
     "text": [
      "Epoch: 24, Done 100.0%, Loss: 1.274989366531372, Accuracy: 59.375%: : 1250it [00:21, 59.48it/s]                \n"
     ]
    },
    {
     "name": "stdout",
     "output_type": "stream",
     "text": [
      "Avg loss: \u001b[32m0.8680443994760513\u001b[0m, Avg accuracy: \u001b[31m72.8074951171875\u001b[0m, Val loss: 0.999164797722722, Val accuracy: 65.58\n",
      "Val acc did not improve from 65.81\n"
     ]
    },
    {
     "name": "stderr",
     "output_type": "stream",
     "text": [
      "Epoch: 25, Done 100.0%, Loss: 1.174739122390747, Accuracy: 75.0%: : 1250it [00:22, 54.83it/s]                  \n"
     ]
    },
    {
     "name": "stdout",
     "output_type": "stream",
     "text": [
      "Avg loss: \u001b[32m0.8628714401721954\u001b[0m, Avg accuracy: \u001b[31m73.2199935913086\u001b[0m, Val loss: 1.0144229306580541, Val accuracy: 64.68\n",
      "Val acc did not improve from 65.81\n"
     ]
    },
    {
     "name": "stderr",
     "output_type": "stream",
     "text": [
      "Epoch: 26, Done 100.0%, Loss: 0.7319878935813904, Accuracy: 78.125%: : 1250it [00:23, 54.29it/s]               \n"
     ]
    },
    {
     "name": "stdout",
     "output_type": "stream",
     "text": [
      "Avg loss: \u001b[32m0.8642457116365433\u001b[0m, Avg accuracy: \u001b[31m73.1875\u001b[0m, Val loss: 0.9959837613395228, Val accuracy: 65.56\n",
      "Val acc did not improve from 65.81\n"
     ]
    },
    {
     "name": "stderr",
     "output_type": "stream",
     "text": [
      "Epoch: 27, Done 100.0%, Loss: 0.637544572353363, Accuracy: 75.0%: : 1250it [00:22, 54.79it/s]                  \n"
     ]
    },
    {
     "name": "stdout",
     "output_type": "stream",
     "text": [
      "Avg loss: \u001b[32m0.8530253108501434\u001b[0m, Avg accuracy: \u001b[31m73.26749420166016\u001b[0m, Val loss: 0.981053579729586, Val accuracy: 66.02\n",
      "Improved val acc from 65.81 to 66.02, saving model\n"
     ]
    },
    {
     "name": "stderr",
     "output_type": "stream",
     "text": [
      "Epoch: 28, Done 100.0%, Loss: 0.9920650124549866, Accuracy: 71.875%: : 1250it [00:22, 55.49it/s]               \n"
     ]
    },
    {
     "name": "stdout",
     "output_type": "stream",
     "text": [
      "Avg loss: \u001b[32m0.8491759134292602\u001b[0m, Avg accuracy: \u001b[31m73.71499633789062\u001b[0m, Val loss: 1.000128078194091, Val accuracy: 65.53999999999999\n",
      "Val acc did not improve from 66.02\n"
     ]
    },
    {
     "name": "stderr",
     "output_type": "stream",
     "text": [
      "Epoch: 29, Done 100.0%, Loss: 0.8838328719139099, Accuracy: 68.75%: : 1250it [00:21, 57.70it/s]                \n"
     ]
    },
    {
     "name": "stdout",
     "output_type": "stream",
     "text": [
      "Avg loss: \u001b[32m0.8493259008407593\u001b[0m, Avg accuracy: \u001b[31m73.4625015258789\u001b[0m, Val loss: 1.0007732940938907, Val accuracy: 64.86\n",
      "Val acc did not improve from 66.02\n"
     ]
    },
    {
     "name": "stderr",
     "output_type": "stream",
     "text": [
      "Epoch: 30, Done 100.0%, Loss: 0.8106810450553894, Accuracy: 68.75%: : 1250it [00:21, 57.59it/s]                \n"
     ]
    },
    {
     "name": "stdout",
     "output_type": "stream",
     "text": [
      "Avg loss: \u001b[32m0.8454827441453934\u001b[0m, Avg accuracy: \u001b[31m73.80500030517578\u001b[0m, Val loss: 0.9878854927734826, Val accuracy: 65.75\n",
      "Val acc did not improve from 66.02\n"
     ]
    },
    {
     "name": "stderr",
     "output_type": "stream",
     "text": [
      "Epoch: 31, Done 100.0%, Loss: 1.046792984008789, Accuracy: 68.75%: : 1250it [00:21, 59.35it/s]                 \n"
     ]
    },
    {
     "name": "stdout",
     "output_type": "stream",
     "text": [
      "Avg loss: \u001b[32m0.8401408270835876\u001b[0m, Avg accuracy: \u001b[31m74.2249984741211\u001b[0m, Val loss: 0.9815363732580179, Val accuracy: 66.46\n",
      "Improved val acc from 66.02 to 66.46, saving model\n"
     ]
    },
    {
     "name": "stderr",
     "output_type": "stream",
     "text": [
      "Epoch: 32, Done 100.0%, Loss: 0.6253433227539062, Accuracy: 84.375%: : 1250it [00:21, 58.73it/s]               \n"
     ]
    },
    {
     "name": "stdout",
     "output_type": "stream",
     "text": [
      "Avg loss: \u001b[32m0.8421762039661408\u001b[0m, Avg accuracy: \u001b[31m74.03999328613281\u001b[0m, Val loss: 1.013933921393495, Val accuracy: 64.86\n",
      "Val acc did not improve from 66.46\n"
     ]
    },
    {
     "name": "stderr",
     "output_type": "stream",
     "text": [
      "Epoch: 33, Done 100.0%, Loss: 0.8210435509681702, Accuracy: 81.25%: : 1250it [00:21, 58.62it/s]                 \n"
     ]
    },
    {
     "name": "stdout",
     "output_type": "stream",
     "text": [
      "Avg loss: \u001b[32m0.8376003365516662\u001b[0m, Avg accuracy: \u001b[31m74.15249633789062\u001b[0m, Val loss: 0.9927450619376125, Val accuracy: 65.36\n",
      "Val acc did not improve from 66.46\n"
     ]
    },
    {
     "name": "stderr",
     "output_type": "stream",
     "text": [
      "Epoch: 34, Done 100.0%, Loss: 1.0063806772232056, Accuracy: 68.75%: : 1250it [00:21, 58.88it/s]                \n"
     ]
    },
    {
     "name": "stdout",
     "output_type": "stream",
     "text": [
      "Avg loss: \u001b[32m0.8278355142831803\u001b[0m, Avg accuracy: \u001b[31m74.5875015258789\u001b[0m, Val loss: 1.0020948288539728, Val accuracy: 65.57\n",
      "Val acc did not improve from 66.46\n"
     ]
    },
    {
     "name": "stderr",
     "output_type": "stream",
     "text": [
      "Epoch: 35, Done 100.0%, Loss: 0.9354282021522522, Accuracy: 62.5%: : 1250it [00:21, 59.39it/s]                 \n"
     ]
    },
    {
     "name": "stdout",
     "output_type": "stream",
     "text": [
      "Avg loss: \u001b[32m0.8297978078365326\u001b[0m, Avg accuracy: \u001b[31m74.36249542236328\u001b[0m, Val loss: 1.0045328127880828, Val accuracy: 65.52\n",
      "Val acc did not improve from 66.46\n"
     ]
    },
    {
     "name": "stderr",
     "output_type": "stream",
     "text": [
      "Epoch: 36, Done 100.0%, Loss: 0.7201077938079834, Accuracy: 81.25%: : 1250it [00:20, 59.67it/s]                \n"
     ]
    },
    {
     "name": "stdout",
     "output_type": "stream",
     "text": [
      "Avg loss: \u001b[32m0.8279502230405807\u001b[0m, Avg accuracy: \u001b[31m74.6875\u001b[0m, Val loss: 0.9969271457614228, Val accuracy: 65.09\n",
      "Val acc did not improve from 66.46\n"
     ]
    },
    {
     "name": "stderr",
     "output_type": "stream",
     "text": [
      "Epoch: 37, Done 100.0%, Loss: 1.063927412033081, Accuracy: 59.375%: : 1250it [00:21, 58.37it/s]                 \n"
     ]
    },
    {
     "name": "stdout",
     "output_type": "stream",
     "text": [
      "Avg loss: \u001b[32m0.8251296907186508\u001b[0m, Avg accuracy: \u001b[31m74.81500244140625\u001b[0m, Val loss: 1.0093402148435673, Val accuracy: 65.19\n",
      "Val acc did not improve from 66.46\n"
     ]
    },
    {
     "name": "stderr",
     "output_type": "stream",
     "text": [
      "Epoch: 38, Done 100.0%, Loss: 0.992807924747467, Accuracy: 75.0%: : 1250it [00:22, 55.20it/s]                   \n"
     ]
    },
    {
     "name": "stdout",
     "output_type": "stream",
     "text": [
      "Avg loss: \u001b[32m0.82383392765522\u001b[0m, Avg accuracy: \u001b[31m74.7824935913086\u001b[0m, Val loss: 1.0198517098023108, Val accuracy: 65.12\n",
      "Val acc did not improve from 66.46\n"
     ]
    },
    {
     "name": "stderr",
     "output_type": "stream",
     "text": [
      "Epoch: 39, Done 100.0%, Loss: 0.7324838042259216, Accuracy: 75.0%: : 1250it [00:21, 59.11it/s]                  \n"
     ]
    },
    {
     "name": "stdout",
     "output_type": "stream",
     "text": [
      "Avg loss: \u001b[32m0.7110500696182251\u001b[0m, Avg accuracy: \u001b[31m79.56749725341797\u001b[0m, Val loss: 0.9343758935745532, Val accuracy: 67.84\n",
      "Improved val acc from 66.46 to 67.84, saving model\n"
     ]
    },
    {
     "name": "stderr",
     "output_type": "stream",
     "text": [
      "Epoch: 40, Done 100.0%, Loss: 0.7690684199333191, Accuracy: 71.875%: : 1250it [00:21, 59.51it/s]                \n"
     ]
    },
    {
     "name": "stdout",
     "output_type": "stream",
     "text": [
      "Avg loss: \u001b[32m0.6932186540842056\u001b[0m, Avg accuracy: \u001b[31m80.38500213623047\u001b[0m, Val loss: 0.9375306135549332, Val accuracy: 67.94\n",
      "Improved val acc from 67.84 to 67.94, saving model\n"
     ]
    },
    {
     "name": "stderr",
     "output_type": "stream",
     "text": [
      "Epoch: 41, Done 100.0%, Loss: 0.6240736842155457, Accuracy: 78.125%: : 1250it [00:22, 54.39it/s]                \n"
     ]
    },
    {
     "name": "stdout",
     "output_type": "stream",
     "text": [
      "Avg loss: \u001b[32m0.6862961260557174\u001b[0m, Avg accuracy: \u001b[31m80.76750183105469\u001b[0m, Val loss: 0.9314817015926677, Val accuracy: 67.47999999999999\n",
      "Val acc did not improve from 67.94\n"
     ]
    },
    {
     "name": "stderr",
     "output_type": "stream",
     "text": [
      "Epoch: 42, Done 100.0%, Loss: 0.5853840708732605, Accuracy: 87.5%: : 1250it [00:21, 58.80it/s]                  \n"
     ]
    },
    {
     "name": "stdout",
     "output_type": "stream",
     "text": [
      "Avg loss: \u001b[32m0.6829200145959854\u001b[0m, Avg accuracy: \u001b[31m80.83499908447266\u001b[0m, Val loss: 0.932069475087114, Val accuracy: 67.78999999999999\n",
      "Val acc did not improve from 67.94\n"
     ]
    },
    {
     "name": "stderr",
     "output_type": "stream",
     "text": [
      "Epoch: 43, Done 100.0%, Loss: 0.7827149033546448, Accuracy: 78.125%: : 1250it [00:20, 59.93it/s]                \n"
     ]
    },
    {
     "name": "stdout",
     "output_type": "stream",
     "text": [
      "Avg loss: \u001b[32m0.6782096930027008\u001b[0m, Avg accuracy: \u001b[31m81.06249237060547\u001b[0m, Val loss: 0.9313463556309478, Val accuracy: 67.93\n",
      "Val acc did not improve from 67.94\n"
     ]
    },
    {
     "name": "stderr",
     "output_type": "stream",
     "text": [
      "Epoch: 44, Done 100.0%, Loss: 0.9908450841903687, Accuracy: 71.875%: : 1250it [00:21, 57.59it/s]                \n"
     ]
    },
    {
     "name": "stdout",
     "output_type": "stream",
     "text": [
      "Avg loss: \u001b[32m0.6742078236818314\u001b[0m, Avg accuracy: \u001b[31m81.30249786376953\u001b[0m, Val loss: 0.9359352192558801, Val accuracy: 67.92\n",
      "Val acc did not improve from 67.94\n"
     ]
    },
    {
     "name": "stderr",
     "output_type": "stream",
     "text": [
      "Epoch: 45, Done 100.0%, Loss: 0.510866641998291, Accuracy: 93.75%: : 1250it [00:21, 57.31it/s]                  \n"
     ]
    },
    {
     "name": "stdout",
     "output_type": "stream",
     "text": [
      "Avg loss: \u001b[32m0.6718060673475266\u001b[0m, Avg accuracy: \u001b[31m81.36000061035156\u001b[0m, Val loss: 0.938687546660725, Val accuracy: 68.07\n",
      "Improved val acc from 67.94 to 68.07, saving model\n"
     ]
    },
    {
     "name": "stderr",
     "output_type": "stream",
     "text": [
      "Epoch: 46, Done 100.0%, Loss: 0.48057156801223755, Accuracy: 84.375%: : 1250it [00:21, 57.81it/s]               \n"
     ]
    },
    {
     "name": "stdout",
     "output_type": "stream",
     "text": [
      "Avg loss: \u001b[32m0.6698201781511307\u001b[0m, Avg accuracy: \u001b[31m81.39749908447266\u001b[0m, Val loss: 0.9375004096153065, Val accuracy: 67.62\n",
      "Val acc did not improve from 68.07\n"
     ]
    },
    {
     "name": "stderr",
     "output_type": "stream",
     "text": [
      "Epoch: 47, Done 100.0%, Loss: 0.7191424369812012, Accuracy: 75.0%: : 1250it [00:21, 57.18it/s]                  \n"
     ]
    },
    {
     "name": "stdout",
     "output_type": "stream",
     "text": [
      "Avg loss: \u001b[32m0.664880690574646\u001b[0m, Avg accuracy: \u001b[31m81.81999969482422\u001b[0m, Val loss: 0.9410092306022827, Val accuracy: 67.78\n",
      "Val acc did not improve from 68.07\n"
     ]
    },
    {
     "name": "stderr",
     "output_type": "stream",
     "text": [
      "Epoch: 48, Done 100.0%, Loss: 0.42902907729148865, Accuracy: 87.5%: : 1250it [00:21, 57.79it/s]                 \n"
     ]
    },
    {
     "name": "stdout",
     "output_type": "stream",
     "text": [
      "Avg loss: \u001b[32m0.6619871085643768\u001b[0m, Avg accuracy: \u001b[31m81.70999908447266\u001b[0m, Val loss: 0.9358743425375357, Val accuracy: 67.7\n",
      "Val acc did not improve from 68.07\n"
     ]
    },
    {
     "name": "stderr",
     "output_type": "stream",
     "text": [
      "Epoch: 49, Done 100.0%, Loss: 0.7109264135360718, Accuracy: 84.375%: : 1250it [00:21, 59.15it/s]                \n"
     ]
    },
    {
     "name": "stdout",
     "output_type": "stream",
     "text": [
      "Avg loss: \u001b[32m0.6607800069332123\u001b[0m, Avg accuracy: \u001b[31m81.95499420166016\u001b[0m, Val loss: 0.9413695997133041, Val accuracy: 67.86\n",
      "Val acc did not improve from 68.07\n"
     ]
    },
    {
     "name": "stderr",
     "output_type": "stream",
     "text": [
      "Epoch: 50, Done 100.0%, Loss: 0.41038039326667786, Accuracy: 90.625%: : 1250it [00:21, 58.19it/s]               \n"
     ]
    },
    {
     "name": "stdout",
     "output_type": "stream",
     "text": [
      "Avg loss: \u001b[32m0.6563697806835175\u001b[0m, Avg accuracy: \u001b[31m82.01499938964844\u001b[0m, Val loss: 0.9453017429802746, Val accuracy: 67.47999999999999\n",
      "Val acc did not improve from 68.07\n"
     ]
    },
    {
     "name": "stderr",
     "output_type": "stream",
     "text": [
      "Epoch: 51, Done 100.0%, Loss: 0.32084888219833374, Accuracy: 96.875%: : 1250it [00:21, 58.69it/s]               \n"
     ]
    },
    {
     "name": "stdout",
     "output_type": "stream",
     "text": [
      "Avg loss: \u001b[32m0.6573829937458038\u001b[0m, Avg accuracy: \u001b[31m81.98500061035156\u001b[0m, Val loss: 0.9471361848492973, Val accuracy: 67.80000000000001\n",
      "Val acc did not improve from 68.07\n"
     ]
    },
    {
     "name": "stderr",
     "output_type": "stream",
     "text": [
      "Epoch: 52, Done 100.0%, Loss: 0.7774618268013, Accuracy: 81.25%: : 1250it [00:20, 60.95it/s]                    \n"
     ]
    },
    {
     "name": "stdout",
     "output_type": "stream",
     "text": [
      "Avg loss: \u001b[32m0.654340750837326\u001b[0m, Avg accuracy: \u001b[31m82.17249298095703\u001b[0m, Val loss: 0.9439240477907772, Val accuracy: 67.60000000000001\n",
      "Val acc did not improve from 68.07\n"
     ]
    },
    {
     "name": "stderr",
     "output_type": "stream",
     "text": [
      "Epoch: 53, Done 100.0%, Loss: 0.6394211053848267, Accuracy: 84.375%: : 1250it [00:21, 58.12it/s]                \n"
     ]
    },
    {
     "name": "stdout",
     "output_type": "stream",
     "text": [
      "Avg loss: \u001b[32m0.6513921469688415\u001b[0m, Avg accuracy: \u001b[31m82.38999938964844\u001b[0m, Val loss: 0.9483952736511779, Val accuracy: 67.47\n",
      "Val acc did not improve from 68.07\n"
     ]
    },
    {
     "name": "stderr",
     "output_type": "stream",
     "text": [
      "Epoch: 54, Done 100.0%, Loss: 0.8064433336257935, Accuracy: 71.875%: : 1250it [00:21, 57.45it/s]                \n"
     ]
    },
    {
     "name": "stdout",
     "output_type": "stream",
     "text": [
      "Avg loss: \u001b[32m0.6523080657720566\u001b[0m, Avg accuracy: \u001b[31m82.2449951171875\u001b[0m, Val loss: 0.9478104176422277, Val accuracy: 67.58999999999999\n",
      "Val acc did not improve from 68.07\n"
     ]
    },
    {
     "name": "stderr",
     "output_type": "stream",
     "text": [
      "Epoch: 55, Done 100.0%, Loss: 0.7918403744697571, Accuracy: 81.25%: : 1250it [00:22, 55.40it/s]                 \n"
     ]
    },
    {
     "name": "stdout",
     "output_type": "stream",
     "text": [
      "Avg loss: \u001b[32m0.634436701130867\u001b[0m, Avg accuracy: \u001b[31m83.2300033569336\u001b[0m, Val loss: 0.938721457228493, Val accuracy: 67.99\n",
      "Val acc did not improve from 68.07\n"
     ]
    },
    {
     "name": "stderr",
     "output_type": "stream",
     "text": [
      "Epoch: 56, Done 100.0%, Loss: 0.6058551073074341, Accuracy: 84.375%: : 1250it [00:22, 55.60it/s]                \n"
     ]
    },
    {
     "name": "stdout",
     "output_type": "stream",
     "text": [
      "Avg loss: \u001b[32m0.6307142609834671\u001b[0m, Avg accuracy: \u001b[31m83.26499938964844\u001b[0m, Val loss: 0.9399328739307939, Val accuracy: 67.47999999999999\n",
      "Val acc did not improve from 68.07\n"
     ]
    },
    {
     "name": "stderr",
     "output_type": "stream",
     "text": [
      "Epoch: 57, Done 100.0%, Loss: 0.42071372270584106, Accuracy: 90.625%: : 1250it [00:21, 58.91it/s]               \n"
     ]
    },
    {
     "name": "stdout",
     "output_type": "stream",
     "text": [
      "Avg loss: \u001b[32m0.631155551981926\u001b[0m, Avg accuracy: \u001b[31m83.3125\u001b[0m, Val loss: 0.9396927941340608, Val accuracy: 67.86\n",
      "Val acc did not improve from 68.07\n"
     ]
    },
    {
     "name": "stderr",
     "output_type": "stream",
     "text": [
      "Epoch: 58, Done 100.0%, Loss: 0.4954155385494232, Accuracy: 81.25%: : 1250it [00:21, 57.28it/s]                 \n"
     ]
    },
    {
     "name": "stdout",
     "output_type": "stream",
     "text": [
      "Avg loss: \u001b[32m0.631009985780716\u001b[0m, Avg accuracy: \u001b[31m83.23999786376953\u001b[0m, Val loss: 0.9408398793337825, Val accuracy: 68.03\n",
      "Val acc did not improve from 68.07\n"
     ]
    },
    {
     "name": "stderr",
     "output_type": "stream",
     "text": [
      "Epoch: 59, Done 100.0%, Loss: 0.9518373012542725, Accuracy: 75.0%: : 1250it [00:21, 59.35it/s]                  \n"
     ]
    },
    {
     "name": "stdout",
     "output_type": "stream",
     "text": [
      "Avg loss: \u001b[32m0.6321654547452926\u001b[0m, Avg accuracy: \u001b[31m83.12999725341797\u001b[0m, Val loss: 0.9402806109513718, Val accuracy: 67.82000000000001\n",
      "Val acc did not improve from 68.07\n"
     ]
    },
    {
     "name": "stderr",
     "output_type": "stream",
     "text": [
      "Epoch: 60, Done 100.0%, Loss: 0.7451589107513428, Accuracy: 71.875%: : 1250it [00:19, 63.26it/s]                \n"
     ]
    },
    {
     "name": "stdout",
     "output_type": "stream",
     "text": [
      "Avg loss: \u001b[32m0.6295900905132293\u001b[0m, Avg accuracy: \u001b[31m83.19749450683594\u001b[0m, Val loss: 0.9426291629719658, Val accuracy: 67.93\n",
      "Val acc did not improve from 68.07\n"
     ]
    },
    {
     "name": "stderr",
     "output_type": "stream",
     "text": [
      "Epoch: 61, Done 100.0%, Loss: 0.4535104036331177, Accuracy: 96.875%: : 1250it [00:18, 67.99it/s]                \n"
     ]
    },
    {
     "name": "stdout",
     "output_type": "stream",
     "text": [
      "Avg loss: \u001b[32m0.6324843078374862\u001b[0m, Avg accuracy: \u001b[31m83.17250061035156\u001b[0m, Val loss: 0.9398066292936429, Val accuracy: 67.65\n",
      "Val acc did not improve from 68.07\n"
     ]
    },
    {
     "name": "stderr",
     "output_type": "stream",
     "text": [
      "Epoch: 62, Done 100.0%, Loss: 0.6975118517875671, Accuracy: 78.125%: : 1250it [00:17, 72.33it/s]                \n"
     ]
    },
    {
     "name": "stdout",
     "output_type": "stream",
     "text": [
      "Avg loss: \u001b[32m0.6296764569878578\u001b[0m, Avg accuracy: \u001b[31m83.3449935913086\u001b[0m, Val loss: 0.9401859676304717, Val accuracy: 67.78\n",
      "Val acc did not improve from 68.07\n"
     ]
    },
    {
     "name": "stderr",
     "output_type": "stream",
     "text": [
      "Epoch: 63, Done 100.0%, Loss: 0.5412787795066833, Accuracy: 87.5%: : 1250it [00:18, 67.65it/s]                  \n"
     ]
    },
    {
     "name": "stdout",
     "output_type": "stream",
     "text": [
      "Avg loss: \u001b[32m0.6275845382452011\u001b[0m, Avg accuracy: \u001b[31m83.34749603271484\u001b[0m, Val loss: 0.9464341210671507, Val accuracy: 67.57\n",
      "Val acc did not improve from 68.07\n"
     ]
    },
    {
     "name": "stderr",
     "output_type": "stream",
     "text": [
      "Epoch: 64, Done 100.0%, Loss: 0.5611808896064758, Accuracy: 81.25%: : 1250it [00:18, 69.11it/s]                 \n"
     ]
    },
    {
     "name": "stdout",
     "output_type": "stream",
     "text": [
      "Avg loss: \u001b[32m0.6284190761089326\u001b[0m, Avg accuracy: \u001b[31m83.29000091552734\u001b[0m, Val loss: 0.9447972491716805, Val accuracy: 67.97\n",
      "Val acc did not improve from 68.07\n"
     ]
    },
    {
     "name": "stderr",
     "output_type": "stream",
     "text": [
      "Epoch: 65, Done 100.0%, Loss: 0.5605103969573975, Accuracy: 87.5%: : 1250it [00:18, 66.22it/s]                  \n"
     ]
    },
    {
     "name": "stdout",
     "output_type": "stream",
     "text": [
      "Avg loss: \u001b[32m0.6300919661879539\u001b[0m, Avg accuracy: \u001b[31m83.24250030517578\u001b[0m, Val loss: 0.9399061010668452, Val accuracy: 67.58999999999999\n",
      "Val acc did not improve from 68.07\n"
     ]
    },
    {
     "name": "stderr",
     "output_type": "stream",
     "text": [
      "Epoch: 66, Done 100.0%, Loss: 0.6056413650512695, Accuracy: 81.25%: : 1250it [00:18, 66.03it/s]                 \n"
     ]
    },
    {
     "name": "stdout",
     "output_type": "stream",
     "text": [
      "Avg loss: \u001b[32m0.6267582737922669\u001b[0m, Avg accuracy: \u001b[31m83.41000366210938\u001b[0m, Val loss: 0.9413214260206436, Val accuracy: 67.69\n",
      "Val acc did not improve from 68.07\n"
     ]
    },
    {
     "name": "stderr",
     "output_type": "stream",
     "text": [
      "Epoch: 67, Done 100.0%, Loss: 0.6180309653282166, Accuracy: 84.375%: : 1250it [00:20, 59.63it/s]                \n"
     ]
    },
    {
     "name": "stdout",
     "output_type": "stream",
     "text": [
      "Avg loss: \u001b[32m0.6267128694534302\u001b[0m, Avg accuracy: \u001b[31m83.36499786376953\u001b[0m, Val loss: 0.9378369410578816, Val accuracy: 68.17999999999999\n",
      "Improved val acc from 68.07 to 68.17999999999999, saving model\n"
     ]
    },
    {
     "name": "stderr",
     "output_type": "stream",
     "text": [
      "Epoch: 68, Done 100.0%, Loss: 0.8027275204658508, Accuracy: 78.125%: : 1250it [00:20, 60.28it/s]                \n"
     ]
    },
    {
     "name": "stdout",
     "output_type": "stream",
     "text": [
      "Avg loss: \u001b[32m0.6273443892240524\u001b[0m, Avg accuracy: \u001b[31m83.35749816894531\u001b[0m, Val loss: 0.9418221473122557, Val accuracy: 67.77\n",
      "Val acc did not improve from 68.17999999999999\n"
     ]
    },
    {
     "name": "stderr",
     "output_type": "stream",
     "text": [
      "Epoch: 69, Done 100.0%, Loss: 0.5751051902770996, Accuracy: 84.375%: : 1250it [00:21, 59.15it/s]                \n"
     ]
    },
    {
     "name": "stdout",
     "output_type": "stream",
     "text": [
      "Avg loss: \u001b[32m0.6281965298652649\u001b[0m, Avg accuracy: \u001b[31m83.37249755859375\u001b[0m, Val loss: 0.9412336401855603, Val accuracy: 67.92\n",
      "Val acc did not improve from 68.17999999999999\n"
     ]
    },
    {
     "name": "stderr",
     "output_type": "stream",
     "text": [
      "Epoch: 70, Done 100.0%, Loss: 0.7034329175949097, Accuracy: 78.125%: : 1250it [00:21, 59.51it/s]                \n"
     ]
    },
    {
     "name": "stdout",
     "output_type": "stream",
     "text": [
      "Avg loss: \u001b[32m0.6282576723694802\u001b[0m, Avg accuracy: \u001b[31m83.1449966430664\u001b[0m, Val loss: 0.9474266654195876, Val accuracy: 67.73\n",
      "Val acc did not improve from 68.17999999999999\n"
     ]
    },
    {
     "name": "stderr",
     "output_type": "stream",
     "text": [
      "Epoch: 71, Done 100.0%, Loss: 0.5697606801986694, Accuracy: 84.375%: : 1250it [00:21, 58.51it/s]                \n"
     ]
    },
    {
     "name": "stdout",
     "output_type": "stream",
     "text": [
      "Avg loss: \u001b[32m0.6278218677282333\u001b[0m, Avg accuracy: \u001b[31m83.32749938964844\u001b[0m, Val loss: 0.9406039554851885, Val accuracy: 68.26\n",
      "Improved val acc from 68.17999999999999 to 68.26, saving model\n"
     ]
    },
    {
     "name": "stderr",
     "output_type": "stream",
     "text": [
      "Epoch: 72, Done 100.0%, Loss: 0.764711856842041, Accuracy: 84.375%: : 1250it [00:21, 57.10it/s]                 \n"
     ]
    },
    {
     "name": "stdout",
     "output_type": "stream",
     "text": [
      "Avg loss: \u001b[32m0.6260384412169456\u001b[0m, Avg accuracy: \u001b[31m83.44249725341797\u001b[0m, Val loss: 0.9436304736822939, Val accuracy: 67.72\n",
      "Val acc did not improve from 68.26\n"
     ]
    },
    {
     "name": "stderr",
     "output_type": "stream",
     "text": [
      "Epoch: 73, Done 100.0%, Loss: 0.7002310156822205, Accuracy: 71.875%: : 1250it [00:21, 59.22it/s]                \n"
     ]
    },
    {
     "name": "stdout",
     "output_type": "stream",
     "text": [
      "Avg loss: \u001b[32m0.6274556992292404\u001b[0m, Avg accuracy: \u001b[31m83.41499328613281\u001b[0m, Val loss: 0.9432440690529613, Val accuracy: 67.58\n",
      "Val acc did not improve from 68.26\n"
     ]
    },
    {
     "name": "stderr",
     "output_type": "stream",
     "text": [
      "Epoch: 74, Done 100.0%, Loss: 0.6126778721809387, Accuracy: 87.5%: : 1250it [00:21, 58.95it/s]                  \n"
     ]
    },
    {
     "name": "stdout",
     "output_type": "stream",
     "text": [
      "Avg loss: \u001b[32m0.6242778870463371\u001b[0m, Avg accuracy: \u001b[31m83.44999694824219\u001b[0m, Val loss: 0.941682754804532, Val accuracy: 67.85\n",
      "Val acc did not improve from 68.26\n"
     ]
    },
    {
     "name": "stderr",
     "output_type": "stream",
     "text": [
      "Epoch: 75, Done 100.0%, Loss: 0.5888425707817078, Accuracy: 84.375%: : 1250it [00:22, 56.62it/s]                \n"
     ]
    },
    {
     "name": "stdout",
     "output_type": "stream",
     "text": [
      "Avg loss: \u001b[32m0.6254670418262481\u001b[0m, Avg accuracy: \u001b[31m83.45249938964844\u001b[0m, Val loss: 0.9430647719020661, Val accuracy: 67.83\n",
      "Val acc did not improve from 68.26\n"
     ]
    },
    {
     "name": "stderr",
     "output_type": "stream",
     "text": [
      "Epoch: 76, Done 100.0%, Loss: 0.6108511686325073, Accuracy: 81.25%: : 1250it [00:20, 60.57it/s]                 \n"
     ]
    },
    {
     "name": "stdout",
     "output_type": "stream",
     "text": [
      "Avg loss: \u001b[32m0.625622952914238\u001b[0m, Avg accuracy: \u001b[31m83.32499694824219\u001b[0m, Val loss: 0.9437234196038292, Val accuracy: 67.83\n",
      "Val acc did not improve from 68.26\n"
     ]
    },
    {
     "name": "stderr",
     "output_type": "stream",
     "text": [
      "Epoch: 77, Done 100.0%, Loss: 0.900081217288971, Accuracy: 78.125%: : 1250it [00:20, 59.92it/s]                 \n"
     ]
    },
    {
     "name": "stdout",
     "output_type": "stream",
     "text": [
      "Avg loss: \u001b[32m0.626153085398674\u001b[0m, Avg accuracy: \u001b[31m83.32749938964844\u001b[0m, Val loss: 0.9366537846696262, Val accuracy: 67.96\n",
      "Val acc did not improve from 68.26\n"
     ]
    },
    {
     "name": "stderr",
     "output_type": "stream",
     "text": [
      "Epoch: 78, Done 100.0%, Loss: 0.6437670588493347, Accuracy: 84.375%: : 1250it [00:21, 57.16it/s]                \n"
     ]
    },
    {
     "name": "stdout",
     "output_type": "stream",
     "text": [
      "Avg loss: \u001b[32m0.6253557759761811\u001b[0m, Avg accuracy: \u001b[31m83.42250061035156\u001b[0m, Val loss: 0.9423505706718555, Val accuracy: 67.67999999999999\n",
      "Val acc did not improve from 68.26\n"
     ]
    },
    {
     "name": "stderr",
     "output_type": "stream",
     "text": [
      "Epoch: 79, Done 100.0%, Loss: 0.702597975730896, Accuracy: 81.25%: : 1250it [00:21, 57.94it/s]                  \n"
     ]
    },
    {
     "name": "stdout",
     "output_type": "stream",
     "text": [
      "Avg loss: \u001b[32m0.6257903218269348\u001b[0m, Avg accuracy: \u001b[31m83.25749969482422\u001b[0m, Val loss: 0.9421193947235997, Val accuracy: 67.78999999999999\n",
      "Val acc did not improve from 68.26\n"
     ]
    },
    {
     "name": "stderr",
     "output_type": "stream",
     "text": [
      "Epoch: 80, Done 100.0%, Loss: 0.5056788325309753, Accuracy: 90.625%: : 1250it [00:21, 57.72it/s]                \n"
     ]
    },
    {
     "name": "stdout",
     "output_type": "stream",
     "text": [
      "Avg loss: \u001b[32m0.6267621877431869\u001b[0m, Avg accuracy: \u001b[31m83.33999633789062\u001b[0m, Val loss: 0.9427612399140867, Val accuracy: 67.86\n",
      "Val acc did not improve from 68.26\n"
     ]
    },
    {
     "name": "stderr",
     "output_type": "stream",
     "text": [
      "Epoch: 81, Done 100.0%, Loss: 0.5228866934776306, Accuracy: 90.625%: : 1250it [00:21, 58.08it/s]                \n"
     ]
    },
    {
     "name": "stdout",
     "output_type": "stream",
     "text": [
      "Avg loss: \u001b[32m0.6258954105734825\u001b[0m, Avg accuracy: \u001b[31m83.4000015258789\u001b[0m, Val loss: 0.9460706365184662, Val accuracy: 67.42\n",
      "Val acc did not improve from 68.26\n"
     ]
    },
    {
     "name": "stderr",
     "output_type": "stream",
     "text": [
      "Epoch: 82, Done 100.0%, Loss: 0.581797182559967, Accuracy: 84.375%: : 1250it [00:21, 57.73it/s]                 \n"
     ]
    },
    {
     "name": "stdout",
     "output_type": "stream",
     "text": [
      "Avg loss: \u001b[32m0.6250826052546501\u001b[0m, Avg accuracy: \u001b[31m83.60749816894531\u001b[0m, Val loss: 0.9440715955659604, Val accuracy: 67.42\n",
      "Val acc did not improve from 68.26\n"
     ]
    },
    {
     "name": "stderr",
     "output_type": "stream",
     "text": [
      "Epoch: 83, Done 100.0%, Loss: 0.5652902126312256, Accuracy: 84.375%: : 1250it [00:21, 56.99it/s]                \n"
     ]
    },
    {
     "name": "stdout",
     "output_type": "stream",
     "text": [
      "Avg loss: \u001b[32m0.6273469373226166\u001b[0m, Avg accuracy: \u001b[31m83.33000183105469\u001b[0m, Val loss: 0.9420572087978022, Val accuracy: 68.01\n",
      "Val acc did not improve from 68.26\n"
     ]
    },
    {
     "name": "stderr",
     "output_type": "stream",
     "text": [
      "Epoch: 84, Done 100.0%, Loss: 0.6748607754707336, Accuracy: 75.0%: : 1250it [00:20, 59.54it/s]                  \n"
     ]
    },
    {
     "name": "stdout",
     "output_type": "stream",
     "text": [
      "Avg loss: \u001b[32m0.6265819209337234\u001b[0m, Avg accuracy: \u001b[31m83.29249572753906\u001b[0m, Val loss: 0.9376105904198302, Val accuracy: 68.05\n",
      "Val acc did not improve from 68.26\n"
     ]
    },
    {
     "name": "stderr",
     "output_type": "stream",
     "text": [
      "Epoch: 85, Done 100.0%, Loss: 0.9096998572349548, Accuracy: 71.875%: : 1250it [00:21, 58.66it/s]                \n"
     ]
    },
    {
     "name": "stdout",
     "output_type": "stream",
     "text": [
      "Avg loss: \u001b[32m0.625998624253273\u001b[0m, Avg accuracy: \u001b[31m83.43499755859375\u001b[0m, Val loss: 0.9472793617758888, Val accuracy: 67.52\n",
      "Val acc did not improve from 68.26\n"
     ]
    },
    {
     "name": "stderr",
     "output_type": "stream",
     "text": [
      "Epoch: 86, Done 100.0%, Loss: 0.492724746465683, Accuracy: 87.5%: : 1250it [00:21, 57.47it/s]                   \n"
     ]
    },
    {
     "name": "stdout",
     "output_type": "stream",
     "text": [
      "Avg loss: \u001b[32m0.6288323088169098\u001b[0m, Avg accuracy: \u001b[31m83.30249786376953\u001b[0m, Val loss: 0.9478919924067232, Val accuracy: 67.46\n",
      "Val acc did not improve from 68.26\n"
     ]
    },
    {
     "name": "stderr",
     "output_type": "stream",
     "text": [
      "Epoch: 87, Done 100.0%, Loss: 0.42545461654663086, Accuracy: 90.625%: : 1250it [00:21, 57.13it/s]               \n"
     ]
    },
    {
     "name": "stdout",
     "output_type": "stream",
     "text": [
      "Avg loss: \u001b[32m0.6260227268457412\u001b[0m, Avg accuracy: \u001b[31m83.48499298095703\u001b[0m, Val loss: 0.9440611703708149, Val accuracy: 67.86\n",
      "Val acc did not improve from 68.26\n"
     ]
    },
    {
     "name": "stderr",
     "output_type": "stream",
     "text": [
      "Epoch: 88, Done 100.0%, Loss: 0.9790177345275879, Accuracy: 75.0%: : 1250it [00:20, 59.63it/s]                  \n"
     ]
    },
    {
     "name": "stdout",
     "output_type": "stream",
     "text": [
      "Avg loss: \u001b[32m0.6246427501916886\u001b[0m, Avg accuracy: \u001b[31m83.44749450683594\u001b[0m, Val loss: 0.945470425362785, Val accuracy: 67.52\n",
      "Val acc did not improve from 68.26\n"
     ]
    },
    {
     "name": "stderr",
     "output_type": "stream",
     "text": [
      "Epoch: 89, Done 100.0%, Loss: 0.8163817524909973, Accuracy: 81.25%: : 1250it [00:21, 56.87it/s]                 \n"
     ]
    },
    {
     "name": "stdout",
     "output_type": "stream",
     "text": [
      "Avg loss: \u001b[32m0.6272854762554169\u001b[0m, Avg accuracy: \u001b[31m83.27499389648438\u001b[0m, Val loss: 0.9410632242219517, Val accuracy: 67.75999999999999\n",
      "Val acc did not improve from 68.26\n"
     ]
    },
    {
     "name": "stderr",
     "output_type": "stream",
     "text": [
      "Epoch: 90, Done 100.0%, Loss: 0.6099852323532104, Accuracy: 78.125%: : 1250it [00:21, 57.14it/s]                \n"
     ]
    },
    {
     "name": "stdout",
     "output_type": "stream",
     "text": [
      "Avg loss: \u001b[32m0.6262708134770394\u001b[0m, Avg accuracy: \u001b[31m83.5374984741211\u001b[0m, Val loss: 0.9436759866845493, Val accuracy: 67.94\n",
      "Val acc did not improve from 68.26\n"
     ]
    },
    {
     "name": "stderr",
     "output_type": "stream",
     "text": [
      "Epoch: 91, Done 100.0%, Loss: 0.8805690407752991, Accuracy: 81.25%: : 1250it [00:21, 57.96it/s]                 \n"
     ]
    },
    {
     "name": "stdout",
     "output_type": "stream",
     "text": [
      "Avg loss: \u001b[32m0.6256737894892692\u001b[0m, Avg accuracy: \u001b[31m83.35250091552734\u001b[0m, Val loss: 0.9451925828814888, Val accuracy: 67.84\n",
      "Val acc did not improve from 68.26\n"
     ]
    },
    {
     "name": "stderr",
     "output_type": "stream",
     "text": [
      "Epoch: 92, Done 100.0%, Loss: 0.393436998128891, Accuracy: 93.75%: : 1250it [00:21, 57.87it/s]                  \n"
     ]
    },
    {
     "name": "stdout",
     "output_type": "stream",
     "text": [
      "Avg loss: \u001b[32m0.6260454586267471\u001b[0m, Avg accuracy: \u001b[31m83.29499816894531\u001b[0m, Val loss: 0.9400874277273306, Val accuracy: 67.77\n",
      "Val acc did not improve from 68.26\n"
     ]
    },
    {
     "name": "stderr",
     "output_type": "stream",
     "text": [
      "Epoch: 93, Done 100.0%, Loss: 0.43423473834991455, Accuracy: 93.75%: : 1250it [00:21, 57.01it/s]                \n"
     ]
    },
    {
     "name": "stdout",
     "output_type": "stream",
     "text": [
      "Avg loss: \u001b[32m0.6220787960290909\u001b[0m, Avg accuracy: \u001b[31m83.4574966430664\u001b[0m, Val loss: 0.9405944132195494, Val accuracy: 67.78999999999999\n",
      "Val acc did not improve from 68.26\n"
     ]
    },
    {
     "name": "stderr",
     "output_type": "stream",
     "text": [
      "Epoch: 94, Done 100.0%, Loss: 0.7516190409660339, Accuracy: 71.875%: : 1250it [00:21, 57.33it/s]                \n"
     ]
    },
    {
     "name": "stdout",
     "output_type": "stream",
     "text": [
      "Avg loss: \u001b[32m0.6270775139808655\u001b[0m, Avg accuracy: \u001b[31m83.39249420166016\u001b[0m, Val loss: 0.9418375971027837, Val accuracy: 68.06\n",
      "Val acc did not improve from 68.26\n"
     ]
    },
    {
     "name": "stderr",
     "output_type": "stream",
     "text": [
      "Epoch: 95, Done 100.0%, Loss: 0.4725600481033325, Accuracy: 93.75%: : 1250it [00:21, 56.82it/s]                 \n"
     ]
    },
    {
     "name": "stdout",
     "output_type": "stream",
     "text": [
      "Avg loss: \u001b[32m0.6253653584599494\u001b[0m, Avg accuracy: \u001b[31m83.4625015258789\u001b[0m, Val loss: 0.9490979165314867, Val accuracy: 67.60000000000001\n",
      "Val acc did not improve from 68.26\n"
     ]
    },
    {
     "name": "stderr",
     "output_type": "stream",
     "text": [
      "Epoch: 96, Done 100.0%, Loss: 0.7420166730880737, Accuracy: 71.875%: : 1250it [00:21, 57.37it/s]                \n"
     ]
    },
    {
     "name": "stdout",
     "output_type": "stream",
     "text": [
      "Avg loss: \u001b[32m0.6271828314065934\u001b[0m, Avg accuracy: \u001b[31m83.42499542236328\u001b[0m, Val loss: 0.9435100138377839, Val accuracy: 67.78\n",
      "Val acc did not improve from 68.26\n"
     ]
    },
    {
     "name": "stderr",
     "output_type": "stream",
     "text": [
      "Epoch: 97, Done 100.0%, Loss: 0.4781807065010071, Accuracy: 87.5%: : 1250it [00:22, 56.71it/s]                  \n"
     ]
    },
    {
     "name": "stdout",
     "output_type": "stream",
     "text": [
      "Avg loss: \u001b[32m0.626748003911972\u001b[0m, Avg accuracy: \u001b[31m83.43499755859375\u001b[0m, Val loss: 0.9408608676907354, Val accuracy: 67.77\n",
      "Val acc did not improve from 68.26\n"
     ]
    },
    {
     "name": "stderr",
     "output_type": "stream",
     "text": [
      "Epoch: 98, Done 100.0%, Loss: 0.6421307921409607, Accuracy: 87.5%: : 1250it [00:21, 57.65it/s]                  \n"
     ]
    },
    {
     "name": "stdout",
     "output_type": "stream",
     "text": [
      "Avg loss: \u001b[32m0.6266885375499726\u001b[0m, Avg accuracy: \u001b[31m83.27249908447266\u001b[0m, Val loss: 0.9427952859729243, Val accuracy: 67.65\n",
      "Val acc did not improve from 68.26\n"
     ]
    },
    {
     "name": "stderr",
     "output_type": "stream",
     "text": [
      "Epoch: 99, Done 100.0%, Loss: 0.6362365484237671, Accuracy: 75.0%: : 1250it [00:21, 57.89it/s]                  \n"
     ]
    },
    {
     "name": "stdout",
     "output_type": "stream",
     "text": [
      "Avg loss: \u001b[32m0.6283840420484543\u001b[0m, Avg accuracy: \u001b[31m83.4324951171875\u001b[0m, Val loss: 0.9431370147310507, Val accuracy: 67.67999999999999\n",
      "Val acc did not improve from 68.26\n",
      "Finished Training\n",
      "Test acc: 67.47%, test loss: 0.9603727699849552\n"
     ]
    }
   ],
   "source": [
    "accs, losses = train(100)\n",
    "acc, loss = test(testloader)\n",
    "print(f'Test acc: {acc}%, test loss: {loss}')"
   ]
  },
  {
   "cell_type": "code",
   "execution_count": null,
   "metadata": {},
   "outputs": [],
   "source": []
  },
  {
   "cell_type": "code",
   "execution_count": null,
   "metadata": {},
   "outputs": [],
   "source": []
  },
  {
   "cell_type": "code",
   "execution_count": null,
   "metadata": {},
   "outputs": [],
   "source": []
  },
  {
   "cell_type": "code",
   "execution_count": null,
   "metadata": {},
   "outputs": [],
   "source": []
  }
 ],
 "metadata": {
  "kernelspec": {
   "display_name": "Python 3",
   "language": "python",
   "name": "python3"
  },
  "language_info": {
   "codemirror_mode": {
    "name": "ipython",
    "version": 3
   },
   "file_extension": ".py",
   "mimetype": "text/x-python",
   "name": "python",
   "nbconvert_exporter": "python",
   "pygments_lexer": "ipython3",
   "version": "3.7.7"
  }
 },
 "nbformat": 4,
 "nbformat_minor": 4
}
