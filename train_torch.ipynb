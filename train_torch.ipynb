{
 "cells": [
  {
   "cell_type": "code",
   "execution_count": 5,
   "metadata": {},
   "outputs": [
    {
     "data": {
      "text/plain": [
       "'1.7.1'"
      ]
     },
     "execution_count": 5,
     "metadata": {},
     "output_type": "execute_result"
    }
   ],
   "source": [
    "import torch\n",
    "import torchvision\n",
    "import torchvision.transforms as transforms\n",
    "import numpy as np\n",
    "from matplotlib import pyplot as plt\n",
    "import torch.nn as nn\n",
    "import torch.nn.functional as F\n",
    "import torch.optim as optim\n",
    "from tqdm import tqdm\n",
    "import os\n",
    "import torchvision.models as tmodels\n",
    "%matplotlib inline\n",
    "torch.__version__"
   ]
  },
  {
   "cell_type": "code",
   "execution_count": 6,
   "metadata": {},
   "outputs": [
    {
     "name": "stdout",
     "output_type": "stream",
     "text": [
      "Files already downloaded and verified\n",
      "Files already downloaded and verified\n"
     ]
    }
   ],
   "source": [
    "#data\n",
    "transform = transforms.Compose([\n",
    "    transforms.ToTensor(),\n",
    "    transforms.Normalize((.5, .5, .5), (.5, .5, .5))\n",
    "])\n",
    "\n",
    "BATCH_SIZE=32\n",
    "\n",
    "trainset = torchvision.datasets.CIFAR10(root='./data', train=True,\n",
    "                                        download=True, transform=transform)\n",
    "train_subset, val_subset = torch.utils.data.random_split(trainset, [40000, 10000])\n",
    "\n",
    "trainloader = torch.utils.data.DataLoader(train_subset, batch_size=BATCH_SIZE,\n",
    "                                          shuffle=True, num_workers=2)\n",
    "valloader = torch.utils.data.DataLoader(val_subset, batch_size=BATCH_SIZE,\n",
    "                                          shuffle=True, num_workers=2)\n",
    "\n",
    "testset = torchvision.datasets.CIFAR10(root='./data', train=False,\n",
    "                                       download=True, transform=transform)\n",
    "testloader = torch.utils.data.DataLoader(testset, batch_size=BATCH_SIZE,\n",
    "                                         shuffle=False, num_workers=2)\n",
    "\n",
    "classes = ('plane', 'car', 'bird', 'cat',\n",
    "           'deer', 'dog', 'frog', 'horse', 'ship', 'truck')"
   ]
  },
  {
   "cell_type": "code",
   "execution_count": 7,
   "metadata": {},
   "outputs": [
    {
     "name": "stdout",
     "output_type": "stream",
     "text": [
      "Net(\n",
      "  (conv1): Conv2d(3, 6, kernel_size=(5, 5), stride=(1, 1))\n",
      "  (bn1): BatchNorm2d(6, eps=1e-05, momentum=0.1, affine=True, track_running_stats=True)\n",
      "  (pool): MaxPool2d(kernel_size=2, stride=2, padding=0, dilation=1, ceil_mode=False)\n",
      "  (conv2): Conv2d(6, 16, kernel_size=(5, 5), stride=(1, 1))\n",
      "  (bn2): BatchNorm2d(16, eps=1e-05, momentum=0.1, affine=True, track_running_stats=True)\n",
      "  (fc1): Linear(in_features=400, out_features=120, bias=True)\n",
      "  (fc2): Linear(in_features=120, out_features=10, bias=True)\n",
      "  (act): Softmax(dim=-1)\n",
      "  (loss_fn): CrossEntropyLoss()\n",
      ")\n"
     ]
    },
    {
     "name": "stderr",
     "output_type": "stream",
     "text": [
      "Done 100.0%, Epoch: 0, Loss: 1.4806303977966309, Accuracy: 43.75%: : 1250it [00:12, 101.30it/s]                \n"
     ]
    },
    {
     "name": "stdout",
     "output_type": "stream",
     "text": [
      "Avg loss: 1.4895156299591064, Avg accuracy: 46.099998474121094, Val loss: 0.04063269572854042, Val accuracy: 54.059999999999995\n",
      "Improved val acc from -inf to 54.059999999999995, saving model\n"
     ]
    },
    {
     "name": "stderr",
     "output_type": "stream",
     "text": [
      "Done 100.0%, Epoch: 1, Loss: 1.1829822063446045, Accuracy: 59.375%: : 1250it [00:12, 99.73it/s]                \n"
     ]
    },
    {
     "name": "stdout",
     "output_type": "stream",
     "text": [
      "Avg loss: 1.230985656785965, Avg accuracy: 56.17499923706055, Val loss: 0.037600424873828885, Val accuracy: 57.269999999999996\n",
      "Improved val acc from 54.059999999999995 to 57.269999999999996, saving model\n"
     ]
    },
    {
     "name": "stderr",
     "output_type": "stream",
     "text": [
      "Done 100.0%, Epoch: 2, Loss: 1.2769052982330322, Accuracy: 50.0%: : 1250it [00:12, 101.23it/s]                 \n"
     ]
    },
    {
     "name": "stdout",
     "output_type": "stream",
     "text": [
      "Avg loss: 1.1214902032375336, Avg accuracy: 60.4375, Val loss: 0.03605721257328987, Val accuracy: 59.48\n",
      "Improved val acc from 57.269999999999996 to 59.48, saving model\n"
     ]
    },
    {
     "name": "stderr",
     "output_type": "stream",
     "text": [
      "Done 100.0%, Epoch: 3, Loss: 0.9716755747795105, Accuracy: 62.5%: : 1250it [00:12, 99.71it/s]                  \n"
     ]
    },
    {
     "name": "stdout",
     "output_type": "stream",
     "text": [
      "Avg loss: 1.0551717871665955, Avg accuracy: 62.71999740600586, Val loss: 0.034446410894393924, Val accuracy: 61.3\n",
      "Improved val acc from 59.48 to 61.3, saving model\n"
     ]
    },
    {
     "name": "stderr",
     "output_type": "stream",
     "text": [
      "Done 100.0%, Epoch: 4, Loss: 0.809020459651947, Accuracy: 71.875%: : 1250it [00:12, 101.85it/s]                \n"
     ]
    },
    {
     "name": "stdout",
     "output_type": "stream",
     "text": [
      "Avg loss: 1.0102594733953476, Avg accuracy: 64.40999603271484, Val loss: 0.03393222024440765, Val accuracy: 61.95\n",
      "Improved val acc from 61.3 to 61.95, saving model\n"
     ]
    },
    {
     "name": "stderr",
     "output_type": "stream",
     "text": [
      "Done 100.0%, Epoch: 5, Loss: 1.0852054357528687, Accuracy: 56.25%: : 1250it [00:12, 102.07it/s]                \n"
     ]
    },
    {
     "name": "stdout",
     "output_type": "stream",
     "text": [
      "Avg loss: 0.969020359325409, Avg accuracy: 65.63999938964844, Val loss: 0.03484497417211532, Val accuracy: 60.99\n",
      "Val acc did not improve from 61.95\n"
     ]
    },
    {
     "name": "stderr",
     "output_type": "stream",
     "text": [
      "Done 100.0%, Epoch: 6, Loss: 0.999629020690918, Accuracy: 59.375%: : 1250it [00:12, 103.75it/s]                \n"
     ]
    },
    {
     "name": "stdout",
     "output_type": "stream",
     "text": [
      "Avg loss: 0.9371036018133163, Avg accuracy: 67.06999969482422, Val loss: 0.03305332635939121, Val accuracy: 62.79\n",
      "Improved val acc from 61.95 to 62.79, saving model\n"
     ]
    },
    {
     "name": "stderr",
     "output_type": "stream",
     "text": [
      "Done 100.0%, Epoch: 7, Loss: 1.0154247283935547, Accuracy: 65.625%: : 1250it [00:12, 100.96it/s]               \n"
     ]
    },
    {
     "name": "stdout",
     "output_type": "stream",
     "text": [
      "Avg loss: 0.9086149553775787, Avg accuracy: 68.2874984741211, Val loss: 0.03248782818317413, Val accuracy: 63.629999999999995\n",
      "Improved val acc from 62.79 to 63.629999999999995, saving model\n"
     ]
    },
    {
     "name": "stderr",
     "output_type": "stream",
     "text": [
      "Done 100.0%, Epoch: 8, Loss: 1.0662214756011963, Accuracy: 68.75%: : 1250it [00:12, 102.42it/s]                \n"
     ]
    },
    {
     "name": "stdout",
     "output_type": "stream",
     "text": [
      "Avg loss: 0.8850459663391114, Avg accuracy: 68.93999481201172, Val loss: 0.03378617499470711, Val accuracy: 62.96000000000001\n",
      "Val acc did not improve from 63.629999999999995\n"
     ]
    },
    {
     "name": "stderr",
     "output_type": "stream",
     "text": [
      "Done 100.0%, Epoch: 9, Loss: 0.9164107441902161, Accuracy: 75.0%: : 1250it [00:12, 99.85it/s]                  \n"
     ]
    },
    {
     "name": "stdout",
     "output_type": "stream",
     "text": [
      "Avg loss: 0.8616457776546478, Avg accuracy: 69.70999908447266, Val loss: 0.03421612120866775, Val accuracy: 62.77\n",
      "Val acc did not improve from 63.629999999999995\n"
     ]
    },
    {
     "name": "stderr",
     "output_type": "stream",
     "text": [
      "Done 100.0%, Epoch: 10, Loss: 1.428390383720398, Accuracy: 53.125%: : 1250it [00:13, 90.56it/s]                 \n"
     ]
    },
    {
     "name": "stdout",
     "output_type": "stream",
     "text": [
      "Avg loss: 0.8385244832515717, Avg accuracy: 70.44499969482422, Val loss: 0.03301772057712078, Val accuracy: 64.55\n",
      "Improved val acc from 63.629999999999995 to 64.55, saving model\n"
     ]
    },
    {
     "name": "stderr",
     "output_type": "stream",
     "text": [
      "Done 100.0%, Epoch: 11, Loss: 0.7766291499137878, Accuracy: 71.875%: : 1250it [00:12, 98.63it/s]                \n"
     ]
    },
    {
     "name": "stdout",
     "output_type": "stream",
     "text": [
      "Avg loss: 0.8138383781433105, Avg accuracy: 71.19999694824219, Val loss: 0.03359309117794037, Val accuracy: 63.32\n",
      "Val acc did not improve from 64.55\n"
     ]
    },
    {
     "name": "stderr",
     "output_type": "stream",
     "text": [
      "Done 100.0%, Epoch: 12, Loss: 0.8468648791313171, Accuracy: 71.875%: : 1250it [00:12, 97.29it/s]                \n"
     ]
    },
    {
     "name": "stdout",
     "output_type": "stream",
     "text": [
      "Avg loss: 0.8001632097005844, Avg accuracy: 71.87749481201172, Val loss: 0.03281128996014595, Val accuracy: 64.16\n",
      "Val acc did not improve from 64.55\n"
     ]
    },
    {
     "name": "stderr",
     "output_type": "stream",
     "text": [
      "Done 100.0%, Epoch: 13, Loss: 0.5536693930625916, Accuracy: 75.0%: : 1250it [00:12, 100.98it/s]                 \n"
     ]
    },
    {
     "name": "stdout",
     "output_type": "stream",
     "text": [
      "Avg loss: 0.783568668293953, Avg accuracy: 72.32749938964844, Val loss: 0.03383625349998474, Val accuracy: 63.349999999999994\n",
      "Val acc did not improve from 64.55\n"
     ]
    },
    {
     "name": "stderr",
     "output_type": "stream",
     "text": [
      "Done 100.0%, Epoch: 14, Loss: 0.6994861960411072, Accuracy: 68.75%: : 1250it [00:12, 99.08it/s]                 \n"
     ]
    },
    {
     "name": "stdout",
     "output_type": "stream",
     "text": [
      "Avg loss: 0.7667898837327957, Avg accuracy: 73.15499877929688, Val loss: 0.034369914534688, Val accuracy: 63.13999999999999\n",
      "Val acc did not improve from 64.55\n"
     ]
    },
    {
     "name": "stderr",
     "output_type": "stream",
     "text": [
      "Done 100.0%, Epoch: 15, Loss: 0.603874146938324, Accuracy: 81.25%: : 1250it [00:12, 101.94it/s]                 \n"
     ]
    },
    {
     "name": "stdout",
     "output_type": "stream",
     "text": [
      "Avg loss: 0.755884816479683, Avg accuracy: 73.38499450683594, Val loss: 0.033327710229158404, Val accuracy: 64.17\n",
      "Val acc did not improve from 64.55\n"
     ]
    },
    {
     "name": "stderr",
     "output_type": "stream",
     "text": [
      "Done 100.0%, Epoch: 16, Loss: 0.5445178151130676, Accuracy: 78.125%: : 1250it [00:12, 100.00it/s]                \n"
     ]
    },
    {
     "name": "stdout",
     "output_type": "stream",
     "text": [
      "Avg loss: 0.7440647961616517, Avg accuracy: 73.78499603271484, Val loss: 0.03407289440333843, Val accuracy: 63.33\n",
      "Val acc did not improve from 64.55\n"
     ]
    },
    {
     "name": "stderr",
     "output_type": "stream",
     "text": [
      "Done 100.0%, Epoch: 17, Loss: 0.705632209777832, Accuracy: 75.0%: : 1250it [00:12, 103.68it/s]                  \n"
     ]
    },
    {
     "name": "stdout",
     "output_type": "stream",
     "text": [
      "Avg loss: 0.7268603977441788, Avg accuracy: 74.22249603271484, Val loss: 0.03539599770903587, Val accuracy: 62.28\n",
      "Val acc did not improve from 64.55\n"
     ]
    },
    {
     "name": "stderr",
     "output_type": "stream",
     "text": [
      "Done 100.0%, Epoch: 18, Loss: 0.8494846820831299, Accuracy: 71.875%: : 1250it [00:12, 100.77it/s]               \n"
     ]
    },
    {
     "name": "stdout",
     "output_type": "stream",
     "text": [
      "Avg loss: 0.7150932569384575, Avg accuracy: 74.9000015258789, Val loss: 0.034879169559478757, Val accuracy: 63.470000000000006\n",
      "Val acc did not improve from 64.55\n"
     ]
    },
    {
     "name": "stderr",
     "output_type": "stream",
     "text": [
      "Done 100.0%, Epoch: 19, Loss: 0.36451220512390137, Accuracy: 81.25%: : 1250it [00:12, 100.30it/s]                \n"
     ]
    },
    {
     "name": "stdout",
     "output_type": "stream",
     "text": [
      "Avg loss: 0.5941450350522995, Avg accuracy: 79.60250091552734, Val loss: 0.032735426968336104, Val accuracy: 65.53\n",
      "Improved val acc from 64.55 to 65.53, saving model\n"
     ]
    },
    {
     "name": "stderr",
     "output_type": "stream",
     "text": [
      "Done 100.0%, Epoch: 20, Loss: 0.6710517406463623, Accuracy: 78.125%: : 1250it [00:12, 102.81it/s]                \n"
     ]
    },
    {
     "name": "stdout",
     "output_type": "stream",
     "text": [
      "Avg loss: 0.572695481979847, Avg accuracy: 80.46749877929688, Val loss: 0.03273323449194431, Val accuracy: 65.79\n",
      "Improved val acc from 65.53 to 65.79, saving model\n"
     ]
    },
    {
     "name": "stderr",
     "output_type": "stream",
     "text": [
      "Done 100.0%, Epoch: 21, Loss: 0.5313686728477478, Accuracy: 84.375%: : 1250it [00:12, 103.07it/s]                \n"
     ]
    },
    {
     "name": "stdout",
     "output_type": "stream",
     "text": [
      "Avg loss: 0.5622232234954834, Avg accuracy: 80.96749877929688, Val loss: 0.03294451543688774, Val accuracy: 65.68\n",
      "Val acc did not improve from 65.79\n"
     ]
    },
    {
     "name": "stderr",
     "output_type": "stream",
     "text": [
      "Done 100.0%, Epoch: 22, Loss: 0.7039917707443237, Accuracy: 84.375%: : 1250it [00:12, 103.03it/s]                \n"
     ]
    },
    {
     "name": "stdout",
     "output_type": "stream",
     "text": [
      "Avg loss: 0.5590156863570214, Avg accuracy: 80.88749694824219, Val loss: 0.03292479802668095, Val accuracy: 65.63\n",
      "Val acc did not improve from 65.79\n"
     ]
    },
    {
     "name": "stderr",
     "output_type": "stream",
     "text": [
      "Done 100.0%, Epoch: 23, Loss: 0.675681471824646, Accuracy: 75.0%: : 1250it [00:12, 97.63it/s]                    \n"
     ]
    },
    {
     "name": "stdout",
     "output_type": "stream",
     "text": [
      "Avg loss: 0.5529817378044128, Avg accuracy: 81.12749481201172, Val loss: 0.033112385457754134, Val accuracy: 65.44\n",
      "Val acc did not improve from 65.79\n"
     ]
    },
    {
     "name": "stderr",
     "output_type": "stream",
     "text": [
      "Done 100.0%, Epoch: 24, Loss: 0.3481484651565552, Accuracy: 90.625%: : 1250it [00:12, 97.55it/s]                 \n"
     ]
    },
    {
     "name": "stdout",
     "output_type": "stream",
     "text": [
      "Avg loss: 0.5456542113304138, Avg accuracy: 81.4324951171875, Val loss: 0.03328915624022484, Val accuracy: 65.38000000000001\n",
      "Val acc did not improve from 65.79\n"
     ]
    },
    {
     "name": "stderr",
     "output_type": "stream",
     "text": [
      "Done 100.0%, Epoch: 25, Loss: 0.3781820237636566, Accuracy: 84.375%: : 1250it [00:13, 93.22it/s]                \n"
     ]
    },
    {
     "name": "stdout",
     "output_type": "stream",
     "text": [
      "Avg loss: 0.5412473874568939, Avg accuracy: 81.73249816894531, Val loss: 0.03330243830680847, Val accuracy: 65.91\n",
      "Improved val acc from 65.79 to 65.91, saving model\n"
     ]
    },
    {
     "name": "stderr",
     "output_type": "stream",
     "text": [
      "Done 100.0%, Epoch: 26, Loss: 0.6594664454460144, Accuracy: 78.125%: : 1250it [00:12, 101.17it/s]                \n"
     ]
    },
    {
     "name": "stdout",
     "output_type": "stream",
     "text": [
      "Avg loss: 0.5369607419371605, Avg accuracy: 81.70249938964844, Val loss: 0.033344922947883604, Val accuracy: 65.60000000000001\n",
      "Val acc did not improve from 65.91\n"
     ]
    },
    {
     "name": "stderr",
     "output_type": "stream",
     "text": [
      "Done 100.0%, Epoch: 27, Loss: 0.7140985131263733, Accuracy: 75.0%: : 1250it [00:12, 100.03it/s]                 \n"
     ]
    },
    {
     "name": "stdout",
     "output_type": "stream",
     "text": [
      "Avg loss: 0.5333272772550582, Avg accuracy: 81.88749694824219, Val loss: 0.03369282685816288, Val accuracy: 65.55\n",
      "Val acc did not improve from 65.91\n"
     ]
    },
    {
     "name": "stderr",
     "output_type": "stream",
     "text": [
      "Done 100.0%, Epoch: 28, Loss: 0.43855905532836914, Accuracy: 81.25%: : 1250it [00:12, 102.98it/s]                \n"
     ]
    },
    {
     "name": "stdout",
     "output_type": "stream",
     "text": [
      "Avg loss: 0.5286020846962929, Avg accuracy: 82.0875015258789, Val loss: 0.03391870332062245, Val accuracy: 64.97\n",
      "Val acc did not improve from 65.91\n"
     ]
    },
    {
     "name": "stderr",
     "output_type": "stream",
     "text": [
      "Done 100.0%, Epoch: 29, Loss: 0.6327085494995117, Accuracy: 68.75%: : 1250it [00:12, 100.97it/s]                 \n"
     ]
    },
    {
     "name": "stdout",
     "output_type": "stream",
     "text": [
      "Avg loss: 0.5238872566938401, Avg accuracy: 82.04750061035156, Val loss: 0.03395608721971512, Val accuracy: 65.36\n",
      "Val acc did not improve from 65.91\n"
     ]
    },
    {
     "name": "stderr",
     "output_type": "stream",
     "text": [
      "Done 100.0%, Epoch: 30, Loss: 0.3163582980632782, Accuracy: 93.75%: : 1250it [00:12, 97.41it/s]                  \n"
     ]
    },
    {
     "name": "stdout",
     "output_type": "stream",
     "text": [
      "Avg loss: 0.5071760439872741, Avg accuracy: 82.98999786376953, Val loss: 0.033740981245040894, Val accuracy: 65.66\n",
      "Val acc did not improve from 65.91\n"
     ]
    },
    {
     "name": "stderr",
     "output_type": "stream",
     "text": [
      "Done 100.0%, Epoch: 31, Loss: 0.7854593396186829, Accuracy: 71.875%: : 1250it [00:13, 95.23it/s]                 \n"
     ]
    },
    {
     "name": "stdout",
     "output_type": "stream",
     "text": [
      "Avg loss: 0.50779049077034, Avg accuracy: 83.01249694824219, Val loss: 0.03373624591529369, Val accuracy: 65.39\n",
      "Val acc did not improve from 65.91\n"
     ]
    },
    {
     "name": "stderr",
     "output_type": "stream",
     "text": [
      "Done 100.0%, Epoch: 32, Loss: 0.8273479342460632, Accuracy: 65.625%: : 1250it [00:11, 105.53it/s]                \n"
     ]
    },
    {
     "name": "stdout",
     "output_type": "stream",
     "text": [
      "Avg loss: 0.5035237138390541, Avg accuracy: 82.99749755859375, Val loss: 0.03384344153404236, Val accuracy: 65.73\n",
      "Val acc did not improve from 65.91\n"
     ]
    },
    {
     "name": "stderr",
     "output_type": "stream",
     "text": [
      "Done 100.0%, Epoch: 33, Loss: 0.3982388973236084, Accuracy: 90.625%: : 1250it [00:12, 101.98it/s]                \n"
     ]
    },
    {
     "name": "stdout",
     "output_type": "stream",
     "text": [
      "Avg loss: 0.5050259923696518, Avg accuracy: 83.01499938964844, Val loss: 0.033909169617295266, Val accuracy: 65.41\n",
      "Val acc did not improve from 65.91\n"
     ]
    },
    {
     "name": "stderr",
     "output_type": "stream",
     "text": [
      "Done 100.0%, Epoch: 34, Loss: 0.4366537630558014, Accuracy: 84.375%: : 1250it [00:10, 124.71it/s]                \n"
     ]
    },
    {
     "name": "stdout",
     "output_type": "stream",
     "text": [
      "Avg loss: 0.5053859728813171, Avg accuracy: 83.10499572753906, Val loss: 0.03398090186715126, Val accuracy: 65.46\n",
      "Val acc did not improve from 65.91\n"
     ]
    },
    {
     "name": "stderr",
     "output_type": "stream",
     "text": [
      "Done 100.0%, Epoch: 35, Loss: 0.5894483327865601, Accuracy: 81.25%: : 1250it [00:09, 131.23it/s]                 \n"
     ]
    },
    {
     "name": "stdout",
     "output_type": "stream",
     "text": [
      "Avg loss: 0.50359090539217, Avg accuracy: 83.07249450683594, Val loss: 0.033969401556253435, Val accuracy: 65.35\n",
      "Val acc did not improve from 65.91\n"
     ]
    },
    {
     "name": "stderr",
     "output_type": "stream",
     "text": [
      "Done 100.0%, Epoch: 36, Loss: 0.4695676267147064, Accuracy: 87.5%: : 1250it [00:10, 122.19it/s]                  \n"
     ]
    },
    {
     "name": "stdout",
     "output_type": "stream",
     "text": [
      "Avg loss: 0.5035523524045944, Avg accuracy: 83.20999908447266, Val loss: 0.0339464280217886, Val accuracy: 65.42\n",
      "Val acc did not improve from 65.91\n"
     ]
    },
    {
     "name": "stderr",
     "output_type": "stream",
     "text": [
      "Done 100.0%, Epoch: 37, Loss: 0.5636840462684631, Accuracy: 78.125%: : 1250it [00:11, 105.72it/s]                \n"
     ]
    },
    {
     "name": "stdout",
     "output_type": "stream",
     "text": [
      "Avg loss: 0.5034567755103111, Avg accuracy: 83.0625, Val loss: 0.03410156211256981, Val accuracy: 65.23\n",
      "Val acc did not improve from 65.91\n"
     ]
    },
    {
     "name": "stderr",
     "output_type": "stream",
     "text": [
      "Done 100.0%, Epoch: 38, Loss: 0.5365199446678162, Accuracy: 81.25%: : 1250it [00:09, 127.99it/s]                 \n"
     ]
    },
    {
     "name": "stdout",
     "output_type": "stream",
     "text": [
      "Avg loss: 0.5033208212256431, Avg accuracy: 83.11000061035156, Val loss: 0.03392804696559906, Val accuracy: 65.33\n",
      "Val acc did not improve from 65.91\n"
     ]
    },
    {
     "name": "stderr",
     "output_type": "stream",
     "text": [
      "Done 100.0%, Epoch: 39, Loss: 0.6346743106842041, Accuracy: 75.0%: : 1250it [00:09, 128.97it/s]                  \n"
     ]
    },
    {
     "name": "stdout",
     "output_type": "stream",
     "text": [
      "Avg loss: 0.5005893742918969, Avg accuracy: 83.00499725341797, Val loss: 0.033960932809114455, Val accuracy: 65.4\n",
      "Val acc did not improve from 65.91\n"
     ]
    },
    {
     "name": "stderr",
     "output_type": "stream",
     "text": [
      "Done 100.0%, Epoch: 40, Loss: 0.3063873052597046, Accuracy: 90.625%: : 1250it [00:10, 114.17it/s]                \n"
     ]
    },
    {
     "name": "stdout",
     "output_type": "stream",
     "text": [
      "Avg loss: 0.49958630061149595, Avg accuracy: 83.31499481201172, Val loss: 0.0339855283588171, Val accuracy: 65.41\n",
      "Val acc did not improve from 65.91\n"
     ]
    },
    {
     "name": "stderr",
     "output_type": "stream",
     "text": [
      "Done 100.0%, Epoch: 41, Loss: 0.59000563621521, Accuracy: 81.25%: : 1250it [00:09, 127.42it/s]                   \n"
     ]
    },
    {
     "name": "stdout",
     "output_type": "stream",
     "text": [
      "Avg loss: 0.49768428201675413, Avg accuracy: 83.4749984741211, Val loss: 0.03402452719211578, Val accuracy: 65.99000000000001\n",
      "Improved val acc from 65.91 to 65.99000000000001, saving model\n"
     ]
    },
    {
     "name": "stderr",
     "output_type": "stream",
     "text": [
      "Done 100.0%, Epoch: 42, Loss: 0.28971949219703674, Accuracy: 90.625%: : 1250it [00:09, 127.44it/s]               \n"
     ]
    },
    {
     "name": "stdout",
     "output_type": "stream",
     "text": [
      "Avg loss: 0.4977601330399513, Avg accuracy: 83.46499633789062, Val loss: 0.03395670303106308, Val accuracy: 65.19\n",
      "Val acc did not improve from 65.99000000000001\n"
     ]
    },
    {
     "name": "stderr",
     "output_type": "stream",
     "text": [
      "Done 100.0%, Epoch: 43, Loss: 0.4130408465862274, Accuracy: 84.375%: : 1250it [00:10, 114.34it/s]                \n"
     ]
    },
    {
     "name": "stdout",
     "output_type": "stream",
     "text": [
      "Avg loss: 0.49954821709394454, Avg accuracy: 83.11499786376953, Val loss: 0.0340329617023468, Val accuracy: 65.36\n",
      "Val acc did not improve from 65.99000000000001\n"
     ]
    },
    {
     "name": "stderr",
     "output_type": "stream",
     "text": [
      "Done 100.0%, Epoch: 44, Loss: 0.48524266481399536, Accuracy: 84.375%: : 1250it [00:11, 110.33it/s]               \n"
     ]
    },
    {
     "name": "stdout",
     "output_type": "stream",
     "text": [
      "Avg loss: 0.4992061930298805, Avg accuracy: 83.3074951171875, Val loss: 0.033989552241563796, Val accuracy: 65.5\n",
      "Val acc did not improve from 65.99000000000001\n"
     ]
    },
    {
     "name": "stderr",
     "output_type": "stream",
     "text": [
      "Done 100.0%, Epoch: 45, Loss: 0.4781523048877716, Accuracy: 81.25%: : 1250it [00:12, 97.97it/s]                  \n"
     ]
    },
    {
     "name": "stdout",
     "output_type": "stream",
     "text": [
      "Avg loss: 0.4981306799173355, Avg accuracy: 83.33999633789062, Val loss: 0.03381923146545887, Val accuracy: 65.64999999999999\n",
      "Val acc did not improve from 65.99000000000001\n"
     ]
    },
    {
     "name": "stderr",
     "output_type": "stream",
     "text": [
      "Done 100.0%, Epoch: 46, Loss: 0.2872532606124878, Accuracy: 93.75%: : 1250it [00:12, 98.85it/s]                  \n"
     ]
    },
    {
     "name": "stdout",
     "output_type": "stream",
     "text": [
      "Avg loss: 0.49797988665103915, Avg accuracy: 83.33999633789062, Val loss: 0.03405716863274574, Val accuracy: 65.11\n",
      "Val acc did not improve from 65.99000000000001\n"
     ]
    },
    {
     "name": "stderr",
     "output_type": "stream",
     "text": [
      "Done 100.0%, Epoch: 47, Loss: 0.37633371353149414, Accuracy: 87.5%: : 1250it [00:12, 100.74it/s]                \n"
     ]
    },
    {
     "name": "stdout",
     "output_type": "stream",
     "text": [
      "Avg loss: 0.49631219588518144, Avg accuracy: 83.38499450683594, Val loss: 0.034090191653370856, Val accuracy: 65.25999999999999\n",
      "Val acc did not improve from 65.99000000000001\n"
     ]
    },
    {
     "name": "stderr",
     "output_type": "stream",
     "text": [
      "Done 100.0%, Epoch: 48, Loss: 0.36084359884262085, Accuracy: 87.5%: : 1250it [00:12, 103.20it/s]                \n"
     ]
    },
    {
     "name": "stdout",
     "output_type": "stream",
     "text": [
      "Avg loss: 0.4987632366657257, Avg accuracy: 83.25999450683594, Val loss: 0.0339614065527916, Val accuracy: 65.16\n",
      "Val acc did not improve from 65.99000000000001\n"
     ]
    },
    {
     "name": "stderr",
     "output_type": "stream",
     "text": [
      "Done 100.0%, Epoch: 49, Loss: 0.4767822325229645, Accuracy: 84.375%: : 1250it [00:12, 103.26it/s]                \n"
     ]
    },
    {
     "name": "stdout",
     "output_type": "stream",
     "text": [
      "Avg loss: 0.4989355180859566, Avg accuracy: 83.31749725341797, Val loss: 0.034042425215244296, Val accuracy: 65.56\n",
      "Val acc did not improve from 65.99000000000001\n"
     ]
    },
    {
     "name": "stderr",
     "output_type": "stream",
     "text": [
      "Done 100.0%, Epoch: 50, Loss: 0.5489130616188049, Accuracy: 81.25%: : 1250it [00:11, 105.48it/s]                 \n"
     ]
    },
    {
     "name": "stdout",
     "output_type": "stream",
     "text": [
      "Avg loss: 0.49798294175863267, Avg accuracy: 83.3324966430664, Val loss: 0.03409848079681396, Val accuracy: 65.5\n",
      "Val acc did not improve from 65.99000000000001\n"
     ]
    },
    {
     "name": "stderr",
     "output_type": "stream",
     "text": [
      "Done 100.0%, Epoch: 51, Loss: 0.31359028816223145, Accuracy: 87.5%: : 1250it [00:12, 100.32it/s]                 \n"
     ]
    },
    {
     "name": "stdout",
     "output_type": "stream",
     "text": [
      "Avg loss: 0.4966620008230209, Avg accuracy: 83.33999633789062, Val loss: 0.03393625090718269, Val accuracy: 65.5\n",
      "Val acc did not improve from 65.99000000000001\n"
     ]
    },
    {
     "name": "stderr",
     "output_type": "stream",
     "text": [
      "Done 100.0%, Epoch: 52, Loss: 0.4209016263484955, Accuracy: 93.75%: : 1250it [00:12, 99.41it/s]                  \n"
     ]
    },
    {
     "name": "stdout",
     "output_type": "stream",
     "text": [
      "Avg loss: 0.49948568217754363, Avg accuracy: 83.30249786376953, Val loss: 0.034166020199656484, Val accuracy: 65.21000000000001\n",
      "Val acc did not improve from 65.99000000000001\n"
     ]
    },
    {
     "name": "stderr",
     "output_type": "stream",
     "text": [
      "Done 100.0%, Epoch: 53, Loss: 0.394840270280838, Accuracy: 84.375%: : 1250it [00:13, 95.26it/s]                  \n"
     ]
    },
    {
     "name": "stdout",
     "output_type": "stream",
     "text": [
      "Avg loss: 0.49592113863229753, Avg accuracy: 83.22000122070312, Val loss: 0.03423364385068416, Val accuracy: 65.13\n",
      "Val acc did not improve from 65.99000000000001\n"
     ]
    },
    {
     "name": "stderr",
     "output_type": "stream",
     "text": [
      "Done 100.0%, Epoch: 54, Loss: 0.48391440510749817, Accuracy: 87.5%: : 1250it [00:12, 102.89it/s]                 \n"
     ]
    },
    {
     "name": "stdout",
     "output_type": "stream",
     "text": [
      "Avg loss: 0.5004534280180931, Avg accuracy: 83.29999542236328, Val loss: 0.03401769952774048, Val accuracy: 65.41\n",
      "Val acc did not improve from 65.99000000000001\n"
     ]
    },
    {
     "name": "stderr",
     "output_type": "stream",
     "text": [
      "Done 100.0%, Epoch: 55, Loss: 0.4790906310081482, Accuracy: 87.5%: : 1250it [00:12, 103.08it/s]                  \n"
     ]
    },
    {
     "name": "stdout",
     "output_type": "stream",
     "text": [
      "Avg loss: 0.4987887305736542, Avg accuracy: 83.25749969482422, Val loss: 0.033978042358160016, Val accuracy: 65.49000000000001\n",
      "Val acc did not improve from 65.99000000000001\n"
     ]
    },
    {
     "name": "stderr",
     "output_type": "stream",
     "text": [
      "Done 100.0%, Epoch: 56, Loss: 0.33808478713035583, Accuracy: 87.5%: : 1250it [00:12, 103.93it/s]                 \n"
     ]
    },
    {
     "name": "stdout",
     "output_type": "stream",
     "text": [
      "Avg loss: 0.4961543266415596, Avg accuracy: 83.51499938964844, Val loss: 0.03383666850030422, Val accuracy: 65.47\n",
      "Val acc did not improve from 65.99000000000001\n"
     ]
    },
    {
     "name": "stderr",
     "output_type": "stream",
     "text": [
      "Done 100.0%, Epoch: 57, Loss: 0.6192709803581238, Accuracy: 71.875%: : 1250it [00:11, 104.59it/s]                \n"
     ]
    },
    {
     "name": "stdout",
     "output_type": "stream",
     "text": [
      "Avg loss: 0.4968579864144325, Avg accuracy: 83.38249969482422, Val loss: 0.034038325548171995, Val accuracy: 65.42\n",
      "Val acc did not improve from 65.99000000000001\n"
     ]
    },
    {
     "name": "stderr",
     "output_type": "stream",
     "text": [
      "Done 100.0%, Epoch: 58, Loss: 0.48483437299728394, Accuracy: 84.375%: : 1250it [00:11, 104.57it/s]               \n"
     ]
    },
    {
     "name": "stdout",
     "output_type": "stream",
     "text": [
      "Avg loss: 0.496539877307415, Avg accuracy: 83.36000061035156, Val loss: 0.033775778064131734, Val accuracy: 65.42\n",
      "Val acc did not improve from 65.99000000000001\n"
     ]
    },
    {
     "name": "stderr",
     "output_type": "stream",
     "text": [
      "Done 100.0%, Epoch: 59, Loss: 0.5594465136528015, Accuracy: 84.375%: : 1250it [00:11, 105.16it/s]                \n"
     ]
    },
    {
     "name": "stdout",
     "output_type": "stream",
     "text": [
      "Avg loss: 0.4986265603780746, Avg accuracy: 83.19249725341797, Val loss: 0.03393493565917015, Val accuracy: 65.58\n",
      "Val acc did not improve from 65.99000000000001\n"
     ]
    },
    {
     "name": "stderr",
     "output_type": "stream",
     "text": [
      "Done 100.0%, Epoch: 60, Loss: 0.40870580077171326, Accuracy: 90.625%: : 1250it [00:12, 96.49it/s]               \n"
     ]
    },
    {
     "name": "stdout",
     "output_type": "stream",
     "text": [
      "Avg loss: 0.4998896348237991, Avg accuracy: 83.27749633789062, Val loss: 0.03393647575676441, Val accuracy: 65.79\n",
      "Val acc did not improve from 65.99000000000001\n"
     ]
    },
    {
     "name": "stderr",
     "output_type": "stream",
     "text": [
      "Done 100.0%, Epoch: 61, Loss: 0.9510507583618164, Accuracy: 65.625%: : 1250it [00:12, 99.64it/s]                \n"
     ]
    },
    {
     "name": "stdout",
     "output_type": "stream",
     "text": [
      "Avg loss: 0.4997848302960396, Avg accuracy: 83.3074951171875, Val loss: 0.034102937126159666, Val accuracy: 65.03999999999999\n",
      "Val acc did not improve from 65.99000000000001\n"
     ]
    },
    {
     "name": "stderr",
     "output_type": "stream",
     "text": [
      "Done 100.0%, Epoch: 62, Loss: 0.5988081693649292, Accuracy: 84.375%: : 1250it [00:13, 95.18it/s]                 \n"
     ]
    },
    {
     "name": "stdout",
     "output_type": "stream",
     "text": [
      "Avg loss: 0.4975799523353577, Avg accuracy: 83.38749694824219, Val loss: 0.03403946555256843, Val accuracy: 65.61\n",
      "Val acc did not improve from 65.99000000000001\n"
     ]
    },
    {
     "name": "stderr",
     "output_type": "stream",
     "text": [
      "Done 100.0%, Epoch: 63, Loss: 0.32725322246551514, Accuracy: 81.25%: : 1250it [00:12, 98.42it/s]                 \n"
     ]
    },
    {
     "name": "stdout",
     "output_type": "stream",
     "text": [
      "Avg loss: 0.49856421909332277, Avg accuracy: 83.34249877929688, Val loss: 0.03384921683073044, Val accuracy: 65.88000000000001\n",
      "Val acc did not improve from 65.99000000000001\n"
     ]
    },
    {
     "name": "stderr",
     "output_type": "stream",
     "text": [
      "Done 100.0%, Epoch: 64, Loss: 0.7685641050338745, Accuracy: 75.0%: : 1250it [00:12, 102.87it/s]                  \n"
     ]
    },
    {
     "name": "stdout",
     "output_type": "stream",
     "text": [
      "Avg loss: 0.4979271537065506, Avg accuracy: 83.26249694824219, Val loss: 0.0339432445704937, Val accuracy: 65.55\n",
      "Val acc did not improve from 65.99000000000001\n"
     ]
    },
    {
     "name": "stderr",
     "output_type": "stream",
     "text": [
      "Done 100.0%, Epoch: 65, Loss: 0.4781638979911804, Accuracy: 84.375%: : 1250it [00:12, 102.59it/s]                \n"
     ]
    },
    {
     "name": "stdout",
     "output_type": "stream",
     "text": [
      "Avg loss: 0.496847244143486, Avg accuracy: 83.26499938964844, Val loss: 0.0340643029153347, Val accuracy: 65.8\n",
      "Val acc did not improve from 65.99000000000001\n"
     ]
    },
    {
     "name": "stderr",
     "output_type": "stream",
     "text": [
      "Done 100.0%, Epoch: 66, Loss: 0.6312179565429688, Accuracy: 75.0%: : 1250it [00:12, 103.67it/s]                  \n"
     ]
    },
    {
     "name": "stdout",
     "output_type": "stream",
     "text": [
      "Avg loss: 0.49802426199913025, Avg accuracy: 83.25249481201172, Val loss: 0.03418073424100876, Val accuracy: 65.53999999999999\n",
      "Val acc did not improve from 65.99000000000001\n"
     ]
    },
    {
     "name": "stderr",
     "output_type": "stream",
     "text": [
      "Done 100.0%, Epoch: 67, Loss: 0.41477078199386597, Accuracy: 87.5%: : 1250it [00:12, 102.83it/s]                 \n"
     ]
    },
    {
     "name": "stdout",
     "output_type": "stream",
     "text": [
      "Avg loss: 0.4999759910821915, Avg accuracy: 83.20249938964844, Val loss: 0.03408941835165024, Val accuracy: 65.28\n",
      "Val acc did not improve from 65.99000000000001\n"
     ]
    },
    {
     "name": "stderr",
     "output_type": "stream",
     "text": [
      "Done 100.0%, Epoch: 68, Loss: 0.7152801156044006, Accuracy: 78.125%: : 1250it [00:12, 97.54it/s]                 \n"
     ]
    },
    {
     "name": "stdout",
     "output_type": "stream",
     "text": [
      "Avg loss: 0.49819983067512513, Avg accuracy: 83.37249755859375, Val loss: 0.0340088545769453, Val accuracy: 65.42\n",
      "Val acc did not improve from 65.99000000000001\n"
     ]
    },
    {
     "name": "stderr",
     "output_type": "stream",
     "text": [
      "Done 100.0%, Epoch: 69, Loss: 0.5125728845596313, Accuracy: 81.25%: : 1250it [00:13, 93.10it/s]                  \n"
     ]
    },
    {
     "name": "stdout",
     "output_type": "stream",
     "text": [
      "Avg loss: 0.49824256933927535, Avg accuracy: 83.35499572753906, Val loss: 0.0340276728451252, Val accuracy: 65.48\n",
      "Val acc did not improve from 65.99000000000001\n"
     ]
    },
    {
     "name": "stderr",
     "output_type": "stream",
     "text": [
      "Done 100.0%, Epoch: 70, Loss: 0.4941340386867523, Accuracy: 84.375%: : 1250it [00:13, 95.49it/s]                \n"
     ]
    },
    {
     "name": "stdout",
     "output_type": "stream",
     "text": [
      "Avg loss: 0.4979481709003448, Avg accuracy: 83.44749450683594, Val loss: 0.03407343408167362, Val accuracy: 65.41\n",
      "Val acc did not improve from 65.99000000000001\n"
     ]
    },
    {
     "name": "stderr",
     "output_type": "stream",
     "text": [
      "Done 100.0%, Epoch: 71, Loss: 0.3951202929019928, Accuracy: 87.5%: : 1250it [00:12, 100.72it/s]                  \n"
     ]
    },
    {
     "name": "stdout",
     "output_type": "stream",
     "text": [
      "Avg loss: 0.49699779154062274, Avg accuracy: 83.31499481201172, Val loss: 0.0339925036996603, Val accuracy: 65.55\n",
      "Val acc did not improve from 65.99000000000001\n"
     ]
    },
    {
     "name": "stderr",
     "output_type": "stream",
     "text": [
      "Done 100.0%, Epoch: 72, Loss: 0.3925018012523651, Accuracy: 90.625%: : 1250it [00:11, 104.88it/s]                \n"
     ]
    },
    {
     "name": "stdout",
     "output_type": "stream",
     "text": [
      "Avg loss: 0.49908632674217224, Avg accuracy: 83.3125, Val loss: 0.033913003665208816, Val accuracy: 65.48\n",
      "Val acc did not improve from 65.99000000000001\n"
     ]
    },
    {
     "name": "stderr",
     "output_type": "stream",
     "text": [
      "Done 100.0%, Epoch: 73, Loss: 0.4077104330062866, Accuracy: 87.5%: : 1250it [00:11, 104.86it/s]                  \n"
     ]
    },
    {
     "name": "stdout",
     "output_type": "stream",
     "text": [
      "Avg loss: 0.4988201416492462, Avg accuracy: 83.40499877929688, Val loss: 0.03384717202484608, Val accuracy: 65.75\n",
      "Val acc did not improve from 65.99000000000001\n"
     ]
    },
    {
     "name": "stderr",
     "output_type": "stream",
     "text": [
      "Done 100.0%, Epoch: 74, Loss: 0.40084773302078247, Accuracy: 87.5%: : 1250it [00:12, 102.75it/s]                 \n"
     ]
    },
    {
     "name": "stdout",
     "output_type": "stream",
     "text": [
      "Avg loss: 0.49976695766448975, Avg accuracy: 83.29750061035156, Val loss: 0.03410825937986374, Val accuracy: 65.53999999999999\n",
      "Val acc did not improve from 65.99000000000001\n"
     ]
    },
    {
     "name": "stderr",
     "output_type": "stream",
     "text": [
      "Done 100.0%, Epoch: 75, Loss: 0.2863101065158844, Accuracy: 93.75%: : 1250it [00:12, 100.61it/s]                 \n"
     ]
    },
    {
     "name": "stdout",
     "output_type": "stream",
     "text": [
      "Avg loss: 0.5008395142912865, Avg accuracy: 83.1449966430664, Val loss: 0.03402100199759007, Val accuracy: 65.64\n",
      "Val acc did not improve from 65.99000000000001\n"
     ]
    },
    {
     "name": "stderr",
     "output_type": "stream",
     "text": [
      "Done 100.0%, Epoch: 76, Loss: 0.37070977687835693, Accuracy: 87.5%: : 1250it [00:12, 102.54it/s]                 \n"
     ]
    },
    {
     "name": "stdout",
     "output_type": "stream",
     "text": [
      "Avg loss: 0.5000116761684418, Avg accuracy: 83.11249542236328, Val loss: 0.03419800899028778, Val accuracy: 65.22\n",
      "Val acc did not improve from 65.99000000000001\n"
     ]
    },
    {
     "name": "stderr",
     "output_type": "stream",
     "text": [
      "Done 100.0%, Epoch: 77, Loss: 0.6522440314292908, Accuracy: 81.25%: : 1250it [00:12, 103.79it/s]                 \n"
     ]
    },
    {
     "name": "stdout",
     "output_type": "stream",
     "text": [
      "Avg loss: 0.49684814697504043, Avg accuracy: 83.3125, Val loss: 0.033880818369984626, Val accuracy: 65.64999999999999\n",
      "Val acc did not improve from 65.99000000000001\n"
     ]
    },
    {
     "name": "stderr",
     "output_type": "stream",
     "text": [
      "Done 100.0%, Epoch: 78, Loss: 0.741553008556366, Accuracy: 68.75%: : 1250it [00:12, 99.56it/s]                   \n"
     ]
    },
    {
     "name": "stdout",
     "output_type": "stream",
     "text": [
      "Avg loss: 0.4992429299592972, Avg accuracy: 83.22750091552734, Val loss: 0.033904732644557956, Val accuracy: 65.35\n",
      "Val acc did not improve from 65.99000000000001\n"
     ]
    },
    {
     "name": "stderr",
     "output_type": "stream",
     "text": [
      "Done 100.0%, Epoch: 79, Loss: 0.6606341600418091, Accuracy: 78.125%: : 1250it [00:12, 102.11it/s]                \n"
     ]
    },
    {
     "name": "stdout",
     "output_type": "stream",
     "text": [
      "Avg loss: 0.49937389523983, Avg accuracy: 83.0999984741211, Val loss: 0.034054639273881915, Val accuracy: 65.0\n",
      "Val acc did not improve from 65.99000000000001\n"
     ]
    },
    {
     "name": "stderr",
     "output_type": "stream",
     "text": [
      "Done 100.0%, Epoch: 80, Loss: 0.6064226031303406, Accuracy: 71.875%: : 1250it [00:12, 98.41it/s]                 \n"
     ]
    },
    {
     "name": "stdout",
     "output_type": "stream",
     "text": [
      "Avg loss: 0.49908948574066164, Avg accuracy: 83.36249542236328, Val loss: 0.034082521897554396, Val accuracy: 65.36999999999999\n",
      "Val acc did not improve from 65.99000000000001\n"
     ]
    },
    {
     "name": "stderr",
     "output_type": "stream",
     "text": [
      "Done 100.0%, Epoch: 81, Loss: 0.5644415020942688, Accuracy: 84.375%: : 1250it [00:12, 102.84it/s]                \n"
     ]
    },
    {
     "name": "stdout",
     "output_type": "stream",
     "text": [
      "Avg loss: 0.4980155248761177, Avg accuracy: 83.22999572753906, Val loss: 0.03402387254238129, Val accuracy: 65.3\n",
      "Val acc did not improve from 65.99000000000001\n"
     ]
    },
    {
     "name": "stderr",
     "output_type": "stream",
     "text": [
      "Done 100.0%, Epoch: 82, Loss: 0.6150457262992859, Accuracy: 81.25%: : 1250it [00:12, 100.92it/s]                 \n"
     ]
    },
    {
     "name": "stdout",
     "output_type": "stream",
     "text": [
      "Avg loss: 0.49809670362472536, Avg accuracy: 83.19749450683594, Val loss: 0.033830441051721574, Val accuracy: 65.47\n",
      "Val acc did not improve from 65.99000000000001\n"
     ]
    },
    {
     "name": "stderr",
     "output_type": "stream",
     "text": [
      "Done 100.0%, Epoch: 83, Loss: 0.5860355496406555, Accuracy: 78.125%: : 1250it [00:13, 96.06it/s]                \n"
     ]
    },
    {
     "name": "stdout",
     "output_type": "stream",
     "text": [
      "Avg loss: 0.49672081459760664, Avg accuracy: 83.27999877929688, Val loss: 0.033933599072694776, Val accuracy: 65.42\n",
      "Val acc did not improve from 65.99000000000001\n"
     ]
    },
    {
     "name": "stderr",
     "output_type": "stream",
     "text": [
      "Done 100.0%, Epoch: 84, Loss: 0.406656414270401, Accuracy: 90.625%: : 1250it [00:12, 99.42it/s]                  \n"
     ]
    },
    {
     "name": "stdout",
     "output_type": "stream",
     "text": [
      "Avg loss: 0.49738189499378205, Avg accuracy: 83.3125, Val loss: 0.034122855055332184, Val accuracy: 65.60000000000001\n",
      "Val acc did not improve from 65.99000000000001\n"
     ]
    },
    {
     "name": "stderr",
     "output_type": "stream",
     "text": [
      "Done 100.0%, Epoch: 85, Loss: 0.6486647129058838, Accuracy: 78.125%: : 1250it [00:12, 97.27it/s]                 \n"
     ]
    },
    {
     "name": "stdout",
     "output_type": "stream",
     "text": [
      "Avg loss: 0.4968001071214676, Avg accuracy: 83.3324966430664, Val loss: 0.03406839936077595, Val accuracy: 65.53\n",
      "Val acc did not improve from 65.99000000000001\n"
     ]
    },
    {
     "name": "stderr",
     "output_type": "stream",
     "text": [
      "Done 100.0%, Epoch: 86, Loss: 0.42980462312698364, Accuracy: 81.25%: : 1250it [00:12, 100.77it/s]                \n"
     ]
    },
    {
     "name": "stdout",
     "output_type": "stream",
     "text": [
      "Avg loss: 0.5001268101811409, Avg accuracy: 83.30249786376953, Val loss: 0.033900840494036674, Val accuracy: 65.60000000000001\n",
      "Val acc did not improve from 65.99000000000001\n"
     ]
    },
    {
     "name": "stderr",
     "output_type": "stream",
     "text": [
      "Done 100.0%, Epoch: 87, Loss: 0.4422417879104614, Accuracy: 87.5%: : 1250it [00:11, 105.58it/s]                  \n"
     ]
    },
    {
     "name": "stdout",
     "output_type": "stream",
     "text": [
      "Avg loss: 0.49759776104688647, Avg accuracy: 83.375, Val loss: 0.03380299889147281, Val accuracy: 65.57\n",
      "Val acc did not improve from 65.99000000000001\n"
     ]
    },
    {
     "name": "stderr",
     "output_type": "stream",
     "text": [
      "Done 100.0%, Epoch: 88, Loss: 0.3772415220737457, Accuracy: 87.5%: : 1250it [00:12, 98.64it/s]                   \n"
     ]
    },
    {
     "name": "stdout",
     "output_type": "stream",
     "text": [
      "Avg loss: 0.49846562830209734, Avg accuracy: 83.3375015258789, Val loss: 0.03385176606476307, Val accuracy: 65.49000000000001\n",
      "Val acc did not improve from 65.99000000000001\n"
     ]
    },
    {
     "name": "stderr",
     "output_type": "stream",
     "text": [
      "Done 100.0%, Epoch: 89, Loss: 0.29426637291908264, Accuracy: 93.75%: : 1250it [00:12, 102.59it/s]                \n"
     ]
    },
    {
     "name": "stdout",
     "output_type": "stream",
     "text": [
      "Avg loss: 0.4974727878451347, Avg accuracy: 83.41749572753906, Val loss: 0.03387026106417179, Val accuracy: 65.29\n",
      "Val acc did not improve from 65.99000000000001\n"
     ]
    },
    {
     "name": "stderr",
     "output_type": "stream",
     "text": [
      "Done 100.0%, Epoch: 90, Loss: 0.330133318901062, Accuracy: 93.75%: : 1250it [00:12, 102.91it/s]                  \n"
     ]
    },
    {
     "name": "stdout",
     "output_type": "stream",
     "text": [
      "Avg loss: 0.4966558586001396, Avg accuracy: 83.34249877929688, Val loss: 0.033990327391028405, Val accuracy: 65.51\n",
      "Val acc did not improve from 65.99000000000001\n"
     ]
    },
    {
     "name": "stderr",
     "output_type": "stream",
     "text": [
      "Done 100.0%, Epoch: 91, Loss: 0.5079209804534912, Accuracy: 78.125%: : 1250it [00:12, 103.49it/s]                \n"
     ]
    },
    {
     "name": "stdout",
     "output_type": "stream",
     "text": [
      "Avg loss: 0.5002848266601563, Avg accuracy: 83.16999816894531, Val loss: 0.03413973437845707, Val accuracy: 64.86\n",
      "Val acc did not improve from 65.99000000000001\n"
     ]
    },
    {
     "name": "stderr",
     "output_type": "stream",
     "text": [
      "Done 100.0%, Epoch: 92, Loss: 0.5249833464622498, Accuracy: 81.25%: : 1250it [00:12, 100.41it/s]                 \n"
     ]
    },
    {
     "name": "stdout",
     "output_type": "stream",
     "text": [
      "Avg loss: 0.4973448805332184, Avg accuracy: 83.48999786376953, Val loss: 0.03409650354981422, Val accuracy: 65.55\n",
      "Val acc did not improve from 65.99000000000001\n"
     ]
    },
    {
     "name": "stderr",
     "output_type": "stream",
     "text": [
      "Done 100.0%, Epoch: 93, Loss: 0.6192547678947449, Accuracy: 78.125%: : 1250it [00:12, 99.57it/s]                \n"
     ]
    },
    {
     "name": "stdout",
     "output_type": "stream",
     "text": [
      "Avg loss: 0.49864475046396256, Avg accuracy: 83.22000122070312, Val loss: 0.03368827795088291, Val accuracy: 65.56\n",
      "Val acc did not improve from 65.99000000000001\n"
     ]
    },
    {
     "name": "stderr",
     "output_type": "stream",
     "text": [
      "Done 100.0%, Epoch: 94, Loss: 0.37418270111083984, Accuracy: 84.375%: : 1250it [00:12, 101.72it/s]              \n"
     ]
    },
    {
     "name": "stdout",
     "output_type": "stream",
     "text": [
      "Avg loss: 0.49773363649845126, Avg accuracy: 83.28250122070312, Val loss: 0.034146237391233444, Val accuracy: 65.03999999999999\n",
      "Val acc did not improve from 65.99000000000001\n"
     ]
    },
    {
     "name": "stderr",
     "output_type": "stream",
     "text": [
      "Done 100.0%, Epoch: 95, Loss: 0.5173324942588806, Accuracy: 84.375%: : 1250it [00:12, 96.95it/s]                 \n"
     ]
    },
    {
     "name": "stdout",
     "output_type": "stream",
     "text": [
      "Avg loss: 0.5003763550281525, Avg accuracy: 83.13999938964844, Val loss: 0.03404932792782783, Val accuracy: 65.3\n",
      "Val acc did not improve from 65.99000000000001\n"
     ]
    },
    {
     "name": "stderr",
     "output_type": "stream",
     "text": [
      "Done 100.0%, Epoch: 96, Loss: 0.4785318374633789, Accuracy: 84.375%: : 1250it [00:12, 102.40it/s]                \n"
     ]
    },
    {
     "name": "stdout",
     "output_type": "stream",
     "text": [
      "Avg loss: 0.49980441086292265, Avg accuracy: 83.29249572753906, Val loss: 0.034053576999902725, Val accuracy: 65.31\n",
      "Val acc did not improve from 65.99000000000001\n"
     ]
    },
    {
     "name": "stderr",
     "output_type": "stream",
     "text": [
      "Done 100.0%, Epoch: 97, Loss: 0.5580634474754333, Accuracy: 81.25%: : 1250it [00:12, 99.03it/s]                 \n"
     ]
    },
    {
     "name": "stdout",
     "output_type": "stream",
     "text": [
      "Avg loss: 0.49747074002027514, Avg accuracy: 83.40499877929688, Val loss: 0.03409683991968632, Val accuracy: 65.27\n",
      "Val acc did not improve from 65.99000000000001\n"
     ]
    },
    {
     "name": "stderr",
     "output_type": "stream",
     "text": [
      "Done 100.0%, Epoch: 98, Loss: 0.982852578163147, Accuracy: 68.75%: : 1250it [00:12, 102.75it/s]                 \n"
     ]
    },
    {
     "name": "stdout",
     "output_type": "stream",
     "text": [
      "Avg loss: 0.4976918410181999, Avg accuracy: 83.375, Val loss: 0.034016455206274984, Val accuracy: 65.16999999999999\n",
      "Val acc did not improve from 65.99000000000001\n"
     ]
    },
    {
     "name": "stderr",
     "output_type": "stream",
     "text": [
      "Done 100.0%, Epoch: 99, Loss: 0.39225873351097107, Accuracy: 90.625%: : 1250it [00:12, 100.51it/s]              \n"
     ]
    },
    {
     "name": "stdout",
     "output_type": "stream",
     "text": [
      "Avg loss: 0.4990415333867073, Avg accuracy: 83.28499603271484, Val loss: 0.03415469555556774, Val accuracy: 65.34\n",
      "Val acc did not improve from 65.99000000000001\n"
     ]
    },
    {
     "name": "stderr",
     "output_type": "stream",
     "text": [
      "Done 100.0%, Epoch: 100, Loss: 0.6165010929107666, Accuracy: 78.125%: : 1250it [00:13, 95.37it/s]                \n"
     ]
    },
    {
     "name": "stdout",
     "output_type": "stream",
     "text": [
      "Avg loss: 0.49866590424776075, Avg accuracy: 83.34249877929688, Val loss: 0.03408432596325874, Val accuracy: 65.49000000000001\n",
      "Val acc did not improve from 65.99000000000001\n"
     ]
    },
    {
     "name": "stderr",
     "output_type": "stream",
     "text": [
      "Done 100.0%, Epoch: 101, Loss: 0.4367997348308563, Accuracy: 87.5%: : 1250it [00:12, 98.75it/s]                   \n"
     ]
    },
    {
     "name": "stdout",
     "output_type": "stream",
     "text": [
      "Avg loss: 0.49804051299095153, Avg accuracy: 83.26749420166016, Val loss: 0.03389984210431576, Val accuracy: 65.52\n",
      "Val acc did not improve from 65.99000000000001\n"
     ]
    },
    {
     "name": "stderr",
     "output_type": "stream",
     "text": [
      "Done 100.0%, Epoch: 102, Loss: 0.7624236345291138, Accuracy: 68.75%: : 1250it [00:12, 99.67it/s]                  \n"
     ]
    },
    {
     "name": "stdout",
     "output_type": "stream",
     "text": [
      "Avg loss: 0.4971715321063995, Avg accuracy: 83.2874984741211, Val loss: 0.03421841010153294, Val accuracy: 65.29\n",
      "Val acc did not improve from 65.99000000000001\n"
     ]
    },
    {
     "name": "stderr",
     "output_type": "stream",
     "text": [
      "Done 100.0%, Epoch: 103, Loss: 0.4495745301246643, Accuracy: 90.625%: : 1250it [00:13, 91.59it/s]                \n"
     ]
    },
    {
     "name": "stdout",
     "output_type": "stream",
     "text": [
      "Avg loss: 0.49731059312820436, Avg accuracy: 83.32749938964844, Val loss: 0.03407679854333401, Val accuracy: 65.51\n",
      "Val acc did not improve from 65.99000000000001\n"
     ]
    },
    {
     "name": "stderr",
     "output_type": "stream",
     "text": [
      "Done 100.0%, Epoch: 104, Loss: 0.7029986381530762, Accuracy: 81.25%: : 1250it [00:12, 102.10it/s]                 \n"
     ]
    },
    {
     "name": "stdout",
     "output_type": "stream",
     "text": [
      "Avg loss: 0.4981824278473854, Avg accuracy: 83.36750030517578, Val loss: 0.033996202224493025, Val accuracy: 65.24\n",
      "Val acc did not improve from 65.99000000000001\n"
     ]
    },
    {
     "name": "stderr",
     "output_type": "stream",
     "text": [
      "Done 100.0%, Epoch: 105, Loss: 0.40084710717201233, Accuracy: 87.5%: : 1250it [00:12, 102.49it/s]                 \n"
     ]
    },
    {
     "name": "stdout",
     "output_type": "stream",
     "text": [
      "Avg loss: 0.4973196297645569, Avg accuracy: 83.55500030517578, Val loss: 0.03396904031038284, Val accuracy: 65.53999999999999\n",
      "Val acc did not improve from 65.99000000000001\n"
     ]
    },
    {
     "name": "stderr",
     "output_type": "stream",
     "text": [
      "Done 100.0%, Epoch: 106, Loss: 0.6056694984436035, Accuracy: 78.125%: : 1250it [00:11, 107.93it/s]                \n"
     ]
    },
    {
     "name": "stdout",
     "output_type": "stream",
     "text": [
      "Avg loss: 0.5000140617609024, Avg accuracy: 83.26749420166016, Val loss: 0.0340045097887516, Val accuracy: 65.32\n",
      "Val acc did not improve from 65.99000000000001\n"
     ]
    },
    {
     "name": "stderr",
     "output_type": "stream",
     "text": [
      "Done 100.0%, Epoch: 107, Loss: 0.36121198534965515, Accuracy: 87.5%: : 1250it [00:11, 105.29it/s]                 \n"
     ]
    },
    {
     "name": "stdout",
     "output_type": "stream",
     "text": [
      "Avg loss: 0.5010829752206802, Avg accuracy: 83.15499877929688, Val loss: 0.03400656952261925, Val accuracy: 65.7\n",
      "Val acc did not improve from 65.99000000000001\n"
     ]
    },
    {
     "name": "stderr",
     "output_type": "stream",
     "text": [
      "Done 100.0%, Epoch: 108, Loss: 0.4517693519592285, Accuracy: 84.375%: : 1250it [00:12, 97.05it/s]                 \n"
     ]
    },
    {
     "name": "stdout",
     "output_type": "stream",
     "text": [
      "Avg loss: 0.49849997202157975, Avg accuracy: 83.29000091552734, Val loss: 0.033948997926712035, Val accuracy: 65.25\n",
      "Val acc did not improve from 65.99000000000001\n"
     ]
    },
    {
     "name": "stderr",
     "output_type": "stream",
     "text": [
      "Done 100.0%, Epoch: 109, Loss: 0.41741278767585754, Accuracy: 90.625%: : 1250it [00:13, 95.78it/s]               \n"
     ]
    },
    {
     "name": "stdout",
     "output_type": "stream",
     "text": [
      "Avg loss: 0.49691519964933395, Avg accuracy: 83.31499481201172, Val loss: 0.03405360646545887, Val accuracy: 65.41\n",
      "Val acc did not improve from 65.99000000000001\n"
     ]
    },
    {
     "name": "stderr",
     "output_type": "stream",
     "text": [
      "Done 100.0%, Epoch: 110, Loss: 0.44152164459228516, Accuracy: 87.5%: : 1250it [00:12, 99.08it/s]                  \n"
     ]
    },
    {
     "name": "stdout",
     "output_type": "stream",
     "text": [
      "Avg loss: 0.49817241925001143, Avg accuracy: 83.39249420166016, Val loss: 0.033995667544007305, Val accuracy: 65.53999999999999\n",
      "Val acc did not improve from 65.99000000000001\n"
     ]
    },
    {
     "name": "stderr",
     "output_type": "stream",
     "text": [
      "Done 100.0%, Epoch: 111, Loss: 0.47607719898223877, Accuracy: 81.25%: : 1250it [00:12, 102.11it/s]                \n"
     ]
    },
    {
     "name": "stdout",
     "output_type": "stream",
     "text": [
      "Avg loss: 0.49718953784704206, Avg accuracy: 83.25249481201172, Val loss: 0.03396956689357757, Val accuracy: 65.55\n",
      "Val acc did not improve from 65.99000000000001\n"
     ]
    },
    {
     "name": "stderr",
     "output_type": "stream",
     "text": [
      "Done 100.0%, Epoch: 112, Loss: 0.4265144169330597, Accuracy: 84.375%: : 1250it [00:11, 111.97it/s]               \n"
     ]
    },
    {
     "name": "stdout",
     "output_type": "stream",
     "text": [
      "Avg loss: 0.4991942650079727, Avg accuracy: 83.23999786376953, Val loss: 0.034149044516682624, Val accuracy: 65.33\n",
      "Val acc did not improve from 65.99000000000001\n"
     ]
    },
    {
     "name": "stderr",
     "output_type": "stream",
     "text": [
      "Done 100.0%, Epoch: 113, Loss: 0.5464051961898804, Accuracy: 84.375%: : 1250it [00:12, 101.77it/s]               \n"
     ]
    },
    {
     "name": "stdout",
     "output_type": "stream",
     "text": [
      "Avg loss: 0.49722108039855956, Avg accuracy: 83.31499481201172, Val loss: 0.03407464155256748, Val accuracy: 65.38000000000001\n",
      "Val acc did not improve from 65.99000000000001\n"
     ]
    },
    {
     "name": "stderr",
     "output_type": "stream",
     "text": [
      "Done 100.0%, Epoch: 114, Loss: 0.7934007048606873, Accuracy: 75.0%: : 1250it [00:10, 119.85it/s]                  \n"
     ]
    },
    {
     "name": "stdout",
     "output_type": "stream",
     "text": [
      "Avg loss: 0.49909963438510896, Avg accuracy: 83.32249450683594, Val loss: 0.03407649364471436, Val accuracy: 65.18\n",
      "Val acc did not improve from 65.99000000000001\n"
     ]
    },
    {
     "name": "stderr",
     "output_type": "stream",
     "text": [
      "Done 100.0%, Epoch: 115, Loss: 0.2893470823764801, Accuracy: 87.5%: : 1250it [00:10, 121.17it/s]                  \n"
     ]
    },
    {
     "name": "stdout",
     "output_type": "stream",
     "text": [
      "Avg loss: 0.4986010777950287, Avg accuracy: 83.27249908447266, Val loss: 0.03393122212290764, Val accuracy: 65.56\n",
      "Val acc did not improve from 65.99000000000001\n"
     ]
    },
    {
     "name": "stderr",
     "output_type": "stream",
     "text": [
      "Done 100.0%, Epoch: 116, Loss: 0.6627668142318726, Accuracy: 81.25%: : 1250it [00:10, 116.70it/s]                 \n"
     ]
    },
    {
     "name": "stdout",
     "output_type": "stream",
     "text": [
      "Avg loss: 0.49972696914672854, Avg accuracy: 83.13999938964844, Val loss: 0.03409753775000572, Val accuracy: 65.48\n",
      "Val acc did not improve from 65.99000000000001\n"
     ]
    },
    {
     "name": "stderr",
     "output_type": "stream",
     "text": [
      "Done 100.0%, Epoch: 117, Loss: 0.5768691897392273, Accuracy: 71.875%: : 1250it [00:10, 118.79it/s]                \n"
     ]
    },
    {
     "name": "stdout",
     "output_type": "stream",
     "text": [
      "Avg loss: 0.49810286915302276, Avg accuracy: 83.2074966430664, Val loss: 0.03415274358689785, Val accuracy: 65.23\n",
      "Val acc did not improve from 65.99000000000001\n"
     ]
    },
    {
     "name": "stderr",
     "output_type": "stream",
     "text": [
      "Done 100.0%, Epoch: 118, Loss: 0.9289863705635071, Accuracy: 68.75%: : 1250it [00:09, 129.84it/s]                 \n"
     ]
    },
    {
     "name": "stdout",
     "output_type": "stream",
     "text": [
      "Avg loss: 0.495642133808136, Avg accuracy: 83.5250015258789, Val loss: 0.033777399995923045, Val accuracy: 65.83\n",
      "Val acc did not improve from 65.99000000000001\n"
     ]
    },
    {
     "name": "stderr",
     "output_type": "stream",
     "text": [
      "Done 100.0%, Epoch: 119, Loss: 0.33401361107826233, Accuracy: 90.625%: : 1250it [00:10, 123.16it/s]               \n"
     ]
    },
    {
     "name": "stdout",
     "output_type": "stream",
     "text": [
      "Avg loss: 0.5009435954928398, Avg accuracy: 83.00249481201172, Val loss: 0.03418558103740215, Val accuracy: 65.24\n",
      "Val acc did not improve from 65.99000000000001\n"
     ]
    },
    {
     "name": "stderr",
     "output_type": "stream",
     "text": [
      "Done 100.0%, Epoch: 120, Loss: 0.5487525463104248, Accuracy: 81.25%: : 1250it [00:11, 108.25it/s]                 \n"
     ]
    },
    {
     "name": "stdout",
     "output_type": "stream",
     "text": [
      "Avg loss: 0.4982987531304359, Avg accuracy: 83.4324951171875, Val loss: 0.03406034890413284, Val accuracy: 65.36999999999999\n",
      "Val acc did not improve from 65.99000000000001\n"
     ]
    },
    {
     "name": "stderr",
     "output_type": "stream",
     "text": [
      "Done 100.0%, Epoch: 121, Loss: 0.6546016335487366, Accuracy: 68.75%: : 1250it [00:09, 128.72it/s]                 \n"
     ]
    },
    {
     "name": "stdout",
     "output_type": "stream",
     "text": [
      "Avg loss: 0.4989156751036644, Avg accuracy: 83.19749450683594, Val loss: 0.034031042897701265, Val accuracy: 65.69\n",
      "Val acc did not improve from 65.99000000000001\n"
     ]
    },
    {
     "name": "stderr",
     "output_type": "stream",
     "text": [
      "Done 100.0%, Epoch: 122, Loss: 0.5836036801338196, Accuracy: 78.125%: : 1250it [00:09, 128.69it/s]                \n"
     ]
    },
    {
     "name": "stdout",
     "output_type": "stream",
     "text": [
      "Avg loss: 0.4981411653280258, Avg accuracy: 83.38749694824219, Val loss: 0.03392312087714672, Val accuracy: 65.44\n",
      "Val acc did not improve from 65.99000000000001\n"
     ]
    },
    {
     "name": "stderr",
     "output_type": "stream",
     "text": [
      "Done 100.0%, Epoch: 123, Loss: 0.6512107253074646, Accuracy: 81.25%: : 1250it [00:10, 115.23it/s]                 \n"
     ]
    },
    {
     "name": "stdout",
     "output_type": "stream",
     "text": [
      "Avg loss: 0.49716881331801416, Avg accuracy: 83.32499694824219, Val loss: 0.03420226110816002, Val accuracy: 65.46\n",
      "Val acc did not improve from 65.99000000000001\n"
     ]
    },
    {
     "name": "stderr",
     "output_type": "stream",
     "text": [
      "Done 100.0%, Epoch: 124, Loss: 0.8857257962226868, Accuracy: 71.875%: : 1250it [00:12, 102.36it/s]                \n"
     ]
    },
    {
     "name": "stdout",
     "output_type": "stream",
     "text": [
      "Avg loss: 0.4989199578523636, Avg accuracy: 83.16999816894531, Val loss: 0.03386937366127968, Val accuracy: 65.48\n",
      "Val acc did not improve from 65.99000000000001\n"
     ]
    },
    {
     "name": "stderr",
     "output_type": "stream",
     "text": [
      "Done 100.0%, Epoch: 125, Loss: 0.21819311380386353, Accuracy: 100.0%: : 1250it [00:12, 98.09it/s]                 \n"
     ]
    },
    {
     "name": "stdout",
     "output_type": "stream",
     "text": [
      "Avg loss: 0.49927892479896546, Avg accuracy: 83.18999481201172, Val loss: 0.03399180535972118, Val accuracy: 65.46\n",
      "Val acc did not improve from 65.99000000000001\n"
     ]
    },
    {
     "name": "stderr",
     "output_type": "stream",
     "text": [
      "Done 100.0%, Epoch: 126, Loss: 0.33507853746414185, Accuracy: 90.625%: : 1250it [00:12, 101.41it/s]              \n"
     ]
    },
    {
     "name": "stdout",
     "output_type": "stream",
     "text": [
      "Avg loss: 0.4984051601886749, Avg accuracy: 83.37749481201172, Val loss: 0.03405039151012897, Val accuracy: 65.57\n",
      "Val acc did not improve from 65.99000000000001\n"
     ]
    },
    {
     "name": "stderr",
     "output_type": "stream",
     "text": [
      "Done 100.0%, Epoch: 127, Loss: 0.28740546107292175, Accuracy: 90.625%: : 1250it [00:13, 95.64it/s]               \n"
     ]
    },
    {
     "name": "stdout",
     "output_type": "stream",
     "text": [
      "Avg loss: 0.5003506949186325, Avg accuracy: 83.12249755859375, Val loss: 0.034272665810585023, Val accuracy: 65.22\n",
      "Val acc did not improve from 65.99000000000001\n"
     ]
    },
    {
     "name": "stderr",
     "output_type": "stream",
     "text": [
      "Done 100.0%, Epoch: 128, Loss: 0.5490759015083313, Accuracy: 75.0%: : 1250it [00:12, 102.06it/s]                  \n"
     ]
    },
    {
     "name": "stdout",
     "output_type": "stream",
     "text": [
      "Avg loss: 0.4975579454779625, Avg accuracy: 83.33999633789062, Val loss: 0.03384842625260353, Val accuracy: 65.98\n",
      "Val acc did not improve from 65.99000000000001\n"
     ]
    },
    {
     "name": "stderr",
     "output_type": "stream",
     "text": [
      "Done 100.0%, Epoch: 129, Loss: 0.508285641670227, Accuracy: 81.25%: : 1250it [00:12, 98.09it/s]                   \n"
     ]
    },
    {
     "name": "stdout",
     "output_type": "stream",
     "text": [
      "Avg loss: 0.4981858913898468, Avg accuracy: 83.29499816894531, Val loss: 0.03412624388933182, Val accuracy: 65.68\n",
      "Val acc did not improve from 65.99000000000001\n"
     ]
    },
    {
     "name": "stderr",
     "output_type": "stream",
     "text": [
      "Done 100.0%, Epoch: 130, Loss: 0.5976195931434631, Accuracy: 78.125%: : 1250it [00:12, 99.94it/s]                 \n"
     ]
    },
    {
     "name": "stdout",
     "output_type": "stream",
     "text": [
      "Avg loss: 0.5000776616692543, Avg accuracy: 83.29999542236328, Val loss: 0.034000978282094, Val accuracy: 65.60000000000001\n",
      "Val acc did not improve from 65.99000000000001\n"
     ]
    },
    {
     "name": "stderr",
     "output_type": "stream",
     "text": [
      "Done 100.0%, Epoch: 131, Loss: 0.3253844976425171, Accuracy: 90.625%: : 1250it [00:12, 103.86it/s]                \n"
     ]
    },
    {
     "name": "stdout",
     "output_type": "stream",
     "text": [
      "Avg loss: 0.49782393554449084, Avg accuracy: 83.37999725341797, Val loss: 0.03410663793981075, Val accuracy: 65.23\n",
      "Val acc did not improve from 65.99000000000001\n"
     ]
    },
    {
     "name": "stderr",
     "output_type": "stream",
     "text": [
      "Done 100.0%, Epoch: 132, Loss: 0.3709878921508789, Accuracy: 90.625%: : 1250it [00:13, 89.93it/s]                \n"
     ]
    },
    {
     "name": "stdout",
     "output_type": "stream",
     "text": [
      "Avg loss: 0.4990360320329666, Avg accuracy: 83.47000122070312, Val loss: 0.033933911550045014, Val accuracy: 65.25999999999999\n",
      "Val acc did not improve from 65.99000000000001\n"
     ]
    },
    {
     "name": "stderr",
     "output_type": "stream",
     "text": [
      "Done 100.0%, Epoch: 133, Loss: 0.3654317259788513, Accuracy: 87.5%: : 1250it [00:13, 94.58it/s]                  \n"
     ]
    },
    {
     "name": "stdout",
     "output_type": "stream",
     "text": [
      "Avg loss: 0.49836030752658844, Avg accuracy: 83.36499786376953, Val loss: 0.033948076671361925, Val accuracy: 65.56\n",
      "Val acc did not improve from 65.99000000000001\n"
     ]
    },
    {
     "name": "stderr",
     "output_type": "stream",
     "text": [
      "Done 100.0%, Epoch: 134, Loss: 0.44013845920562744, Accuracy: 90.625%: : 1250it [00:12, 100.57it/s]              \n"
     ]
    },
    {
     "name": "stdout",
     "output_type": "stream",
     "text": [
      "Avg loss: 0.5000447951555252, Avg accuracy: 83.09749603271484, Val loss: 0.03419548970758915, Val accuracy: 65.05\n",
      "Val acc did not improve from 65.99000000000001\n"
     ]
    },
    {
     "name": "stderr",
     "output_type": "stream",
     "text": [
      "Done 100.0%, Epoch: 135, Loss: 0.28741347789764404, Accuracy: 90.625%: : 1250it [00:12, 103.80it/s]               \n"
     ]
    },
    {
     "name": "stdout",
     "output_type": "stream",
     "text": [
      "Avg loss: 0.49733481434583665, Avg accuracy: 83.30249786376953, Val loss: 0.034122404339909554, Val accuracy: 65.23\n",
      "Val acc did not improve from 65.99000000000001\n"
     ]
    },
    {
     "name": "stderr",
     "output_type": "stream",
     "text": [
      "Done 100.0%, Epoch: 136, Loss: 0.29684978723526, Accuracy: 93.75%: : 1250it [00:12, 102.75it/s]                  \n"
     ]
    },
    {
     "name": "stdout",
     "output_type": "stream",
     "text": [
      "Avg loss: 0.49756421592235567, Avg accuracy: 83.34500122070312, Val loss: 0.034014509922266005, Val accuracy: 65.60000000000001\n",
      "Val acc did not improve from 65.99000000000001\n"
     ]
    },
    {
     "name": "stderr",
     "output_type": "stream",
     "text": [
      "Done 100.0%, Epoch: 137, Loss: 0.5128700733184814, Accuracy: 75.0%: : 1250it [00:12, 100.95it/s]                  \n"
     ]
    },
    {
     "name": "stdout",
     "output_type": "stream",
     "text": [
      "Avg loss: 0.49879742550849915, Avg accuracy: 83.25749969482422, Val loss: 0.03406780014634132, Val accuracy: 65.23\n",
      "Val acc did not improve from 65.99000000000001\n"
     ]
    },
    {
     "name": "stderr",
     "output_type": "stream",
     "text": [
      "Done 100.0%, Epoch: 138, Loss: 0.7010272145271301, Accuracy: 78.125%: : 1250it [00:12, 100.70it/s]                \n"
     ]
    },
    {
     "name": "stdout",
     "output_type": "stream",
     "text": [
      "Avg loss: 0.4992693732321262, Avg accuracy: 82.9749984741211, Val loss: 0.034045806768536566, Val accuracy: 65.4\n",
      "Val acc did not improve from 65.99000000000001\n"
     ]
    },
    {
     "name": "stderr",
     "output_type": "stream",
     "text": [
      "Done 100.0%, Epoch: 139, Loss: 0.6302422285079956, Accuracy: 68.75%: : 1250it [00:12, 100.31it/s]                 \n"
     ]
    },
    {
     "name": "stdout",
     "output_type": "stream",
     "text": [
      "Avg loss: 0.4962078090667725, Avg accuracy: 83.3949966430664, Val loss: 0.03395146070122719, Val accuracy: 65.55\n",
      "Val acc did not improve from 65.99000000000001\n"
     ]
    },
    {
     "name": "stderr",
     "output_type": "stream",
     "text": [
      "Done 100.0%, Epoch: 140, Loss: 0.5993374586105347, Accuracy: 75.0%: : 1250it [00:12, 103.19it/s]                  \n"
     ]
    },
    {
     "name": "stdout",
     "output_type": "stream",
     "text": [
      "Avg loss: 0.49735888098478315, Avg accuracy: 83.45249938964844, Val loss: 0.033947324396669865, Val accuracy: 65.5\n",
      "Val acc did not improve from 65.99000000000001\n"
     ]
    },
    {
     "name": "stderr",
     "output_type": "stream",
     "text": [
      "Done 100.0%, Epoch: 141, Loss: 0.3664286434650421, Accuracy: 81.25%: : 1250it [00:12, 101.82it/s]                \n"
     ]
    },
    {
     "name": "stdout",
     "output_type": "stream",
     "text": [
      "Avg loss: 0.497601779794693, Avg accuracy: 83.2699966430664, Val loss: 0.034037621891498566, Val accuracy: 65.23\n",
      "Val acc did not improve from 65.99000000000001\n"
     ]
    },
    {
     "name": "stderr",
     "output_type": "stream",
     "text": [
      "Done 100.0%, Epoch: 142, Loss: 0.900507926940918, Accuracy: 75.0%: : 1250it [00:12, 102.92it/s]                   \n"
     ]
    },
    {
     "name": "stdout",
     "output_type": "stream",
     "text": [
      "Avg loss: 0.4979878616452217, Avg accuracy: 83.3375015258789, Val loss: 0.03407022531926632, Val accuracy: 65.59\n",
      "Val acc did not improve from 65.99000000000001\n"
     ]
    },
    {
     "name": "stderr",
     "output_type": "stream",
     "text": [
      "Done 100.0%, Epoch: 143, Loss: 0.35741615295410156, Accuracy: 87.5%: : 1250it [00:12, 102.85it/s]                \n"
     ]
    },
    {
     "name": "stdout",
     "output_type": "stream",
     "text": [
      "Avg loss: 0.4998082532167435, Avg accuracy: 83.19249725341797, Val loss: 0.03419092919826507, Val accuracy: 65.56\n",
      "Val acc did not improve from 65.99000000000001\n"
     ]
    },
    {
     "name": "stderr",
     "output_type": "stream",
     "text": [
      "Done 100.0%, Epoch: 144, Loss: 0.3855575919151306, Accuracy: 93.75%: : 1250it [00:12, 103.08it/s]                \n"
     ]
    },
    {
     "name": "stdout",
     "output_type": "stream",
     "text": [
      "Avg loss: 0.49910398461818695, Avg accuracy: 83.31499481201172, Val loss: 0.033903222319483756, Val accuracy: 65.38000000000001\n",
      "Val acc did not improve from 65.99000000000001\n"
     ]
    },
    {
     "name": "stderr",
     "output_type": "stream",
     "text": [
      "Done 100.0%, Epoch: 145, Loss: 0.25273627042770386, Accuracy: 96.875%: : 1250it [00:12, 102.49it/s]               \n"
     ]
    },
    {
     "name": "stdout",
     "output_type": "stream",
     "text": [
      "Avg loss: 0.5000076504588127, Avg accuracy: 83.19749450683594, Val loss: 0.03391279621720314, Val accuracy: 65.42999999999999\n",
      "Val acc did not improve from 65.99000000000001\n"
     ]
    },
    {
     "name": "stderr",
     "output_type": "stream",
     "text": [
      "Done 100.0%, Epoch: 146, Loss: 0.43755897879600525, Accuracy: 81.25%: : 1250it [00:11, 107.36it/s]                \n"
     ]
    },
    {
     "name": "stdout",
     "output_type": "stream",
     "text": [
      "Avg loss: 0.4987525008678436, Avg accuracy: 83.36249542236328, Val loss: 0.034084142753481865, Val accuracy: 65.22\n",
      "Val acc did not improve from 65.99000000000001\n"
     ]
    },
    {
     "name": "stderr",
     "output_type": "stream",
     "text": [
      "Done 100.0%, Epoch: 147, Loss: 0.3345220685005188, Accuracy: 87.5%: : 1250it [00:11, 106.32it/s]                  \n"
     ]
    },
    {
     "name": "stdout",
     "output_type": "stream",
     "text": [
      "Avg loss: 0.4971646259188652, Avg accuracy: 83.34249877929688, Val loss: 0.034119619679450985, Val accuracy: 65.45\n",
      "Val acc did not improve from 65.99000000000001\n"
     ]
    },
    {
     "name": "stderr",
     "output_type": "stream",
     "text": [
      "Done 100.0%, Epoch: 148, Loss: 0.6985654830932617, Accuracy: 75.0%: : 1250it [00:12, 99.19it/s]                   \n"
     ]
    },
    {
     "name": "stdout",
     "output_type": "stream",
     "text": [
      "Avg loss: 0.49781138051748275, Avg accuracy: 83.24749755859375, Val loss: 0.03404779449105263, Val accuracy: 65.38000000000001\n",
      "Val acc did not improve from 65.99000000000001\n"
     ]
    },
    {
     "name": "stderr",
     "output_type": "stream",
     "text": [
      "Done 100.0%, Epoch: 149, Loss: 0.34780287742614746, Accuracy: 84.375%: : 1250it [00:12, 100.23it/s]               \n"
     ]
    },
    {
     "name": "stdout",
     "output_type": "stream",
     "text": [
      "Avg loss: 0.499252074098587, Avg accuracy: 83.41749572753906, Val loss: 0.033943198406696316, Val accuracy: 65.32\n",
      "Val acc did not improve from 65.99000000000001\n"
     ]
    },
    {
     "name": "stderr",
     "output_type": "stream",
     "text": [
      "Done 100.0%, Epoch: 150, Loss: 0.613236129283905, Accuracy: 78.125%: : 1250it [00:12, 103.14it/s]                 \n"
     ]
    },
    {
     "name": "stdout",
     "output_type": "stream",
     "text": [
      "Avg loss: 0.4980051357746124, Avg accuracy: 83.30999755859375, Val loss: 0.034021310299634934, Val accuracy: 65.14\n",
      "Val acc did not improve from 65.99000000000001\n"
     ]
    },
    {
     "name": "stderr",
     "output_type": "stream",
     "text": [
      "Done 100.0%, Epoch: 151, Loss: 0.6393795609474182, Accuracy: 78.125%: : 1250it [00:12, 102.74it/s]                \n"
     ]
    },
    {
     "name": "stdout",
     "output_type": "stream",
     "text": [
      "Avg loss: 0.4975376179456711, Avg accuracy: 83.20249938964844, Val loss: 0.03414211735129356, Val accuracy: 65.5\n",
      "Val acc did not improve from 65.99000000000001\n"
     ]
    },
    {
     "name": "stderr",
     "output_type": "stream",
     "text": [
      "Done 100.0%, Epoch: 152, Loss: 0.4501088261604309, Accuracy: 87.5%: : 1250it [00:12, 101.34it/s]                  \n"
     ]
    },
    {
     "name": "stdout",
     "output_type": "stream",
     "text": [
      "Avg loss: 0.4979838969826698, Avg accuracy: 83.18000030517578, Val loss: 0.03413903606832028, Val accuracy: 65.32\n",
      "Val acc did not improve from 65.99000000000001\n"
     ]
    },
    {
     "name": "stderr",
     "output_type": "stream",
     "text": [
      "Done 100.0%, Epoch: 153, Loss: 0.5844563841819763, Accuracy: 78.125%: : 1250it [00:11, 106.44it/s]                \n"
     ]
    },
    {
     "name": "stdout",
     "output_type": "stream",
     "text": [
      "Avg loss: 0.4986420467019081, Avg accuracy: 83.32249450683594, Val loss: 0.033984832841157914, Val accuracy: 65.32\n",
      "Val acc did not improve from 65.99000000000001\n"
     ]
    },
    {
     "name": "stderr",
     "output_type": "stream",
     "text": [
      "Done 100.0%, Epoch: 154, Loss: 0.46496886014938354, Accuracy: 87.5%: : 1250it [00:11, 106.10it/s]                 \n"
     ]
    },
    {
     "name": "stdout",
     "output_type": "stream",
     "text": [
      "Avg loss: 0.4992767783522606, Avg accuracy: 83.19999694824219, Val loss: 0.034037780025601386, Val accuracy: 65.75999999999999\n",
      "Val acc did not improve from 65.99000000000001\n"
     ]
    },
    {
     "name": "stderr",
     "output_type": "stream",
     "text": [
      "Done 100.0%, Epoch: 155, Loss: 0.46643999218940735, Accuracy: 84.375%: : 1250it [00:12, 102.87it/s]               \n"
     ]
    },
    {
     "name": "stdout",
     "output_type": "stream",
     "text": [
      "Avg loss: 0.4979282262444496, Avg accuracy: 83.21749877929688, Val loss: 0.03404782081544399, Val accuracy: 65.51\n",
      "Val acc did not improve from 65.99000000000001\n"
     ]
    },
    {
     "name": "stderr",
     "output_type": "stream",
     "text": [
      "Done 100.0%, Epoch: 156, Loss: 0.7087926864624023, Accuracy: 81.25%: : 1250it [00:11, 104.85it/s]                 \n"
     ]
    },
    {
     "name": "stdout",
     "output_type": "stream",
     "text": [
      "Avg loss: 0.4993552207350731, Avg accuracy: 83.22249603271484, Val loss: 0.03395606846511364, Val accuracy: 65.47\n",
      "Val acc did not improve from 65.99000000000001\n"
     ]
    },
    {
     "name": "stderr",
     "output_type": "stream",
     "text": [
      "Done 100.0%, Epoch: 157, Loss: 0.4871303141117096, Accuracy: 78.125%: : 1250it [00:12, 99.22it/s]                 \n"
     ]
    },
    {
     "name": "stdout",
     "output_type": "stream",
     "text": [
      "Avg loss: 0.49973730127811433, Avg accuracy: 83.27249908447266, Val loss: 0.03420928966999054, Val accuracy: 65.31\n",
      "Val acc did not improve from 65.99000000000001\n"
     ]
    },
    {
     "name": "stderr",
     "output_type": "stream",
     "text": [
      "Done 100.0%, Epoch: 158, Loss: 0.46162527799606323, Accuracy: 81.25%: : 1250it [00:12, 101.18it/s]               \n"
     ]
    },
    {
     "name": "stdout",
     "output_type": "stream",
     "text": [
      "Avg loss: 0.5003701792001725, Avg accuracy: 83.2074966430664, Val loss: 0.03409129416942597, Val accuracy: 65.53\n",
      "Val acc did not improve from 65.99000000000001\n"
     ]
    },
    {
     "name": "stderr",
     "output_type": "stream",
     "text": [
      "Done 100.0%, Epoch: 159, Loss: 0.5246354937553406, Accuracy: 81.25%: : 1250it [00:12, 103.85it/s]                 \n"
     ]
    },
    {
     "name": "stdout",
     "output_type": "stream",
     "text": [
      "Avg loss: 0.4997069296956062, Avg accuracy: 83.31499481201172, Val loss: 0.034004854196310046, Val accuracy: 65.67\n",
      "Val acc did not improve from 65.99000000000001\n"
     ]
    },
    {
     "name": "stderr",
     "output_type": "stream",
     "text": [
      "Done 100.0%, Epoch: 160, Loss: 0.363635390996933, Accuracy: 87.5%: : 1250it [00:12, 102.09it/s]                   \n"
     ]
    },
    {
     "name": "stdout",
     "output_type": "stream",
     "text": [
      "Avg loss: 0.4978190491557121, Avg accuracy: 83.3324966430664, Val loss: 0.034070871224999424, Val accuracy: 65.41\n",
      "Val acc did not improve from 65.99000000000001\n"
     ]
    },
    {
     "name": "stderr",
     "output_type": "stream",
     "text": [
      "Done 100.0%, Epoch: 161, Loss: 0.5538819432258606, Accuracy: 78.125%: : 1250it [00:12, 100.48it/s]               \n"
     ]
    },
    {
     "name": "stdout",
     "output_type": "stream",
     "text": [
      "Avg loss: 0.4985958565592766, Avg accuracy: 83.22249603271484, Val loss: 0.034088186866045, Val accuracy: 65.11\n",
      "Val acc did not improve from 65.99000000000001\n"
     ]
    },
    {
     "name": "stderr",
     "output_type": "stream",
     "text": [
      "Done 100.0%, Epoch: 162, Loss: 0.4887455105781555, Accuracy: 84.375%: : 1250it [00:11, 105.73it/s]                \n"
     ]
    },
    {
     "name": "stdout",
     "output_type": "stream",
     "text": [
      "Avg loss: 0.49884477401971816, Avg accuracy: 83.21749877929688, Val loss: 0.034117658695578576, Val accuracy: 65.52\n",
      "Val acc did not improve from 65.99000000000001\n"
     ]
    },
    {
     "name": "stderr",
     "output_type": "stream",
     "text": [
      "Done 100.0%, Epoch: 163, Loss: 0.5953437089920044, Accuracy: 81.25%: : 1250it [00:11, 106.18it/s]                 \n"
     ]
    },
    {
     "name": "stdout",
     "output_type": "stream",
     "text": [
      "Avg loss: 0.4987757428884506, Avg accuracy: 83.4124984741211, Val loss: 0.03395852079689503, Val accuracy: 65.3\n",
      "Val acc did not improve from 65.99000000000001\n"
     ]
    },
    {
     "name": "stderr",
     "output_type": "stream",
     "text": [
      "Done 100.0%, Epoch: 164, Loss: 0.4857534170150757, Accuracy: 87.5%: : 1250it [00:12, 96.54it/s]                   \n"
     ]
    },
    {
     "name": "stdout",
     "output_type": "stream",
     "text": [
      "Avg loss: 0.49715932232141496, Avg accuracy: 83.31499481201172, Val loss: 0.0338937617957592, Val accuracy: 65.34\n",
      "Val acc did not improve from 65.99000000000001\n"
     ]
    },
    {
     "name": "stderr",
     "output_type": "stream",
     "text": [
      "Done 100.0%, Epoch: 165, Loss: 0.383056104183197, Accuracy: 87.5%: : 1250it [00:13, 91.54it/s]                   \n"
     ]
    },
    {
     "name": "stdout",
     "output_type": "stream",
     "text": [
      "Avg loss: 0.4985605627417564, Avg accuracy: 83.23999786376953, Val loss: 0.03408449608981609, Val accuracy: 65.55\n",
      "Val acc did not improve from 65.99000000000001\n"
     ]
    },
    {
     "name": "stderr",
     "output_type": "stream",
     "text": [
      "Done 100.0%, Epoch: 166, Loss: 0.5309351682662964, Accuracy: 75.0%: : 1250it [00:12, 101.88it/s]                 \n"
     ]
    },
    {
     "name": "stdout",
     "output_type": "stream",
     "text": [
      "Avg loss: 0.49725287926197054, Avg accuracy: 83.2249984741211, Val loss: 0.0340567734926939, Val accuracy: 65.73\n",
      "Val acc did not improve from 65.99000000000001\n"
     ]
    },
    {
     "name": "stderr",
     "output_type": "stream",
     "text": [
      "Done 100.0%, Epoch: 167, Loss: 0.23240599036216736, Accuracy: 93.75%: : 1250it [00:12, 103.61it/s]                \n"
     ]
    },
    {
     "name": "stdout",
     "output_type": "stream",
     "text": [
      "Avg loss: 0.4971156025528908, Avg accuracy: 83.53250122070312, Val loss: 0.033910351744294166, Val accuracy: 65.61\n",
      "Val acc did not improve from 65.99000000000001\n"
     ]
    },
    {
     "name": "stderr",
     "output_type": "stream",
     "text": [
      "Done 100.0%, Epoch: 168, Loss: 0.41540756821632385, Accuracy: 93.75%: : 1250it [00:12, 103.05it/s]                \n"
     ]
    },
    {
     "name": "stdout",
     "output_type": "stream",
     "text": [
      "Avg loss: 0.4958503415584564, Avg accuracy: 83.4324951171875, Val loss: 0.0339335572719574, Val accuracy: 65.33\n",
      "Val acc did not improve from 65.99000000000001\n"
     ]
    },
    {
     "name": "stderr",
     "output_type": "stream",
     "text": [
      "Done 100.0%, Epoch: 169, Loss: 0.45556357502937317, Accuracy: 78.125%: : 1250it [00:11, 105.41it/s]               \n"
     ]
    },
    {
     "name": "stdout",
     "output_type": "stream",
     "text": [
      "Avg loss: 0.4983567048192024, Avg accuracy: 83.29000091552734, Val loss: 0.034036979106068614, Val accuracy: 65.4\n",
      "Val acc did not improve from 65.99000000000001\n"
     ]
    },
    {
     "name": "stderr",
     "output_type": "stream",
     "text": [
      "Done 100.0%, Epoch: 170, Loss: 0.3974722921848297, Accuracy: 84.375%: : 1250it [00:12, 96.93it/s]                \n"
     ]
    },
    {
     "name": "stdout",
     "output_type": "stream",
     "text": [
      "Avg loss: 0.4988470309257507, Avg accuracy: 83.2699966430664, Val loss: 0.03403399713337421, Val accuracy: 65.75\n",
      "Val acc did not improve from 65.99000000000001\n"
     ]
    },
    {
     "name": "stderr",
     "output_type": "stream",
     "text": [
      "Done 100.0%, Epoch: 171, Loss: 0.4794764220714569, Accuracy: 90.625%: : 1250it [00:12, 98.93it/s]                \n"
     ]
    },
    {
     "name": "stdout",
     "output_type": "stream",
     "text": [
      "Avg loss: 0.4968787453174591, Avg accuracy: 83.60499572753906, Val loss: 0.03401297989785671, Val accuracy: 65.46\n",
      "Val acc did not improve from 65.99000000000001\n"
     ]
    },
    {
     "name": "stderr",
     "output_type": "stream",
     "text": [
      "Done 100.0%, Epoch: 172, Loss: 0.47638240456581116, Accuracy: 81.25%: : 1250it [00:12, 100.70it/s]                \n"
     ]
    },
    {
     "name": "stdout",
     "output_type": "stream",
     "text": [
      "Avg loss: 0.4987606390357017, Avg accuracy: 83.33999633789062, Val loss: 0.0341756660848856, Val accuracy: 65.41\n",
      "Val acc did not improve from 65.99000000000001\n"
     ]
    },
    {
     "name": "stderr",
     "output_type": "stream",
     "text": [
      "Done 100.0%, Epoch: 173, Loss: 0.39907097816467285, Accuracy: 87.5%: : 1250it [00:12, 101.87it/s]                \n"
     ]
    },
    {
     "name": "stdout",
     "output_type": "stream",
     "text": [
      "Avg loss: 0.49769325450658797, Avg accuracy: 83.18999481201172, Val loss: 0.0339680816501379, Val accuracy: 65.44\n",
      "Val acc did not improve from 65.99000000000001\n"
     ]
    },
    {
     "name": "stderr",
     "output_type": "stream",
     "text": [
      "Done 100.0%, Epoch: 174, Loss: 0.3820188045501709, Accuracy: 93.75%: : 1250it [00:12, 100.39it/s]                \n"
     ]
    },
    {
     "name": "stdout",
     "output_type": "stream",
     "text": [
      "Avg loss: 0.4997157085299492, Avg accuracy: 83.45499420166016, Val loss: 0.03389774820804596, Val accuracy: 65.46\n",
      "Val acc did not improve from 65.99000000000001\n"
     ]
    },
    {
     "name": "stderr",
     "output_type": "stream",
     "text": [
      "Done 100.0%, Epoch: 175, Loss: 0.4764004647731781, Accuracy: 84.375%: : 1250it [00:13, 95.98it/s]                \n"
     ]
    },
    {
     "name": "stdout",
     "output_type": "stream",
     "text": [
      "Avg loss: 0.49890743976831436, Avg accuracy: 83.26749420166016, Val loss: 0.0339461277037859, Val accuracy: 65.68\n",
      "Val acc did not improve from 65.99000000000001\n"
     ]
    },
    {
     "name": "stderr",
     "output_type": "stream",
     "text": [
      "Done 100.0%, Epoch: 176, Loss: 0.5175639390945435, Accuracy: 84.375%: : 1250it [00:12, 100.90it/s]                \n"
     ]
    },
    {
     "name": "stdout",
     "output_type": "stream",
     "text": [
      "Avg loss: 0.4998496524691582, Avg accuracy: 83.22249603271484, Val loss: 0.0339818348377943, Val accuracy: 65.58\n",
      "Val acc did not improve from 65.99000000000001\n"
     ]
    },
    {
     "name": "stderr",
     "output_type": "stream",
     "text": [
      "Done 100.0%, Epoch: 177, Loss: 0.6031352281570435, Accuracy: 78.125%: : 1250it [00:12, 102.32it/s]                \n"
     ]
    },
    {
     "name": "stdout",
     "output_type": "stream",
     "text": [
      "Avg loss: 0.49725833903551103, Avg accuracy: 83.37999725341797, Val loss: 0.0341230829924345, Val accuracy: 65.03999999999999\n",
      "Val acc did not improve from 65.99000000000001\n"
     ]
    },
    {
     "name": "stderr",
     "output_type": "stream",
     "text": [
      "Done 100.0%, Epoch: 178, Loss: 0.42883428931236267, Accuracy: 84.375%: : 1250it [00:12, 101.33it/s]               \n"
     ]
    },
    {
     "name": "stdout",
     "output_type": "stream",
     "text": [
      "Avg loss: 0.49775911607742307, Avg accuracy: 83.29999542236328, Val loss: 0.034095551997423174, Val accuracy: 65.42\n",
      "Val acc did not improve from 65.99000000000001\n"
     ]
    },
    {
     "name": "stderr",
     "output_type": "stream",
     "text": [
      "Done 100.0%, Epoch: 179, Loss: 0.5527944564819336, Accuracy: 81.25%: : 1250it [00:12, 98.27it/s]                  \n"
     ]
    },
    {
     "name": "stdout",
     "output_type": "stream",
     "text": [
      "Avg loss: 0.4998258587002754, Avg accuracy: 83.20999908447266, Val loss: 0.03400617847442627, Val accuracy: 65.18\n",
      "Val acc did not improve from 65.99000000000001\n"
     ]
    },
    {
     "name": "stderr",
     "output_type": "stream",
     "text": [
      "Done 100.0%, Epoch: 180, Loss: 0.4560205340385437, Accuracy: 84.375%: : 1250it [00:11, 104.40it/s]                \n"
     ]
    },
    {
     "name": "stdout",
     "output_type": "stream",
     "text": [
      "Avg loss: 0.49729614971876146, Avg accuracy: 83.3125, Val loss: 0.03406542465686798, Val accuracy: 65.11\n",
      "Val acc did not improve from 65.99000000000001\n"
     ]
    },
    {
     "name": "stderr",
     "output_type": "stream",
     "text": [
      "Done 100.0%, Epoch: 181, Loss: 0.37979745864868164, Accuracy: 87.5%: : 1250it [00:12, 101.99it/s]                 \n"
     ]
    },
    {
     "name": "stdout",
     "output_type": "stream",
     "text": [
      "Avg loss: 0.4978528265714645, Avg accuracy: 83.22249603271484, Val loss: 0.0338950960278511, Val accuracy: 65.28\n",
      "Val acc did not improve from 65.99000000000001\n"
     ]
    },
    {
     "name": "stderr",
     "output_type": "stream",
     "text": [
      "Done 100.0%, Epoch: 182, Loss: 0.33977094292640686, Accuracy: 90.625%: : 1250it [00:12, 101.83it/s]              \n"
     ]
    },
    {
     "name": "stdout",
     "output_type": "stream",
     "text": [
      "Avg loss: 0.4978850132346153, Avg accuracy: 83.24749755859375, Val loss: 0.03409277248978615, Val accuracy: 65.58\n",
      "Val acc did not improve from 65.99000000000001\n"
     ]
    },
    {
     "name": "stderr",
     "output_type": "stream",
     "text": [
      "Done 100.0%, Epoch: 183, Loss: 0.532707691192627, Accuracy: 78.125%: : 1250it [00:12, 102.10it/s]                \n"
     ]
    },
    {
     "name": "stdout",
     "output_type": "stream",
     "text": [
      "Avg loss: 0.4976817785203457, Avg accuracy: 83.5374984741211, Val loss: 0.034031996816396716, Val accuracy: 65.64999999999999\n",
      "Val acc did not improve from 65.99000000000001\n"
     ]
    },
    {
     "name": "stderr",
     "output_type": "stream",
     "text": [
      "Done 100.0%, Epoch: 184, Loss: 0.5249491333961487, Accuracy: 84.375%: : 1250it [00:12, 103.61it/s]               \n"
     ]
    },
    {
     "name": "stdout",
     "output_type": "stream",
     "text": [
      "Avg loss: 0.49872575818300247, Avg accuracy: 83.3125, Val loss: 0.033931262221932414, Val accuracy: 65.56\n",
      "Val acc did not improve from 65.99000000000001\n"
     ]
    },
    {
     "name": "stderr",
     "output_type": "stream",
     "text": [
      "Done 100.0%, Epoch: 185, Loss: 0.2900918424129486, Accuracy: 90.625%: : 1250it [00:12, 98.84it/s]                 \n"
     ]
    },
    {
     "name": "stdout",
     "output_type": "stream",
     "text": [
      "Avg loss: 0.499840387737751, Avg accuracy: 83.29249572753906, Val loss: 0.03421613592803478, Val accuracy: 65.14\n",
      "Val acc did not improve from 65.99000000000001\n"
     ]
    },
    {
     "name": "stderr",
     "output_type": "stream",
     "text": [
      "Done 100.0%, Epoch: 186, Loss: 0.3789263665676117, Accuracy: 87.5%: : 1250it [00:12, 101.22it/s]                 \n"
     ]
    },
    {
     "name": "stdout",
     "output_type": "stream",
     "text": [
      "Avg loss: 0.49762841031551364, Avg accuracy: 83.44999694824219, Val loss: 0.03393049473464489, Val accuracy: 65.42999999999999\n",
      "Val acc did not improve from 65.99000000000001\n"
     ]
    },
    {
     "name": "stderr",
     "output_type": "stream",
     "text": [
      "Done 100.0%, Epoch: 187, Loss: 0.7848802208900452, Accuracy: 84.375%: : 1250it [00:12, 102.93it/s]                \n"
     ]
    },
    {
     "name": "stdout",
     "output_type": "stream",
     "text": [
      "Avg loss: 0.4978643631219864, Avg accuracy: 83.38999938964844, Val loss: 0.034052199083566666, Val accuracy: 65.18\n",
      "Val acc did not improve from 65.99000000000001\n"
     ]
    },
    {
     "name": "stderr",
     "output_type": "stream",
     "text": [
      "Done 100.0%, Epoch: 188, Loss: 0.540829598903656, Accuracy: 75.0%: : 1250it [00:13, 92.42it/s]                    \n"
     ]
    },
    {
     "name": "stdout",
     "output_type": "stream",
     "text": [
      "Avg loss: 0.4993843099832535, Avg accuracy: 83.24250030517578, Val loss: 0.03404023461341858, Val accuracy: 65.32\n",
      "Val acc did not improve from 65.99000000000001\n"
     ]
    },
    {
     "name": "stderr",
     "output_type": "stream",
     "text": [
      "Done 100.0%, Epoch: 189, Loss: 0.2507387697696686, Accuracy: 96.875%: : 1250it [00:12, 98.03it/s]                 \n"
     ]
    },
    {
     "name": "stdout",
     "output_type": "stream",
     "text": [
      "Avg loss: 0.4971727724313736, Avg accuracy: 83.44999694824219, Val loss: 0.03396565502285957, Val accuracy: 65.79\n",
      "Val acc did not improve from 65.99000000000001\n"
     ]
    },
    {
     "name": "stderr",
     "output_type": "stream",
     "text": [
      "Done 100.0%, Epoch: 190, Loss: 0.5463660359382629, Accuracy: 81.25%: : 1250it [00:11, 105.05it/s]                 \n"
     ]
    },
    {
     "name": "stdout",
     "output_type": "stream",
     "text": [
      "Avg loss: 0.49848178120851516, Avg accuracy: 83.44999694824219, Val loss: 0.03393399069011211, Val accuracy: 65.64\n",
      "Val acc did not improve from 65.99000000000001\n"
     ]
    },
    {
     "name": "stderr",
     "output_type": "stream",
     "text": [
      "Done 100.0%, Epoch: 191, Loss: 0.2701418697834015, Accuracy: 96.875%: : 1250it [00:12, 102.18it/s]               \n"
     ]
    },
    {
     "name": "stdout",
     "output_type": "stream",
     "text": [
      "Avg loss: 0.49769005757570267, Avg accuracy: 83.38749694824219, Val loss: 0.033897938179969785, Val accuracy: 65.41\n",
      "Val acc did not improve from 65.99000000000001\n"
     ]
    },
    {
     "name": "stderr",
     "output_type": "stream",
     "text": [
      "Done 100.0%, Epoch: 192, Loss: 0.7142468094825745, Accuracy: 65.625%: : 1250it [00:11, 106.11it/s]                \n"
     ]
    },
    {
     "name": "stdout",
     "output_type": "stream",
     "text": [
      "Avg loss: 0.49805407638549803, Avg accuracy: 83.29249572753906, Val loss: 0.033901551568508145, Val accuracy: 65.78\n",
      "Val acc did not improve from 65.99000000000001\n"
     ]
    },
    {
     "name": "stderr",
     "output_type": "stream",
     "text": [
      "Done 100.0%, Epoch: 193, Loss: 0.47205889225006104, Accuracy: 87.5%: : 1250it [00:12, 103.74it/s]                 \n"
     ]
    },
    {
     "name": "stdout",
     "output_type": "stream",
     "text": [
      "Avg loss: 0.4989989454269409, Avg accuracy: 83.35749816894531, Val loss: 0.034041585108637806, Val accuracy: 65.35\n",
      "Val acc did not improve from 65.99000000000001\n"
     ]
    },
    {
     "name": "stderr",
     "output_type": "stream",
     "text": [
      "Done 100.0%, Epoch: 194, Loss: 0.3933633863925934, Accuracy: 84.375%: : 1250it [00:09, 130.01it/s]                \n"
     ]
    },
    {
     "name": "stdout",
     "output_type": "stream",
     "text": [
      "Avg loss: 0.49728818629980087, Avg accuracy: 83.23249816894531, Val loss: 0.03412992998659611, Val accuracy: 65.21000000000001\n",
      "Val acc did not improve from 65.99000000000001\n"
     ]
    },
    {
     "name": "stderr",
     "output_type": "stream",
     "text": [
      "Done 100.0%, Epoch: 195, Loss: 0.45135173201560974, Accuracy: 81.25%: : 1250it [00:09, 131.30it/s]                \n"
     ]
    },
    {
     "name": "stdout",
     "output_type": "stream",
     "text": [
      "Avg loss: 0.49843963564634325, Avg accuracy: 83.11499786376953, Val loss: 0.033978200113773345, Val accuracy: 65.3\n",
      "Val acc did not improve from 65.99000000000001\n"
     ]
    },
    {
     "name": "stderr",
     "output_type": "stream",
     "text": [
      "Done 100.0%, Epoch: 196, Loss: 0.5275833606719971, Accuracy: 81.25%: : 1250it [00:08, 144.10it/s]                 \n"
     ]
    },
    {
     "name": "stdout",
     "output_type": "stream",
     "text": [
      "Avg loss: 0.4970242044091225, Avg accuracy: 83.28499603271484, Val loss: 0.034020741859078406, Val accuracy: 65.46\n",
      "Val acc did not improve from 65.99000000000001\n"
     ]
    },
    {
     "name": "stderr",
     "output_type": "stream",
     "text": [
      "Done 100.0%, Epoch: 197, Loss: 0.3357175886631012, Accuracy: 87.5%: : 1250it [00:11, 107.47it/s]                 \n"
     ]
    },
    {
     "name": "stdout",
     "output_type": "stream",
     "text": [
      "Avg loss: 0.49921372148990634, Avg accuracy: 83.28250122070312, Val loss: 0.034265817427635195, Val accuracy: 65.09\n",
      "Val acc did not improve from 65.99000000000001\n"
     ]
    },
    {
     "name": "stderr",
     "output_type": "stream",
     "text": [
      "Done 100.0%, Epoch: 198, Loss: 0.5875018239021301, Accuracy: 78.125%: : 1250it [00:09, 126.69it/s]                \n"
     ]
    },
    {
     "name": "stdout",
     "output_type": "stream",
     "text": [
      "Avg loss: 0.4986479867696762, Avg accuracy: 83.36750030517578, Val loss: 0.03386122795939445, Val accuracy: 65.42\n",
      "Val acc did not improve from 65.99000000000001\n"
     ]
    },
    {
     "name": "stderr",
     "output_type": "stream",
     "text": [
      "Done 100.0%, Epoch: 199, Loss: 0.49412864446640015, Accuracy: 84.375%: : 1250it [00:09, 129.72it/s]               \n"
     ]
    },
    {
     "name": "stdout",
     "output_type": "stream",
     "text": [
      "Avg loss: 0.49854504874348643, Avg accuracy: 83.37749481201172, Val loss: 0.03415079381763935, Val accuracy: 65.42\n",
      "Val acc did not improve from 65.99000000000001\n",
      "Finished Training\n"
     ]
    }
   ],
   "source": [
    "from model import Net\n",
    "net = Net(BATCH_SIZE)\n",
    "\n",
    "print(net)\n",
    "\n",
    "net.fit(trainloader, 200, valloader)"
   ]
  },
  {
   "cell_type": "code",
   "execution_count": 8,
   "metadata": {},
   "outputs": [
    {
     "name": "stdout",
     "output_type": "stream",
     "text": [
      "Test acc: 66.05%, test loss: 0.03354053070545197\n"
     ]
    }
   ],
   "source": [
    "acc, loss = net.test(testloader)\n",
    "print(f'Test acc: {acc}%, test loss: {loss}')"
   ]
  },
  {
   "cell_type": "code",
   "execution_count": null,
   "metadata": {},
   "outputs": [],
   "source": []
  }
 ],
 "metadata": {
  "kernelspec": {
   "display_name": "Python 3",
   "language": "python",
   "name": "python3"
  },
  "language_info": {
   "codemirror_mode": {
    "name": "ipython",
    "version": 3
   },
   "file_extension": ".py",
   "mimetype": "text/x-python",
   "name": "python",
   "nbconvert_exporter": "python",
   "pygments_lexer": "ipython3",
   "version": "3.7.7"
  }
 },
 "nbformat": 4,
 "nbformat_minor": 4
}
