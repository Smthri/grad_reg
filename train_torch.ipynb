{
 "cells": [
  {
   "cell_type": "code",
   "execution_count": 1,
   "metadata": {},
   "outputs": [
    {
     "data": {
      "text/plain": [
       "'1.7.1'"
      ]
     },
     "execution_count": 1,
     "metadata": {},
     "output_type": "execute_result"
    }
   ],
   "source": [
    "import torch\n",
    "import torchvision\n",
    "import torchvision.transforms as transforms\n",
    "import numpy as np\n",
    "from matplotlib import pyplot as plt\n",
    "import torch.nn as nn\n",
    "import torch.nn.functional as F\n",
    "import torch.optim as optim\n",
    "from tqdm import tqdm\n",
    "import os\n",
    "import torchvision.models as tmodels\n",
    "from termcolor import colored\n",
    "%matplotlib inline\n",
    "torch.__version__"
   ]
  },
  {
   "cell_type": "code",
   "execution_count": 2,
   "metadata": {},
   "outputs": [
    {
     "name": "stdout",
     "output_type": "stream",
     "text": [
      "Files already downloaded and verified\n",
      "Files already downloaded and verified\n"
     ]
    }
   ],
   "source": [
    "#data\n",
    "transform = transforms.Compose([\n",
    "    transforms.ToTensor(),\n",
    "    transforms.Normalize((.5, .5, .5), (.5, .5, .5))\n",
    "])\n",
    "\n",
    "BATCH_SIZE=32\n",
    "\n",
    "trainset = torchvision.datasets.CIFAR10(root='./data', train=True,\n",
    "                                        download=True, transform=transform)\n",
    "train_subset, val_subset = torch.utils.data.random_split(trainset, [40000, 10000])\n",
    "\n",
    "trainloader = torch.utils.data.DataLoader(train_subset, batch_size=BATCH_SIZE,\n",
    "                                          shuffle=True, num_workers=2)\n",
    "valloader = torch.utils.data.DataLoader(val_subset, batch_size=BATCH_SIZE,\n",
    "                                          shuffle=True, num_workers=2)\n",
    "\n",
    "testset = torchvision.datasets.CIFAR10(root='./data', train=False,\n",
    "                                       download=True, transform=transform)\n",
    "testloader = torch.utils.data.DataLoader(testset, batch_size=BATCH_SIZE,\n",
    "                                         shuffle=False, num_workers=2)\n",
    "\n",
    "classes = ('plane', 'car', 'bird', 'cat',\n",
    "           'deer', 'dog', 'frog', 'horse', 'ship', 'truck')"
   ]
  },
  {
   "cell_type": "code",
   "execution_count": 3,
   "metadata": {},
   "outputs": [
    {
     "name": "stdout",
     "output_type": "stream",
     "text": [
      "Net(\n",
      "  (conv1): Conv2d(3, 6, kernel_size=(5, 5), stride=(1, 1))\n",
      "  (bn1): BatchNorm2d(6, eps=1e-05, momentum=0.1, affine=True, track_running_stats=True)\n",
      "  (pool): MaxPool2d(kernel_size=2, stride=2, padding=0, dilation=1, ceil_mode=False)\n",
      "  (conv2): Conv2d(6, 16, kernel_size=(5, 5), stride=(1, 1))\n",
      "  (bn2): BatchNorm2d(16, eps=1e-05, momentum=0.1, affine=True, track_running_stats=True)\n",
      "  (fc1): Linear(in_features=400, out_features=120, bias=True)\n",
      "  (fc2): Linear(in_features=120, out_features=10, bias=True)\n",
      "  (act): Softmax(dim=-1)\n",
      ")\n"
     ]
    }
   ],
   "source": [
    "from model import Net\n",
    "net = Net(BATCH_SIZE)\n",
    "\n",
    "print(net)\n",
    "\n",
    "def train(epochs):\n",
    "    min_acc = -np.inf\n",
    "    epoch_losses = []\n",
    "    epoch_accs = []\n",
    "    for epoch in range(epochs):  # loop over the dataset multiple times\n",
    "\n",
    "        epoch_loss = 0.0\n",
    "        epoch_acc = 0.\n",
    "        val_acc = -np.inf\n",
    "        val_loss = np.inf\n",
    "        pbar = tqdm(enumerate(trainloader, 0))\n",
    "        for i, data in pbar:\n",
    "            # get the inputs; data is a list of [inputs, labels]\n",
    "            inputs, labels = data[0].to(net.device), data[1].to(net.device)\n",
    "\n",
    "            # zero the parameter gradients\n",
    "            net.optimizer.zero_grad()\n",
    "\n",
    "            # forward + backward + optimize\n",
    "            outputs = net(inputs)\n",
    "            loss = net.loss_fn(outputs, labels)\n",
    "            loss.backward()\n",
    "            net.optimizer.step()\n",
    "\n",
    "            pred = torch.argmax(outputs, axis=1)\n",
    "            running_acc = (pred == labels).float().sum() / BATCH_SIZE * 100\n",
    "            running_loss = loss.item()\n",
    "\n",
    "            epoch_acc += running_acc\n",
    "            epoch_loss += running_loss\n",
    "\n",
    "            # print statistics\n",
    "            pbar.set_description(f'Epoch: {epoch}, Done {(i + 1)/len(trainloader) * 100}%, Loss: {running_loss}, Accuracy: {running_acc}%')\n",
    "            pbar.update(BATCH_SIZE)\n",
    "        pbar.close()\n",
    "\n",
    "        val_acc, val_loss = test(valloader)\n",
    "\n",
    "        net.scheduler.step(val_loss)\n",
    "        \n",
    "        epoch_loss /= len(trainloader)\n",
    "        epoch_acc /= len(trainloader)\n",
    "        \n",
    "        epoch_losses.append(epoch_loss)\n",
    "        epoch_accs.append(epoch_acc)\n",
    "\n",
    "        print(f\"Avg loss: {colored(str(epoch_loss), 'green')}, Avg accuracy: {colored(str(epoch_acc.item()), 'red')}, Val loss: {val_loss}, Val accuracy: {val_acc}\")\n",
    "\n",
    "        if val_acc > min_acc:\n",
    "            print(f'Improved val acc from {min_acc} to {val_acc}, saving model')\n",
    "            min_acc = val_acc\n",
    "            net.save()\n",
    "        else:\n",
    "            print(f'Val acc did not improve from {min_acc}')\n",
    "\n",
    "    print('Finished Training')\n",
    "    return epoch_accs, epoch_losses\n",
    "\n",
    "def test(dataloader):\n",
    "    correct = 0.\n",
    "    total = 0.\n",
    "    loss = 0.\n",
    "    with torch.no_grad():\n",
    "        for data in dataloader:\n",
    "            images, labels = data[0].to(net.device), data[1].to(net.device)\n",
    "            outputs = net(images)\n",
    "            loss += net.loss_fn(outputs, labels).item()\n",
    "            _, predicted = torch.max(outputs.data, 1)\n",
    "            total += labels.size(0)\n",
    "            correct += (predicted == labels).sum().item()\n",
    "\n",
    "    return correct / total * 100, loss / total\n",
    "    "
   ]
  },
  {
   "cell_type": "code",
   "execution_count": 4,
   "metadata": {},
   "outputs": [
    {
     "name": "stderr",
     "output_type": "stream",
     "text": [
      "Epoch: 0, Done 100.0%, Loss: 1.1926008462905884, Accuracy: 56.25%: : 1250it [00:09, 132.09it/s]                \n"
     ]
    },
    {
     "name": "stdout",
     "output_type": "stream",
     "text": [
      "Avg loss: \u001b[32m1.473853985786438\u001b[0m, Avg accuracy: \u001b[31m46.64500045776367\u001b[0m, Val loss: 0.04139217493534088, Val accuracy: 52.75\n",
      "Improved val acc from -inf to 52.75, saving model\n"
     ]
    },
    {
     "name": "stderr",
     "output_type": "stream",
     "text": [
      "Epoch: 1, Done 100.0%, Loss: 1.154412031173706, Accuracy: 62.5%: : 1250it [00:09, 132.41it/s]                  \n"
     ]
    },
    {
     "name": "stdout",
     "output_type": "stream",
     "text": [
      "Avg loss: \u001b[32m1.2197619728565217\u001b[0m, Avg accuracy: \u001b[31m56.38999938964844\u001b[0m, Val loss: 0.03823292698860169, Val accuracy: 57.34\n",
      "Improved val acc from 52.75 to 57.34, saving model\n"
     ]
    },
    {
     "name": "stderr",
     "output_type": "stream",
     "text": [
      "Epoch: 2, Done 100.0%, Loss: 1.176527500152588, Accuracy: 62.5%: : 1250it [00:09, 135.73it/s]                  \n"
     ]
    },
    {
     "name": "stdout",
     "output_type": "stream",
     "text": [
      "Avg loss: \u001b[32m1.1185725759506226\u001b[0m, Avg accuracy: \u001b[31m60.20499801635742\u001b[0m, Val loss: 0.0350285901427269, Val accuracy: 60.8\n",
      "Improved val acc from 57.34 to 60.8, saving model\n"
     ]
    },
    {
     "name": "stderr",
     "output_type": "stream",
     "text": [
      "Epoch: 3, Done 100.0%, Loss: 1.2666642665863037, Accuracy: 62.5%: : 1250it [00:09, 132.11it/s]                 \n"
     ]
    },
    {
     "name": "stdout",
     "output_type": "stream",
     "text": [
      "Avg loss: \u001b[32m1.0511551582813263\u001b[0m, Avg accuracy: \u001b[31m62.75749969482422\u001b[0m, Val loss: 0.033914921659231184, Val accuracy: 61.46\n",
      "Improved val acc from 60.8 to 61.46, saving model\n"
     ]
    },
    {
     "name": "stderr",
     "output_type": "stream",
     "text": [
      "Epoch: 4, Done 100.0%, Loss: 0.8859657049179077, Accuracy: 65.625%: : 1250it [00:09, 132.43it/s]               \n"
     ]
    },
    {
     "name": "stdout",
     "output_type": "stream",
     "text": [
      "Avg loss: \u001b[32m0.9967156314134598\u001b[0m, Avg accuracy: \u001b[31m64.80249786376953\u001b[0m, Val loss: 0.033760360145568845, Val accuracy: 62.29\n",
      "Improved val acc from 61.46 to 62.29, saving model\n"
     ]
    },
    {
     "name": "stderr",
     "output_type": "stream",
     "text": [
      "Epoch: 5, Done 100.0%, Loss: 0.8733826279640198, Accuracy: 62.5%: : 1250it [00:09, 130.14it/s]                 \n"
     ]
    },
    {
     "name": "stdout",
     "output_type": "stream",
     "text": [
      "Avg loss: \u001b[32m0.951310887336731\u001b[0m, Avg accuracy: \u001b[31m66.58999633789062\u001b[0m, Val loss: 0.033429078659415246, Val accuracy: 63.27\n",
      "Improved val acc from 62.29 to 63.27, saving model\n"
     ]
    },
    {
     "name": "stderr",
     "output_type": "stream",
     "text": [
      "Epoch: 6, Done 100.0%, Loss: 0.9510334134101868, Accuracy: 68.75%: : 1250it [00:09, 137.40it/s]                \n"
     ]
    },
    {
     "name": "stdout",
     "output_type": "stream",
     "text": [
      "Avg loss: \u001b[32m0.914884925198555\u001b[0m, Avg accuracy: \u001b[31m67.81499481201172\u001b[0m, Val loss: 0.03185213212966919, Val accuracy: 64.46\n",
      "Improved val acc from 63.27 to 64.46, saving model\n"
     ]
    },
    {
     "name": "stderr",
     "output_type": "stream",
     "text": [
      "Epoch: 7, Done 100.0%, Loss: 0.715619683265686, Accuracy: 71.875%: : 1250it [00:09, 134.65it/s]                 \n"
     ]
    },
    {
     "name": "stdout",
     "output_type": "stream",
     "text": [
      "Avg loss: \u001b[32m0.8795078122377396\u001b[0m, Avg accuracy: \u001b[31m68.77999877929688\u001b[0m, Val loss: 0.03186752808094025, Val accuracy: 64.56\n",
      "Improved val acc from 64.46 to 64.56, saving model\n"
     ]
    },
    {
     "name": "stderr",
     "output_type": "stream",
     "text": [
      "Epoch: 8, Done 100.0%, Loss: 0.6898714303970337, Accuracy: 68.75%: : 1250it [00:09, 135.92it/s]                 \n"
     ]
    },
    {
     "name": "stdout",
     "output_type": "stream",
     "text": [
      "Avg loss: \u001b[32m0.8535380349397659\u001b[0m, Avg accuracy: \u001b[31m69.88999938964844\u001b[0m, Val loss: 0.031840933895111084, Val accuracy: 65.12\n",
      "Improved val acc from 64.56 to 65.12, saving model\n"
     ]
    },
    {
     "name": "stderr",
     "output_type": "stream",
     "text": [
      "Epoch: 9, Done 100.0%, Loss: 0.8620725870132446, Accuracy: 71.875%: : 1250it [00:09, 132.63it/s]               \n"
     ]
    },
    {
     "name": "stdout",
     "output_type": "stream",
     "text": [
      "Avg loss: \u001b[32m0.8246450659751892\u001b[0m, Avg accuracy: \u001b[31m71.0\u001b[0m, Val loss: 0.032420337790250775, Val accuracy: 64.38000000000001\n",
      "Val acc did not improve from 65.12\n"
     ]
    },
    {
     "name": "stderr",
     "output_type": "stream",
     "text": [
      "Epoch: 10, Done 100.0%, Loss: 1.1590520143508911, Accuracy: 62.5%: : 1250it [00:09, 129.17it/s]                 \n"
     ]
    },
    {
     "name": "stdout",
     "output_type": "stream",
     "text": [
      "Avg loss: \u001b[32m0.8050168173789978\u001b[0m, Avg accuracy: \u001b[31m71.8125\u001b[0m, Val loss: 0.03216720452606678, Val accuracy: 64.38000000000001\n",
      "Val acc did not improve from 65.12\n"
     ]
    },
    {
     "name": "stderr",
     "output_type": "stream",
     "text": [
      "Epoch: 11, Done 100.0%, Loss: 0.8076329231262207, Accuracy: 78.125%: : 1250it [00:09, 127.27it/s]               \n"
     ]
    },
    {
     "name": "stdout",
     "output_type": "stream",
     "text": [
      "Avg loss: \u001b[32m0.7847910149812698\u001b[0m, Avg accuracy: \u001b[31m72.28499603271484\u001b[0m, Val loss: 0.03151771841645241, Val accuracy: 65.34\n",
      "Improved val acc from 65.12 to 65.34, saving model\n"
     ]
    },
    {
     "name": "stderr",
     "output_type": "stream",
     "text": [
      "Epoch: 12, Done 100.0%, Loss: 1.155470371246338, Accuracy: 59.375%: : 1250it [00:09, 132.04it/s]                 \n"
     ]
    },
    {
     "name": "stdout",
     "output_type": "stream",
     "text": [
      "Avg loss: \u001b[32m0.7616339210748673\u001b[0m, Avg accuracy: \u001b[31m73.06749725341797\u001b[0m, Val loss: 0.032139586919546125, Val accuracy: 64.86\n",
      "Val acc did not improve from 65.34\n"
     ]
    },
    {
     "name": "stderr",
     "output_type": "stream",
     "text": [
      "Epoch: 13, Done 100.0%, Loss: 0.5671999454498291, Accuracy: 81.25%: : 1250it [00:09, 133.18it/s]                 \n"
     ]
    },
    {
     "name": "stdout",
     "output_type": "stream",
     "text": [
      "Avg loss: \u001b[32m0.7481698528051376\u001b[0m, Avg accuracy: \u001b[31m73.7249984741211\u001b[0m, Val loss: 0.03148675557672977, Val accuracy: 65.2\n",
      "Val acc did not improve from 65.34\n"
     ]
    },
    {
     "name": "stderr",
     "output_type": "stream",
     "text": [
      "Epoch: 14, Done 100.0%, Loss: 0.6666924357414246, Accuracy: 84.375%: : 1250it [00:09, 131.61it/s]               \n"
     ]
    },
    {
     "name": "stdout",
     "output_type": "stream",
     "text": [
      "Avg loss: \u001b[32m0.7290759099245071\u001b[0m, Avg accuracy: \u001b[31m74.33999633789062\u001b[0m, Val loss: 0.03184468516409397, Val accuracy: 65.32\n",
      "Val acc did not improve from 65.34\n"
     ]
    },
    {
     "name": "stderr",
     "output_type": "stream",
     "text": [
      "Epoch: 15, Done 100.0%, Loss: 0.5151363611221313, Accuracy: 84.375%: : 1250it [00:09, 133.43it/s]               \n"
     ]
    },
    {
     "name": "stdout",
     "output_type": "stream",
     "text": [
      "Avg loss: \u001b[32m0.7156553141593933\u001b[0m, Avg accuracy: \u001b[31m74.90249633789062\u001b[0m, Val loss: 0.03242746599912644, Val accuracy: 65.53999999999999\n",
      "Improved val acc from 65.34 to 65.53999999999999, saving model\n"
     ]
    },
    {
     "name": "stderr",
     "output_type": "stream",
     "text": [
      "Epoch: 16, Done 100.0%, Loss: 0.8280926942825317, Accuracy: 75.0%: : 1250it [00:08, 141.59it/s]                  \n"
     ]
    },
    {
     "name": "stdout",
     "output_type": "stream",
     "text": [
      "Avg loss: \u001b[32m0.7043902327895164\u001b[0m, Avg accuracy: \u001b[31m75.1199951171875\u001b[0m, Val loss: 0.03281599678993225, Val accuracy: 64.91\n",
      "Val acc did not improve from 65.53999999999999\n"
     ]
    },
    {
     "name": "stderr",
     "output_type": "stream",
     "text": [
      "Epoch: 17, Done 100.0%, Loss: 0.7947034239768982, Accuracy: 65.625%: : 1250it [00:09, 130.83it/s]                \n"
     ]
    },
    {
     "name": "stdout",
     "output_type": "stream",
     "text": [
      "Avg loss: \u001b[32m0.6908296799421311\u001b[0m, Avg accuracy: \u001b[31m75.44999694824219\u001b[0m, Val loss: 0.033176857960224154, Val accuracy: 64.71000000000001\n",
      "Val acc did not improve from 65.53999999999999\n"
     ]
    },
    {
     "name": "stderr",
     "output_type": "stream",
     "text": [
      "Epoch: 18, Done 100.0%, Loss: 0.7239672541618347, Accuracy: 65.625%: : 1250it [00:09, 131.89it/s]                \n"
     ]
    },
    {
     "name": "stdout",
     "output_type": "stream",
     "text": [
      "Avg loss: \u001b[32m0.6757757076025009\u001b[0m, Avg accuracy: \u001b[31m76.20249938964844\u001b[0m, Val loss: 0.03215190882086754, Val accuracy: 65.86999999999999\n",
      "Improved val acc from 65.53999999999999 to 65.86999999999999, saving model\n"
     ]
    },
    {
     "name": "stderr",
     "output_type": "stream",
     "text": [
      "Epoch: 19, Done 100.0%, Loss: 0.6609452962875366, Accuracy: 75.0%: : 1250it [00:09, 134.94it/s]                  \n"
     ]
    },
    {
     "name": "stdout",
     "output_type": "stream",
     "text": [
      "Avg loss: \u001b[32m0.6678009138464928\u001b[0m, Avg accuracy: \u001b[31m76.51249694824219\u001b[0m, Val loss: 0.033858462378382685, Val accuracy: 64.94\n",
      "Val acc did not improve from 65.86999999999999\n"
     ]
    },
    {
     "name": "stderr",
     "output_type": "stream",
     "text": [
      "Epoch: 20, Done 100.0%, Loss: 1.0677266120910645, Accuracy: 59.375%: : 1250it [00:08, 147.66it/s]                \n"
     ]
    },
    {
     "name": "stdout",
     "output_type": "stream",
     "text": [
      "Avg loss: \u001b[32m0.6568628183126449\u001b[0m, Avg accuracy: \u001b[31m76.92749786376953\u001b[0m, Val loss: 0.03378791528344154, Val accuracy: 65.14\n",
      "Val acc did not improve from 65.86999999999999\n"
     ]
    },
    {
     "name": "stderr",
     "output_type": "stream",
     "text": [
      "Epoch: 21, Done 100.0%, Loss: 0.8151556253433228, Accuracy: 71.875%: : 1250it [00:09, 135.98it/s]                \n"
     ]
    },
    {
     "name": "stdout",
     "output_type": "stream",
     "text": [
      "Avg loss: \u001b[32m0.6437054002404213\u001b[0m, Avg accuracy: \u001b[31m77.36750030517578\u001b[0m, Val loss: 0.03371505384147167, Val accuracy: 64.95\n",
      "Val acc did not improve from 65.86999999999999\n"
     ]
    },
    {
     "name": "stderr",
     "output_type": "stream",
     "text": [
      "Epoch: 22, Done 100.0%, Loss: 0.7275519371032715, Accuracy: 75.0%: : 1250it [00:09, 135.07it/s]                  \n"
     ]
    },
    {
     "name": "stdout",
     "output_type": "stream",
     "text": [
      "Avg loss: \u001b[32m0.6352451801538468\u001b[0m, Avg accuracy: \u001b[31m77.43999481201172\u001b[0m, Val loss: 0.035258229303359985, Val accuracy: 63.82\n",
      "Val acc did not improve from 65.86999999999999\n"
     ]
    },
    {
     "name": "stderr",
     "output_type": "stream",
     "text": [
      "Epoch: 23, Done 100.0%, Loss: 0.9828417897224426, Accuracy: 68.75%: : 1250it [00:09, 131.00it/s]                 \n"
     ]
    },
    {
     "name": "stdout",
     "output_type": "stream",
     "text": [
      "Avg loss: \u001b[32m0.6293697764635086\u001b[0m, Avg accuracy: \u001b[31m77.80999755859375\u001b[0m, Val loss: 0.034654273462295535, Val accuracy: 64.05\n",
      "Val acc did not improve from 65.86999999999999\n"
     ]
    },
    {
     "name": "stderr",
     "output_type": "stream",
     "text": [
      "Epoch: 24, Done 100.0%, Loss: 0.5521488785743713, Accuracy: 75.0%: : 1250it [00:09, 138.02it/s]                  \n"
     ]
    },
    {
     "name": "stdout",
     "output_type": "stream",
     "text": [
      "Avg loss: \u001b[32m0.6162097872257233\u001b[0m, Avg accuracy: \u001b[31m78.23500061035156\u001b[0m, Val loss: 0.03410680747330189, Val accuracy: 65.14999999999999\n",
      "Val acc did not improve from 65.86999999999999\n"
     ]
    },
    {
     "name": "stderr",
     "output_type": "stream",
     "text": [
      "Epoch: 25, Done 100.0%, Loss: 0.4096943438053131, Accuracy: 81.25%: : 1250it [00:09, 132.01it/s]                 \n"
     ]
    },
    {
     "name": "stdout",
     "output_type": "stream",
     "text": [
      "Avg loss: \u001b[32m0.49050106208324434\u001b[0m, Avg accuracy: \u001b[31m83.3375015258789\u001b[0m, Val loss: 0.03259001868069172, Val accuracy: 66.71000000000001\n",
      "Improved val acc from 65.86999999999999 to 66.71000000000001, saving model\n"
     ]
    },
    {
     "name": "stderr",
     "output_type": "stream",
     "text": [
      "Epoch: 26, Done 100.0%, Loss: 0.47111964225769043, Accuracy: 87.5%: : 1250it [00:08, 139.49it/s]                 \n"
     ]
    },
    {
     "name": "stdout",
     "output_type": "stream",
     "text": [
      "Avg loss: \u001b[32m0.46612102301120756\u001b[0m, Avg accuracy: \u001b[31m84.41999816894531\u001b[0m, Val loss: 0.0331144211769104, Val accuracy: 66.47\n",
      "Val acc did not improve from 66.71000000000001\n"
     ]
    },
    {
     "name": "stderr",
     "output_type": "stream",
     "text": [
      "Epoch: 27, Done 100.0%, Loss: 0.5230350494384766, Accuracy: 78.125%: : 1250it [00:09, 131.79it/s]                \n"
     ]
    },
    {
     "name": "stdout",
     "output_type": "stream",
     "text": [
      "Avg loss: \u001b[32m0.45868227468729017\u001b[0m, Avg accuracy: \u001b[31m84.68000030517578\u001b[0m, Val loss: 0.033194420900940894, Val accuracy: 66.36\n",
      "Val acc did not improve from 66.71000000000001\n"
     ]
    },
    {
     "name": "stderr",
     "output_type": "stream",
     "text": [
      "Epoch: 28, Done 100.0%, Loss: 0.38860398530960083, Accuracy: 87.5%: : 1250it [00:09, 134.50it/s]                 \n"
     ]
    },
    {
     "name": "stdout",
     "output_type": "stream",
     "text": [
      "Avg loss: \u001b[32m0.4506673856496811\u001b[0m, Avg accuracy: \u001b[31m85.05249786376953\u001b[0m, Val loss: 0.03349539370536804, Val accuracy: 66.47\n",
      "Val acc did not improve from 66.71000000000001\n"
     ]
    },
    {
     "name": "stderr",
     "output_type": "stream",
     "text": [
      "Epoch: 29, Done 100.0%, Loss: 0.7619739174842834, Accuracy: 81.25%: : 1250it [00:09, 133.53it/s]                 \n"
     ]
    },
    {
     "name": "stdout",
     "output_type": "stream",
     "text": [
      "Avg loss: \u001b[32m0.4464780005335808\u001b[0m, Avg accuracy: \u001b[31m85.23749542236328\u001b[0m, Val loss: 0.03352343859374523, Val accuracy: 66.29\n",
      "Val acc did not improve from 66.71000000000001\n"
     ]
    },
    {
     "name": "stderr",
     "output_type": "stream",
     "text": [
      "Epoch: 30, Done 100.0%, Loss: 0.4020136892795563, Accuracy: 84.375%: : 1250it [00:09, 130.01it/s]                \n"
     ]
    },
    {
     "name": "stdout",
     "output_type": "stream",
     "text": [
      "Avg loss: \u001b[32m0.43910508958101274\u001b[0m, Avg accuracy: \u001b[31m85.41999816894531\u001b[0m, Val loss: 0.033826033720374106, Val accuracy: 66.49000000000001\n",
      "Val acc did not improve from 66.71000000000001\n"
     ]
    },
    {
     "name": "stderr",
     "output_type": "stream",
     "text": [
      "Epoch: 31, Done 100.0%, Loss: 0.28557801246643066, Accuracy: 90.625%: : 1250it [00:09, 138.83it/s]               \n"
     ]
    },
    {
     "name": "stdout",
     "output_type": "stream",
     "text": [
      "Avg loss: \u001b[32m0.4380990117192268\u001b[0m, Avg accuracy: \u001b[31m85.36000061035156\u001b[0m, Val loss: 0.034293546444177626, Val accuracy: 65.75999999999999\n",
      "Val acc did not improve from 66.71000000000001\n"
     ]
    },
    {
     "name": "stderr",
     "output_type": "stream",
     "text": [
      "Epoch: 32, Done 100.0%, Loss: 0.4936729073524475, Accuracy: 90.625%: : 1250it [00:09, 135.46it/s]                \n"
     ]
    },
    {
     "name": "stdout",
     "output_type": "stream",
     "text": [
      "Avg loss: \u001b[32m0.43103933045864107\u001b[0m, Avg accuracy: \u001b[31m85.78499603271484\u001b[0m, Val loss: 0.03409908916056156, Val accuracy: 66.47999999999999\n",
      "Val acc did not improve from 66.71000000000001\n"
     ]
    },
    {
     "name": "stderr",
     "output_type": "stream",
     "text": [
      "Epoch: 33, Done 100.0%, Loss: 0.3757333755493164, Accuracy: 87.5%: : 1250it [00:09, 136.66it/s]                  \n"
     ]
    },
    {
     "name": "stdout",
     "output_type": "stream",
     "text": [
      "Avg loss: \u001b[32m0.4262019063472748\u001b[0m, Avg accuracy: \u001b[31m85.86499786376953\u001b[0m, Val loss: 0.034567857933044434, Val accuracy: 66.46\n",
      "Val acc did not improve from 66.71000000000001\n"
     ]
    },
    {
     "name": "stderr",
     "output_type": "stream",
     "text": [
      "Epoch: 34, Done 100.0%, Loss: 0.530451238155365, Accuracy: 71.875%: : 1250it [00:09, 132.25it/s]                 \n"
     ]
    },
    {
     "name": "stdout",
     "output_type": "stream",
     "text": [
      "Avg loss: \u001b[32m0.42308704748153686\u001b[0m, Avg accuracy: \u001b[31m85.94749450683594\u001b[0m, Val loss: 0.03458531468212604, Val accuracy: 65.9\n",
      "Val acc did not improve from 66.71000000000001\n"
     ]
    },
    {
     "name": "stderr",
     "output_type": "stream",
     "text": [
      "Epoch: 35, Done 100.0%, Loss: 0.429269403219223, Accuracy: 81.25%: : 1250it [00:09, 133.03it/s]                  \n"
     ]
    },
    {
     "name": "stdout",
     "output_type": "stream",
     "text": [
      "Avg loss: \u001b[32m0.41650030155181883\u001b[0m, Avg accuracy: \u001b[31m86.22999572753906\u001b[0m, Val loss: 0.034988123470544814, Val accuracy: 66.17\n",
      "Val acc did not improve from 66.71000000000001\n"
     ]
    },
    {
     "name": "stderr",
     "output_type": "stream",
     "text": [
      "Epoch: 36, Done 100.0%, Loss: 0.20211777091026306, Accuracy: 96.875%: : 1250it [00:09, 136.76it/s]               \n"
     ]
    },
    {
     "name": "stdout",
     "output_type": "stream",
     "text": [
      "Avg loss: \u001b[32m0.4023094412922859\u001b[0m, Avg accuracy: \u001b[31m86.8324966430664\u001b[0m, Val loss: 0.034706919997930526, Val accuracy: 66.12\n",
      "Val acc did not improve from 66.71000000000001\n"
     ]
    },
    {
     "name": "stderr",
     "output_type": "stream",
     "text": [
      "Epoch: 37, Done 100.0%, Loss: 0.37284916639328003, Accuracy: 87.5%: : 1250it [00:09, 134.42it/s]                 \n"
     ]
    },
    {
     "name": "stdout",
     "output_type": "stream",
     "text": [
      "Avg loss: \u001b[32m0.3998225825250149\u001b[0m, Avg accuracy: \u001b[31m86.93000030517578\u001b[0m, Val loss: 0.034677526435256005, Val accuracy: 65.97\n",
      "Val acc did not improve from 66.71000000000001\n"
     ]
    },
    {
     "name": "stderr",
     "output_type": "stream",
     "text": [
      "Epoch: 38, Done 100.0%, Loss: 0.6344979405403137, Accuracy: 75.0%: : 1250it [00:09, 133.35it/s]                  \n"
     ]
    },
    {
     "name": "stdout",
     "output_type": "stream",
     "text": [
      "Avg loss: \u001b[32m0.40116694628596306\u001b[0m, Avg accuracy: \u001b[31m87.01499938964844\u001b[0m, Val loss: 0.03453056657910347, Val accuracy: 66.05\n",
      "Val acc did not improve from 66.71000000000001\n"
     ]
    },
    {
     "name": "stderr",
     "output_type": "stream",
     "text": [
      "Epoch: 39, Done 100.0%, Loss: 0.34327247738838196, Accuracy: 87.5%: : 1250it [00:09, 134.18it/s]                 \n"
     ]
    },
    {
     "name": "stdout",
     "output_type": "stream",
     "text": [
      "Avg loss: \u001b[32m0.3997112148523331\u001b[0m, Avg accuracy: \u001b[31m87.2074966430664\u001b[0m, Val loss: 0.034704873457551, Val accuracy: 65.88000000000001\n",
      "Val acc did not improve from 66.71000000000001\n"
     ]
    },
    {
     "name": "stderr",
     "output_type": "stream",
     "text": [
      "Epoch: 40, Done 100.0%, Loss: 0.30806469917297363, Accuracy: 87.5%: : 1250it [00:09, 133.32it/s]                 \n"
     ]
    },
    {
     "name": "stdout",
     "output_type": "stream",
     "text": [
      "Avg loss: \u001b[32m0.4010334979236126\u001b[0m, Avg accuracy: \u001b[31m87.14249420166016\u001b[0m, Val loss: 0.034588503682613375, Val accuracy: 66.38\n",
      "Val acc did not improve from 66.71000000000001\n"
     ]
    },
    {
     "name": "stderr",
     "output_type": "stream",
     "text": [
      "Epoch: 41, Done 100.0%, Loss: 0.4932871460914612, Accuracy: 84.375%: : 1250it [00:09, 138.37it/s]                \n"
     ]
    },
    {
     "name": "stdout",
     "output_type": "stream",
     "text": [
      "Avg loss: \u001b[32m0.4002677213907242\u001b[0m, Avg accuracy: \u001b[31m86.98249816894531\u001b[0m, Val loss: 0.03475839637517929, Val accuracy: 66.28\n",
      "Val acc did not improve from 66.71000000000001\n"
     ]
    },
    {
     "name": "stderr",
     "output_type": "stream",
     "text": [
      "Epoch: 42, Done 100.0%, Loss: 0.5362998843193054, Accuracy: 81.25%: : 1250it [00:09, 132.91it/s]                 \n"
     ]
    },
    {
     "name": "stdout",
     "output_type": "stream",
     "text": [
      "Avg loss: \u001b[32m0.39591001524329184\u001b[0m, Avg accuracy: \u001b[31m87.28499603271484\u001b[0m, Val loss: 0.03496564985811711, Val accuracy: 66.10000000000001\n",
      "Val acc did not improve from 66.71000000000001\n"
     ]
    },
    {
     "name": "stderr",
     "output_type": "stream",
     "text": [
      "Epoch: 43, Done 100.0%, Loss: 0.3310316205024719, Accuracy: 84.375%: : 1250it [00:09, 127.38it/s]                \n"
     ]
    },
    {
     "name": "stdout",
     "output_type": "stream",
     "text": [
      "Avg loss: \u001b[32m0.39685774772167204\u001b[0m, Avg accuracy: \u001b[31m86.98749542236328\u001b[0m, Val loss: 0.034855595445632936, Val accuracy: 65.97\n",
      "Val acc did not improve from 66.71000000000001\n"
     ]
    },
    {
     "name": "stderr",
     "output_type": "stream",
     "text": [
      "Epoch: 44, Done 100.0%, Loss: 0.30950596928596497, Accuracy: 90.625%: : 1250it [00:09, 130.04it/s]               \n"
     ]
    },
    {
     "name": "stdout",
     "output_type": "stream",
     "text": [
      "Avg loss: \u001b[32m0.3976827142596245\u001b[0m, Avg accuracy: \u001b[31m87.04000091552734\u001b[0m, Val loss: 0.03477691874802113, Val accuracy: 66.06\n",
      "Val acc did not improve from 66.71000000000001\n"
     ]
    },
    {
     "name": "stderr",
     "output_type": "stream",
     "text": [
      "Epoch: 45, Done 100.0%, Loss: 0.39594152569770813, Accuracy: 87.5%: : 1250it [00:10, 123.15it/s]                 \n"
     ]
    },
    {
     "name": "stdout",
     "output_type": "stream",
     "text": [
      "Avg loss: \u001b[32m0.3947064967870712\u001b[0m, Avg accuracy: \u001b[31m87.16500091552734\u001b[0m, Val loss: 0.034769683310389515, Val accuracy: 66.45\n",
      "Val acc did not improve from 66.71000000000001\n"
     ]
    },
    {
     "name": "stderr",
     "output_type": "stream",
     "text": [
      "Epoch: 46, Done 100.0%, Loss: 0.48898133635520935, Accuracy: 87.5%: : 1250it [00:09, 132.88it/s]                 \n"
     ]
    },
    {
     "name": "stdout",
     "output_type": "stream",
     "text": [
      "Avg loss: \u001b[32m0.3986230304002762\u001b[0m, Avg accuracy: \u001b[31m86.89249420166016\u001b[0m, Val loss: 0.03469808702766895, Val accuracy: 66.19\n",
      "Val acc did not improve from 66.71000000000001\n"
     ]
    },
    {
     "name": "stderr",
     "output_type": "stream",
     "text": [
      "Epoch: 47, Done 100.0%, Loss: 0.3284149467945099, Accuracy: 84.375%: : 1250it [00:08, 139.68it/s]                \n"
     ]
    },
    {
     "name": "stdout",
     "output_type": "stream",
     "text": [
      "Avg loss: \u001b[32m0.39571133967638017\u001b[0m, Avg accuracy: \u001b[31m87.1624984741211\u001b[0m, Val loss: 0.035011351150274275, Val accuracy: 65.82000000000001\n",
      "Val acc did not improve from 66.71000000000001\n"
     ]
    },
    {
     "name": "stderr",
     "output_type": "stream",
     "text": [
      "Epoch: 48, Done 100.0%, Loss: 0.4270666241645813, Accuracy: 87.5%: : 1250it [00:09, 131.42it/s]                  \n"
     ]
    },
    {
     "name": "stdout",
     "output_type": "stream",
     "text": [
      "Avg loss: \u001b[32m0.3935151367366314\u001b[0m, Avg accuracy: \u001b[31m87.16749572753906\u001b[0m, Val loss: 0.03484170407652855, Val accuracy: 65.86\n",
      "Val acc did not improve from 66.71000000000001\n"
     ]
    },
    {
     "name": "stderr",
     "output_type": "stream",
     "text": [
      "Epoch: 49, Done 100.0%, Loss: 0.2745915353298187, Accuracy: 90.625%: : 1250it [00:09, 136.42it/s]                \n"
     ]
    },
    {
     "name": "stdout",
     "output_type": "stream",
     "text": [
      "Avg loss: \u001b[32m0.39398388079404834\u001b[0m, Avg accuracy: \u001b[31m87.27749633789062\u001b[0m, Val loss: 0.034668894681334494, Val accuracy: 66.33\n",
      "Val acc did not improve from 66.71000000000001\n"
     ]
    },
    {
     "name": "stderr",
     "output_type": "stream",
     "text": [
      "Epoch: 50, Done 100.0%, Loss: 0.3505191504955292, Accuracy: 87.5%: : 1250it [00:09, 133.01it/s]                  \n"
     ]
    },
    {
     "name": "stdout",
     "output_type": "stream",
     "text": [
      "Avg loss: \u001b[32m0.39322591017484665\u001b[0m, Avg accuracy: \u001b[31m87.31999969482422\u001b[0m, Val loss: 0.03485288777053356, Val accuracy: 66.24\n",
      "Val acc did not improve from 66.71000000000001\n"
     ]
    },
    {
     "name": "stderr",
     "output_type": "stream",
     "text": [
      "Epoch: 51, Done 100.0%, Loss: 0.387858122587204, Accuracy: 84.375%: : 1250it [00:09, 137.98it/s]                 \n"
     ]
    },
    {
     "name": "stdout",
     "output_type": "stream",
     "text": [
      "Avg loss: \u001b[32m0.39366482880711556\u001b[0m, Avg accuracy: \u001b[31m87.27249908447266\u001b[0m, Val loss: 0.03473423497974873, Val accuracy: 66.2\n",
      "Val acc did not improve from 66.71000000000001\n"
     ]
    },
    {
     "name": "stderr",
     "output_type": "stream",
     "text": [
      "Epoch: 52, Done 100.0%, Loss: 0.2554205358028412, Accuracy: 93.75%: : 1250it [00:08, 139.20it/s]                 \n"
     ]
    },
    {
     "name": "stdout",
     "output_type": "stream",
     "text": [
      "Avg loss: \u001b[32m0.39065642197728156\u001b[0m, Avg accuracy: \u001b[31m87.35250091552734\u001b[0m, Val loss: 0.034959649100899694, Val accuracy: 66.3\n",
      "Val acc did not improve from 66.71000000000001\n"
     ]
    },
    {
     "name": "stderr",
     "output_type": "stream",
     "text": [
      "Epoch: 53, Done 100.0%, Loss: 0.7286441326141357, Accuracy: 75.0%: : 1250it [00:09, 127.92it/s]                  \n"
     ]
    },
    {
     "name": "stdout",
     "output_type": "stream",
     "text": [
      "Avg loss: \u001b[32m0.3952330872774124\u001b[0m, Avg accuracy: \u001b[31m87.23249816894531\u001b[0m, Val loss: 0.0348412803798914, Val accuracy: 66.06\n",
      "Val acc did not improve from 66.71000000000001\n"
     ]
    },
    {
     "name": "stderr",
     "output_type": "stream",
     "text": [
      "Epoch: 54, Done 100.0%, Loss: 0.4084171950817108, Accuracy: 84.375%: : 1250it [00:08, 140.73it/s]                \n"
     ]
    },
    {
     "name": "stdout",
     "output_type": "stream",
     "text": [
      "Avg loss: \u001b[32m0.39347173414230346\u001b[0m, Avg accuracy: \u001b[31m87.25999450683594\u001b[0m, Val loss: 0.03488627919852733, Val accuracy: 65.97\n",
      "Val acc did not improve from 66.71000000000001\n"
     ]
    },
    {
     "name": "stderr",
     "output_type": "stream",
     "text": [
      "Epoch: 55, Done 100.0%, Loss: 0.42977219820022583, Accuracy: 87.5%: : 1250it [00:09, 131.95it/s]                 \n"
     ]
    },
    {
     "name": "stdout",
     "output_type": "stream",
     "text": [
      "Avg loss: \u001b[32m0.3951919064342976\u001b[0m, Avg accuracy: \u001b[31m87.11249542236328\u001b[0m, Val loss: 0.03494358071386814, Val accuracy: 65.82000000000001\n",
      "Val acc did not improve from 66.71000000000001\n"
     ]
    },
    {
     "name": "stderr",
     "output_type": "stream",
     "text": [
      "Epoch: 56, Done 100.0%, Loss: 0.19351276755332947, Accuracy: 96.875%: : 1250it [00:09, 131.51it/s]               \n"
     ]
    },
    {
     "name": "stdout",
     "output_type": "stream",
     "text": [
      "Avg loss: \u001b[32m0.39277820392251017\u001b[0m, Avg accuracy: \u001b[31m87.23249816894531\u001b[0m, Val loss: 0.034927759763598444, Val accuracy: 65.77\n",
      "Val acc did not improve from 66.71000000000001\n"
     ]
    },
    {
     "name": "stderr",
     "output_type": "stream",
     "text": [
      "Epoch: 57, Done 100.0%, Loss: 0.5442789793014526, Accuracy: 87.5%: : 1250it [00:09, 134.31it/s]                  \n"
     ]
    },
    {
     "name": "stdout",
     "output_type": "stream",
     "text": [
      "Avg loss: \u001b[32m0.3931697347998619\u001b[0m, Avg accuracy: \u001b[31m87.21749877929688\u001b[0m, Val loss: 0.03497451354265213, Val accuracy: 66.08000000000001\n",
      "Val acc did not improve from 66.71000000000001\n"
     ]
    },
    {
     "name": "stderr",
     "output_type": "stream",
     "text": [
      "Epoch: 58, Done 100.0%, Loss: 0.4015263617038727, Accuracy: 84.375%: : 1250it [00:09, 129.17it/s]                \n"
     ]
    },
    {
     "name": "stdout",
     "output_type": "stream",
     "text": [
      "Avg loss: \u001b[32m0.3940793618261814\u001b[0m, Avg accuracy: \u001b[31m87.21499633789062\u001b[0m, Val loss: 0.03496535478234291, Val accuracy: 66.39\n",
      "Val acc did not improve from 66.71000000000001\n"
     ]
    },
    {
     "name": "stderr",
     "output_type": "stream",
     "text": [
      "Epoch: 59, Done 100.0%, Loss: 0.16368092596530914, Accuracy: 93.75%: : 1250it [00:09, 129.39it/s]                \n"
     ]
    },
    {
     "name": "stdout",
     "output_type": "stream",
     "text": [
      "Avg loss: \u001b[32m0.3927514072716236\u001b[0m, Avg accuracy: \u001b[31m87.26749420166016\u001b[0m, Val loss: 0.03470043591856956, Val accuracy: 66.35\n",
      "Val acc did not improve from 66.71000000000001\n",
      "Finished Training\n",
      "Test acc: 65.94%, test loss: 0.035344260591268536\n"
     ]
    }
   ],
   "source": [
    "accs, losses = train(60)\n",
    "acc, loss = test(testloader)\n",
    "print(f'Test acc: {acc}%, test loss: {loss}')"
   ]
  },
  {
   "cell_type": "code",
   "execution_count": 5,
   "metadata": {},
   "outputs": [
    {
     "data": {
      "text/plain": [
       "[<matplotlib.lines.Line2D at 0x7f1080d5fc10>]"
      ]
     },
     "execution_count": 5,
     "metadata": {},
     "output_type": "execute_result"
    },
    {
     "data": {
      "image/png": "[encoded data removed]",
      "text/plain": [
       "<Figure size 432x288 with 1 Axes>"
      ]
     },
     "metadata": {
      "needs_background": "light"
     },
     "output_type": "display_data"
    }
   ],
   "source": [
    "plt.plot(losses, 'b')\n",
    "plt.plot(accs, 'y')"
   ]
  },
  {
   "cell_type": "code",
   "execution_count": null,
   "metadata": {},
   "outputs": [],
   "source": []
  }
 ],
 "metadata": {
  "kernelspec": {
   "display_name": "Python 3",
   "language": "python",
   "name": "python3"
  },
  "language_info": {
   "codemirror_mode": {
    "name": "ipython",
    "version": 3
   },
   "file_extension": ".py",
   "mimetype": "text/x-python",
   "name": "python",
   "nbconvert_exporter": "python",
   "pygments_lexer": "ipython3",
   "version": "3.7.7"
  }
 },
 "nbformat": 4,
 "nbformat_minor": 4
}
